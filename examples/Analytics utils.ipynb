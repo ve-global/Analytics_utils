{
 "cells": [
  {
   "cell_type": "markdown",
   "metadata": {},
   "source": [
    "# Summary\n",
    "\n",
    "\n",
    "This notebook show how to use utils functions to access LLD and Ve data.  \n",
    "We then present a use case to generate a report comparing LLD and API data.  \n",
    "\n",
    "\n",
    "**Note:** \n",
    " - the download of the report should take around 11min\n",
    " - to disable logs:\n",
    "    ```\n",
    "    import logging\n",
    "    logging.getLogger(\"analytics_utils\").setLevel(logging.INFO)\n",
    "    ```"
   ]
  },
  {
   "cell_type": "code",
   "execution_count": 1,
   "metadata": {
    "collapsed": false
   },
   "outputs": [
    {
     "data": {
      "text/plain": [
       "'/home/julien/Work/analytics_utils'"
      ]
     },
     "execution_count": 1,
     "metadata": {},
     "output_type": "execute_result"
    }
   ],
   "source": [
    "import os\n",
    "os.chdir('..')\n",
    "os.getcwd()"
   ]
  },
  {
   "cell_type": "code",
   "execution_count": 2,
   "metadata": {
    "collapsed": false
   },
   "outputs": [
    {
     "ename": "Exception",
     "evalue": "Java gateway process exited before sending the driver its port number",
     "output_type": "error",
     "traceback": [
      "\u001b[0;31m---------------------------------------------------------------------------\u001b[0m",
      "\u001b[0;31mException\u001b[0m                                 Traceback (most recent call last)",
      "\u001b[0;32m<ipython-input-2-612dc63daccd>\u001b[0m in \u001b[0;36m<module>\u001b[0;34m()\u001b[0m\n\u001b[1;32m     15\u001b[0m     \u001b[0;31m# sc, sql_context = init_spark_py3(NOTEBOOK_NAME, spark_home, archive)\u001b[0m\u001b[0;34m\u001b[0m\u001b[0;34m\u001b[0m\u001b[0m\n\u001b[1;32m     16\u001b[0m     \u001b[0;31m# If you want Python 2\u001b[0m\u001b[0;34m\u001b[0m\u001b[0;34m\u001b[0m\u001b[0m\n\u001b[0;32m---> 17\u001b[0;31m     \u001b[0msc\u001b[0m\u001b[0;34m,\u001b[0m \u001b[0msql_context\u001b[0m \u001b[0;34m=\u001b[0m \u001b[0minit_spark_py3\u001b[0m\u001b[0;34m(\u001b[0m\u001b[0mNOTEBOOK_NAME\u001b[0m\u001b[0;34m,\u001b[0m \u001b[0mspark_home\u001b[0m\u001b[0;34m,\u001b[0m \u001b[0marchive\u001b[0m\u001b[0;34m)\u001b[0m\u001b[0;34m\u001b[0m\u001b[0m\n\u001b[0m\u001b[1;32m     18\u001b[0m \u001b[0;32mexcept\u001b[0m \u001b[0mValueError\u001b[0m\u001b[0;34m:\u001b[0m\u001b[0;34m\u001b[0m\u001b[0m\n\u001b[1;32m     19\u001b[0m     \u001b[0msc\u001b[0m\u001b[0;34m.\u001b[0m\u001b[0mstop\u001b[0m\u001b[0;34m(\u001b[0m\u001b[0;34m)\u001b[0m\u001b[0;34m\u001b[0m\u001b[0m\n",
      "\u001b[0;32m/home/julien/Work/analytics_utils/analytics_utils/spark_utils.py\u001b[0m in \u001b[0;36minit_spark_py3\u001b[0;34m(notebook_name, spark_home, archive)\u001b[0m\n\u001b[1;32m     55\u001b[0m \u001b[0;34m\u001b[0m\u001b[0m\n\u001b[1;32m     56\u001b[0m     \u001b[0;31m# spark context\u001b[0m\u001b[0;34m\u001b[0m\u001b[0;34m\u001b[0m\u001b[0m\n\u001b[0;32m---> 57\u001b[0;31m     \u001b[0msc\u001b[0m \u001b[0;34m=\u001b[0m \u001b[0mSparkContext\u001b[0m\u001b[0;34m(\u001b[0m\u001b[0mappName\u001b[0m\u001b[0;34m=\u001b[0m\u001b[0mnotebook_name\u001b[0m\u001b[0;34m,\u001b[0m \u001b[0msparkHome\u001b[0m\u001b[0;34m=\u001b[0m\u001b[0mspark_home\u001b[0m\u001b[0;34m)\u001b[0m\u001b[0;34m\u001b[0m\u001b[0m\n\u001b[0m\u001b[1;32m     58\u001b[0m     \u001b[0msc\u001b[0m\u001b[0;34m.\u001b[0m\u001b[0msetLogLevel\u001b[0m\u001b[0;34m(\u001b[0m\u001b[0;34m'ERROR'\u001b[0m\u001b[0;34m)\u001b[0m\u001b[0;34m\u001b[0m\u001b[0m\n\u001b[1;32m     59\u001b[0m \u001b[0;34m\u001b[0m\u001b[0m\n",
      "\u001b[0;32m/home/julien/apps/spark-1.6.2/python/pyspark/context.py\u001b[0m in \u001b[0;36m__init__\u001b[0;34m(self, master, appName, sparkHome, pyFiles, environment, batchSize, serializer, conf, gateway, jsc, profiler_cls)\u001b[0m\n\u001b[1;32m    110\u001b[0m         \"\"\"\n\u001b[1;32m    111\u001b[0m         \u001b[0mself\u001b[0m\u001b[0;34m.\u001b[0m\u001b[0m_callsite\u001b[0m \u001b[0;34m=\u001b[0m \u001b[0mfirst_spark_call\u001b[0m\u001b[0;34m(\u001b[0m\u001b[0;34m)\u001b[0m \u001b[0;32mor\u001b[0m \u001b[0mCallSite\u001b[0m\u001b[0;34m(\u001b[0m\u001b[0;32mNone\u001b[0m\u001b[0;34m,\u001b[0m \u001b[0;32mNone\u001b[0m\u001b[0;34m,\u001b[0m \u001b[0;32mNone\u001b[0m\u001b[0;34m)\u001b[0m\u001b[0;34m\u001b[0m\u001b[0m\n\u001b[0;32m--> 112\u001b[0;31m         \u001b[0mSparkContext\u001b[0m\u001b[0;34m.\u001b[0m\u001b[0m_ensure_initialized\u001b[0m\u001b[0;34m(\u001b[0m\u001b[0mself\u001b[0m\u001b[0;34m,\u001b[0m \u001b[0mgateway\u001b[0m\u001b[0;34m=\u001b[0m\u001b[0mgateway\u001b[0m\u001b[0;34m)\u001b[0m\u001b[0;34m\u001b[0m\u001b[0m\n\u001b[0m\u001b[1;32m    113\u001b[0m         \u001b[0;32mtry\u001b[0m\u001b[0;34m:\u001b[0m\u001b[0;34m\u001b[0m\u001b[0m\n\u001b[1;32m    114\u001b[0m             self._do_init(master, appName, sparkHome, pyFiles, environment, batchSize, serializer,\n",
      "\u001b[0;32m/home/julien/apps/spark-1.6.2/python/pyspark/context.py\u001b[0m in \u001b[0;36m_ensure_initialized\u001b[0;34m(cls, instance, gateway)\u001b[0m\n\u001b[1;32m    243\u001b[0m         \u001b[0;32mwith\u001b[0m \u001b[0mSparkContext\u001b[0m\u001b[0;34m.\u001b[0m\u001b[0m_lock\u001b[0m\u001b[0;34m:\u001b[0m\u001b[0;34m\u001b[0m\u001b[0m\n\u001b[1;32m    244\u001b[0m             \u001b[0;32mif\u001b[0m \u001b[0;32mnot\u001b[0m \u001b[0mSparkContext\u001b[0m\u001b[0;34m.\u001b[0m\u001b[0m_gateway\u001b[0m\u001b[0;34m:\u001b[0m\u001b[0;34m\u001b[0m\u001b[0m\n\u001b[0;32m--> 245\u001b[0;31m                 \u001b[0mSparkContext\u001b[0m\u001b[0;34m.\u001b[0m\u001b[0m_gateway\u001b[0m \u001b[0;34m=\u001b[0m \u001b[0mgateway\u001b[0m \u001b[0;32mor\u001b[0m \u001b[0mlaunch_gateway\u001b[0m\u001b[0;34m(\u001b[0m\u001b[0;34m)\u001b[0m\u001b[0;34m\u001b[0m\u001b[0m\n\u001b[0m\u001b[1;32m    246\u001b[0m                 \u001b[0mSparkContext\u001b[0m\u001b[0;34m.\u001b[0m\u001b[0m_jvm\u001b[0m \u001b[0;34m=\u001b[0m \u001b[0mSparkContext\u001b[0m\u001b[0;34m.\u001b[0m\u001b[0m_gateway\u001b[0m\u001b[0;34m.\u001b[0m\u001b[0mjvm\u001b[0m\u001b[0;34m\u001b[0m\u001b[0m\n\u001b[1;32m    247\u001b[0m \u001b[0;34m\u001b[0m\u001b[0m\n",
      "\u001b[0;32m/home/julien/apps/spark-1.6.2/python/pyspark/java_gateway.py\u001b[0m in \u001b[0;36mlaunch_gateway\u001b[0;34m()\u001b[0m\n\u001b[1;32m     92\u001b[0m                 \u001b[0mcallback_socket\u001b[0m\u001b[0;34m.\u001b[0m\u001b[0mclose\u001b[0m\u001b[0;34m(\u001b[0m\u001b[0;34m)\u001b[0m\u001b[0;34m\u001b[0m\u001b[0m\n\u001b[1;32m     93\u001b[0m         \u001b[0;32mif\u001b[0m \u001b[0mgateway_port\u001b[0m \u001b[0;32mis\u001b[0m \u001b[0;32mNone\u001b[0m\u001b[0;34m:\u001b[0m\u001b[0;34m\u001b[0m\u001b[0m\n\u001b[0;32m---> 94\u001b[0;31m             \u001b[0;32mraise\u001b[0m \u001b[0mException\u001b[0m\u001b[0;34m(\u001b[0m\u001b[0;34m\"Java gateway process exited before sending the driver its port number\"\u001b[0m\u001b[0;34m)\u001b[0m\u001b[0;34m\u001b[0m\u001b[0m\n\u001b[0m\u001b[1;32m     95\u001b[0m \u001b[0;34m\u001b[0m\u001b[0m\n\u001b[1;32m     96\u001b[0m         \u001b[0;31m# In Windows, ensure the Java child processes do not linger after Python has exited.\u001b[0m\u001b[0;34m\u001b[0m\u001b[0;34m\u001b[0m\u001b[0m\n",
      "\u001b[0;31mException\u001b[0m: Java gateway process exited before sending the driver its port number"
     ]
    }
   ],
   "source": [
    "from analytics_utils.spark_utils import add_pyspark_path, init_spark_py3, init_spark_py2\n",
    "\n",
    "# spark_home =  '/usr/hdp/current/spark-client/'\n",
    "spark_home =  '/home/julien/apps/spark-1.6.2/'\n",
    "\n",
    "add_pyspark_path(spark_home)\n",
    "\n",
    "# Make sure that the .tar.gz is zipped in from the parent folder to pyspark3 and not /mnt/...\n",
    "# archive = \"/mnt/home/brayere/pyspark3.tar.gz#pyspark3\"\n",
    "archive = \"/home/julien/pyspark3.tar.gz#pyspark3\"\n",
    "\n",
    "NOTEBOOK_NAME = \"Analytics utils\"\n",
    "\n",
    "try:\n",
    "    # sc, sql_context = init_spark_py3(NOTEBOOK_NAME, spark_home, archive)\n",
    "    # If you want Python 2\n",
    "    sc, sql_context = init_spark_py3(NOTEBOOK_NAME, spark_home, archive)\n",
    "except ValueError:\n",
    "    sc.stop()\n",
    "    sc, sql_context = init_spark()"
   ]
  },
  {
   "cell_type": "markdown",
   "metadata": {},
   "source": [
    "# LLD"
   ]
  },
  {
   "cell_type": "code",
   "execution_count": 3,
   "metadata": {
    "collapsed": true
   },
   "outputs": [],
   "source": [
    "import matplotlib.pyplot as plt\n",
    "import seaborn as sns\n",
    "%matplotlib inline"
   ]
  },
  {
   "cell_type": "code",
   "execution_count": 4,
   "metadata": {
    "collapsed": false
   },
   "outputs": [],
   "source": [
    "from analytics_utils.data_feeds import DataFeeds\n",
    "from analytics_utils.feeds import VeCapture, AppNexus\n",
    "import analytics_utils.reports as reports"
   ]
  },
  {
   "cell_type": "markdown",
   "metadata": {},
   "source": [
    "**Let's look at the available data: **"
   ]
  },
  {
   "cell_type": "code",
   "execution_count": 5,
   "metadata": {
    "collapsed": false
   },
   "outputs": [
    {
     "name": "stdout",
     "output_type": "stream",
     "text": [
      "Available LLD feeds: ['standard', 'segment', 'pixel']\n",
      "Available VeData feeds: ['category_1d', 'category_7d', 'category_30d', 'page_view', 'categorizer']\n"
     ]
    }
   ],
   "source": [
    "print('Available LLD feeds: %s' % [x.name for x in AppNexus])\n",
    "print('Available VeData feeds: %s' % [x.name for x in VeCapture])"
   ]
  },
  {
   "cell_type": "markdown",
   "metadata": {},
   "source": [
    "**We only want the standard feed**"
   ]
  },
  {
   "cell_type": "code",
   "execution_count": 7,
   "metadata": {
    "collapsed": false
   },
   "outputs": [],
   "source": [
    "standard_feed = DataFeeds.get_feed_parquet(sql_context, AppNexus.standard, \n",
    "                                           from_date=\"2016-07-10\")"
   ]
  },
  {
   "cell_type": "markdown",
   "metadata": {},
   "source": [
    "**Note**: this is equivalent to\n",
    "```\n",
    "standard_feed = DataFeeds.get_feed_parquet(sqlContext, AppNexus.standard)\n",
    "standard_feed = standard_feed.filter(VeFuncs.filter_date(from_date=\"2016-07-01\"))\n",
    "```"
   ]
  },
  {
   "cell_type": "code",
   "execution_count": 8,
   "metadata": {
    "collapsed": false,
    "scrolled": true
   },
   "outputs": [
    {
     "name": "stdout",
     "output_type": "stream",
     "text": [
      "root\n",
      " |-- auction_id_64: long (nullable = true)\n",
      " |-- datetime: timestamp (nullable = true)\n",
      " |-- user_tz_offset: integer (nullable = true)\n",
      " |-- width: integer (nullable = true)\n",
      " |-- height: integer (nullable = true)\n",
      " |-- media_type: integer (nullable = true)\n",
      " |-- fold_position: integer (nullable = true)\n",
      " |-- event_type: string (nullable = true)\n",
      " |-- imp_type: integer (nullable = true)\n",
      " |-- payment_type: integer (nullable = true)\n",
      " |-- media_cost_dollars_cpm: double (nullable = true)\n",
      " |-- revenue_type: integer (nullable = true)\n",
      " |-- buyer_spend: double (nullable = true)\n",
      " |-- buyer_bid: double (nullable = true)\n",
      " |-- ecp: double (nullable = true)\n",
      " |-- eap: double (nullable = true)\n",
      " |-- is_imp: integer (nullable = true)\n",
      " |-- is_learn: integer (nullable = true)\n",
      " |-- predict_type_rev: integer (nullable = true)\n",
      " |-- othuser_id_64: long (nullable = true)\n",
      " |-- ip_address: string (nullable = true)\n",
      " |-- ip_address_trunc: string (nullable = true)\n",
      " |-- geo_country: string (nullable = true)\n",
      " |-- geo_region: string (nullable = true)\n",
      " |-- operating_system: integer (nullable = true)\n",
      " |-- browser: integer (nullable = true)\n",
      " |-- language: integer (nullable = true)\n",
      " |-- venue_id: integer (nullable = true)\n",
      " |-- seller_member_id: integer (nullable = true)\n",
      " |-- publisher_id: integer (nullable = true)\n",
      " |-- site_id: integer (nullable = true)\n",
      " |-- site_domain: string (nullable = true)\n",
      " |-- tag_id: integer (nullable = true)\n",
      " |-- external_inv_id: integer (nullable = true)\n",
      " |-- reserve_price: double (nullable = true)\n",
      " |-- seller_revenue_cpm: double (nullable = true)\n",
      " |-- media_buy_rev_share_pct: double (nullable = true)\n",
      " |-- pub_rule_id: integer (nullable = true)\n",
      " |-- seller_currency: string (nullable = true)\n",
      " |-- publisher_currency: string (nullable = true)\n",
      " |-- publisher_exchange_rate: double (nullable = true)\n",
      " |-- serving_fees_cpm: double (nullable = true)\n",
      " |-- serving_fees_revshare: double (nullable = true)\n",
      " |-- buyer_member_id: integer (nullable = true)\n",
      " |-- advertiser_id: integer (nullable = true)\n",
      " |-- brand_id: integer (nullable = true)\n",
      " |-- advertiser_frequency: integer (nullable = true)\n",
      " |-- advertiser_recency: integer (nullable = true)\n",
      " |-- insertion_order_id: integer (nullable = true)\n",
      " |-- campaign_group_id: integer (nullable = true)\n",
      " |-- campaign_id: integer (nullable = true)\n",
      " |-- creative_id: integer (nullable = true)\n",
      " |-- creative_freq: integer (nullable = true)\n",
      " |-- creative_rec: integer (nullable = true)\n",
      " |-- cadence_modifier: double (nullable = true)\n",
      " |-- can_convert: integer (nullable = true)\n",
      " |-- user_group_id: integer (nullable = true)\n",
      " |-- is_control: integer (nullable = true)\n",
      " |-- control_pct: double (nullable = true)\n",
      " |-- control_creative_id: integer (nullable = true)\n",
      " |-- is_click: integer (nullable = true)\n",
      " |-- pixel_id: integer (nullable = true)\n",
      " |-- is_remarketing: integer (nullable = true)\n",
      " |-- post_click_conv: integer (nullable = true)\n",
      " |-- post_view_conv: integer (nullable = true)\n",
      " |-- post_click_revenue: double (nullable = true)\n",
      " |-- post_view_revenue: double (nullable = true)\n",
      " |-- order_id: string (nullable = true)\n",
      " |-- external_data: string (nullable = true)\n",
      " |-- pricing_type: string (nullable = true)\n",
      " |-- booked_revenue_dollars: double (nullable = true)\n",
      " |-- booked_revenue_adv_curr: double (nullable = true)\n",
      " |-- commission_cpm: double (nullable = true)\n",
      " |-- commission_revshare: double (nullable = true)\n",
      " |-- auction_service_deduction: double (nullable = true)\n",
      " |-- auction_service_fees: double (nullable = true)\n",
      " |-- creative_overage_fees: double (nullable = true)\n",
      " |-- clear_fees: double (nullable = true)\n",
      " |-- buyer_currency: string (nullable = true)\n",
      " |-- advertiser_currency: string (nullable = true)\n",
      " |-- advertiser_exchange_rate: double (nullable = true)\n",
      " |-- latitude: double (nullable = true)\n",
      " |-- longitude: double (nullable = true)\n",
      " |-- device_unique_id: string (nullable = true)\n",
      " |-- device_model_id: integer (nullable = true)\n",
      " |-- carrier_id: integer (nullable = true)\n",
      " |-- deal_id: integer (nullable = true)\n",
      " |-- view_result_type: string (nullable = true)\n",
      " |-- application_id: string (nullable = true)\n",
      " |-- supply_type: string (nullable = true)\n",
      " |-- sdk_version: string (nullable = true)\n",
      " |-- optimization_zone_id: integer (nullable = true)\n",
      " |-- billing_period_id: integer (nullable = true)\n",
      " |-- view_non_measurable_reason: integer (nullable = true)\n",
      " |-- external_uid: string (nullable = true)\n",
      " |-- request_uuid: string (nullable = true)\n",
      " |-- geo_dma: integer (nullable = true)\n",
      " |-- geo_city: integer (nullable = true)\n",
      " |-- mobile_app_instance_id: integer (nullable = true)\n",
      " |-- traffic_source_code: string (nullable = true)\n",
      " |-- external_request_id: string (nullable = true)\n",
      " |-- deal_type: integer (nullable = true)\n",
      " |-- ym_floor_id: integer (nullable = true)\n",
      " |-- ym_bias_id: integer (nullable = true)\n",
      " |-- is_filtered_request: integer (nullable = true)\n",
      " |-- age: integer (nullable = true)\n",
      " |-- gender: string (nullable = true)\n",
      " |-- is_exclusive: integer (nullable = true)\n",
      " |-- bid_priority: integer (nullable = true)\n",
      " |-- custom_model_id: integer (nullable = true)\n",
      " |-- custom_model_last_modified: integer (nullable = true)\n",
      " |-- leaf_name: string (nullable = true)\n",
      " |-- data_costs_cpm: string (nullable = true)\n",
      " |-- year: integer (nullable = true)\n",
      " |-- month: integer (nullable = true)\n",
      " |-- day: integer (nullable = true)\n",
      "\n"
     ]
    }
   ],
   "source": [
    "standard_feed.printSchema()"
   ]
  },
  {
   "cell_type": "markdown",
   "metadata": {},
   "source": [
    "**Or the VeCapture feed**"
   ]
  },
  {
   "cell_type": "code",
   "execution_count": 11,
   "metadata": {
    "collapsed": false
   },
   "outputs": [],
   "source": [
    "pageView_feed = DataFeeds.get_feed_parquet(sql_context, VeCapture.page_view, \n",
    "                                           from_date=\"2016-07-10\", to_date=None)"
   ]
  },
  {
   "cell_type": "code",
   "execution_count": 12,
   "metadata": {
    "collapsed": false,
    "scrolled": true
   },
   "outputs": [
    {
     "name": "stdout",
     "output_type": "stream",
     "text": [
      "root\n",
      " |-- session_id: string (nullable = true)\n",
      " |-- page_id: long (nullable = true)\n",
      " |-- url: string (nullable = true)\n",
      " |-- viewed_at: timestamp (nullable = true)\n",
      " |-- num_page_events: long (nullable = true)\n",
      " |-- customer_id: long (nullable = true)\n",
      " |-- client_ip: string (nullable = true)\n",
      " |-- ve_cookie_id: string (nullable = true)\n",
      " |-- journey_code: string (nullable = true)\n",
      " |-- user_agent: string (nullable = true)\n",
      " |-- client_language: string (nullable = true)\n",
      " |-- start_date: timestamp (nullable = true)\n",
      " |-- end_date: timestamp (nullable = true)\n",
      " |-- platform: string (nullable = true)\n",
      " |-- abandon_data_state: string (nullable = true)\n",
      " |-- email: string (nullable = true)\n",
      " |-- partner_cookies: map (nullable = true)\n",
      " |    |-- key: string\n",
      " |    |-- value: string (valueContainsNull = true)\n",
      " |-- geo_info: struct (nullable = true)\n",
      " |    |-- city: string (nullable = true)\n",
      " |    |-- continent: string (nullable = true)\n",
      " |    |-- country: string (nullable = true)\n",
      " |    |-- country_code: string (nullable = true)\n",
      " |    |-- geoname_id: long (nullable = true)\n",
      " |    |-- latitude: double (nullable = true)\n",
      " |    |-- longitude: double (nullable = true)\n",
      " |    |-- timezone: string (nullable = true)\n",
      " |-- ua_info: struct (nullable = true)\n",
      " |    |-- device_brand: string (nullable = true)\n",
      " |    |-- device_family: string (nullable = true)\n",
      " |    |-- device_model: string (nullable = true)\n",
      " |    |-- os_family: string (nullable = true)\n",
      " |    |-- os_major: string (nullable = true)\n",
      " |    |-- os_minor: string (nullable = true)\n",
      " |    |-- os_patch: string (nullable = true)\n",
      " |    |-- os_patch_minor: string (nullable = true)\n",
      " |    |-- user_agent_family: string (nullable = true)\n",
      " |    |-- user_agent_major: string (nullable = true)\n",
      " |    |-- user_agent_minor: string (nullable = true)\n",
      " |    |-- user_agent_patch: string (nullable = true)\n",
      " |-- categories: map (nullable = true)\n",
      " |    |-- key: string\n",
      " |    |-- value: array (valueContainsNull = true)\n",
      " |    |    |-- element: string (containsNull = true)\n",
      " |-- i_year: integer (nullable = true)\n",
      " |-- i_month: integer (nullable = true)\n",
      " |-- i_day: integer (nullable = true)\n",
      "\n"
     ]
    }
   ],
   "source": [
    "pageView_feed.printSchema()"
   ]
  }
 ],
 "metadata": {
  "kernelspec": {
   "display_name": "Python 3",
   "language": "python",
   "name": "python3"
  },
  "language_info": {
   "codemirror_mode": {
    "name": "ipython",
    "version": 3
   },
   "file_extension": ".py",
   "mimetype": "text/x-python",
   "name": "python",
   "nbconvert_exporter": "python",
   "pygments_lexer": "ipython3",
   "version": "3.5.2"
  }
 },
 "nbformat": 4,
 "nbformat_minor": 0
}
