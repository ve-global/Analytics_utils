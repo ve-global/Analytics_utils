{
 "cells": [
  {
   "cell_type": "markdown",
   "metadata": {},
   "source": [
    "# Summary\n",
    "\n",
    "\n",
    "This notebook show how to use utils functions to access LLD and Ve data.  \n",
    "We then present a use case to generate a report comparing LLD and API data.  \n",
    "\n",
    "\n",
    "**Note:** \n",
    " - the download of the report should take around 11min\n",
    " - to disable logs:\n",
    "    ```\n",
    "    import logging\n",
    "    logging.getLogger(\"analytics_utils\").setLevel(logging.INFO)\n",
    "    ```"
   ]
  },
  {
   "cell_type": "code",
   "execution_count": 1,
   "metadata": {
    "collapsed": false
   },
   "outputs": [],
   "source": [
    "from analytics_utils.spark_utils import add_pyspark_path\n",
    "# import logging\n",
    "# logging.getLogger(\"analytics_utils\").setLevel(logging.INFO)"
   ]
  },
  {
   "cell_type": "code",
   "execution_count": 2,
   "metadata": {
    "collapsed": false
   },
   "outputs": [],
   "source": [
    "import os\n",
    "spark_home = '/usr/hdp/current/spark-client/'\n",
    "add_pyspark_path(spark_home)\n",
    "from pyspark import SparkContext\n",
    "from pyspark.sql import HiveContext\n",
    "\n",
    "\n",
    "import pyspark.sql.functions as F\n",
    "from pyspark.sql.functions import udf\n",
    "from pyspark.sql.window import Window\n",
    "from pyspark.sql.types import *\n",
    "\n",
    "max_executors = 12\n",
    "\n",
    "NOTEBOOK_NAME = \"Analytics utils\"\n",
    "\n",
    "def init_spark():\n",
    "    # spark submit\n",
    "    os.environ['PYSPARK_SUBMIT_ARGS'] = \\\n",
    "    '--verbose ' \\\n",
    "    '--jars /usr/hdp/current/hadoop-client/hadoop-azure.jar,/usr/hdp/current/hadoop-client/lib/azure-storage-2.2.0.jar ' \\\n",
    "    '--master yarn ' \\\n",
    "    '--deploy-mode client ' \\\n",
    "    '--driver-cores 2 --driver-memory 8g ' \\\n",
    "    '--executor-cores 1 --executor-memory 7g ' \\\n",
    "    '--conf spark.dynamicAllocation.maxExecutors={max_executors} ' \\\n",
    "    '--conf spark.shuffle.service.enabled=true ' \\\n",
    "    '--conf spark.dynamicAllocation.enabled=true ' \\\n",
    "    '--conf spark.sql.parquet.compression.codec=snappy ' \\\n",
    "    'pyspark-shell'.format(max_executors=max_executors)\n",
    "\n",
    "    # spark context\n",
    "    sc = SparkContext(appName=NOTEBOOK_NAME, sparkHome=spark_home)\n",
    "    sc.setLogLevel('WARN')\n",
    "    \n",
    "    # sql context\n",
    "    sqlContext = HiveContext(sparkContext=sc)\n",
    "    return sc, sqlContext\n",
    "\n",
    "try:\n",
    "    sc, sqlContext = init_spark()\n",
    "except ValueError:\n",
    "    sc.stop()\n",
    "    sc, sqlContext = init_spark()"
   ]
  },
  {
   "cell_type": "markdown",
   "metadata": {},
   "source": [
    "# LLD"
   ]
  },
  {
   "cell_type": "code",
   "execution_count": 3,
   "metadata": {
    "collapsed": true
   },
   "outputs": [],
   "source": [
    "import matplotlib.pyplot as plt\n",
    "import seaborn as sns\n",
    "%matplotlib inline"
   ]
  },
  {
   "cell_type": "code",
   "execution_count": 4,
   "metadata": {
    "collapsed": true
   },
   "outputs": [],
   "source": [
    "from analytics_utils.data_feeds import DataFeeds\n",
    "from analytics_utils.feeds import VeCapture, AppNexus\n",
    "import analytics_utils.reports as reports"
   ]
  },
  {
   "cell_type": "markdown",
   "metadata": {},
   "source": [
    "**Let's look at the available data: **"
   ]
  },
  {
   "cell_type": "code",
   "execution_count": 5,
   "metadata": {
    "collapsed": false
   },
   "outputs": [
    {
     "name": "stdout",
     "output_type": "stream",
     "text": [
      "Available LLD feeds: ['pixel', 'segment', 'standard']\n",
      "Available VeData feeds: ['category', 'page']\n"
     ]
    }
   ],
   "source": [
    "print('Available LLD feeds: %s' % [x.name for x in AppNexus])\n",
    "print('Available VeData feeds: %s' % [x.name for x in VeCapture])"
   ]
  },
  {
   "cell_type": "markdown",
   "metadata": {},
   "source": [
    "**We only want the standard feed**"
   ]
  },
  {
   "cell_type": "code",
   "execution_count": 6,
   "metadata": {
    "collapsed": true
   },
   "outputs": [],
   "source": [
    "standard_feed = DataFeeds.get_feed_parquet(sqlContext, AppNexus.standard, \n",
    "                                           from_date=\"2016-07-10\")"
   ]
  },
  {
   "cell_type": "markdown",
   "metadata": {},
   "source": [
    "**Note**: this is equivalent to\n",
    "```\n",
    "standard_feed = DataFeeds.get_feed_parquet(sqlContext, AppNexus.standard)\n",
    "standard_feed = standard_feed.filter(VeFuncs.filter_date(from_date=\"2016-07-01\"))\n",
    "```"
   ]
  },
  {
   "cell_type": "code",
   "execution_count": 7,
   "metadata": {
    "collapsed": false,
    "scrolled": true
   },
   "outputs": [
    {
     "name": "stdout",
     "output_type": "stream",
     "text": [
      "root\n",
      " |-- auction_id_64: long (nullable = true)\n",
      " |-- datetime: timestamp (nullable = true)\n",
      " |-- user_tz_offset: integer (nullable = true)\n",
      " |-- width: integer (nullable = true)\n",
      " |-- height: integer (nullable = true)\n",
      " |-- media_type: integer (nullable = true)\n",
      " |-- fold_position: integer (nullable = true)\n",
      " |-- event_type: string (nullable = true)\n",
      " |-- imp_type: integer (nullable = true)\n",
      " |-- payment_type: integer (nullable = true)\n",
      " |-- media_cost_dollars_cpm: double (nullable = true)\n",
      " |-- revenue_type: integer (nullable = true)\n",
      " |-- buyer_spend: double (nullable = true)\n",
      " |-- buyer_bid: double (nullable = true)\n",
      " |-- ecp: double (nullable = true)\n",
      " |-- eap: double (nullable = true)\n",
      " |-- is_imp: integer (nullable = true)\n",
      " |-- is_learn: integer (nullable = true)\n",
      " |-- predict_type_rev: integer (nullable = true)\n",
      " |-- othuser_id_64: long (nullable = true)\n",
      " |-- ip_address: string (nullable = true)\n",
      " |-- ip_address_trunc: string (nullable = true)\n",
      " |-- geo_country: string (nullable = true)\n",
      " |-- geo_region: string (nullable = true)\n",
      " |-- operating_system: integer (nullable = true)\n",
      " |-- browser: integer (nullable = true)\n",
      " |-- language: integer (nullable = true)\n",
      " |-- venue_id: integer (nullable = true)\n",
      " |-- seller_member_id: integer (nullable = true)\n",
      " |-- publisher_id: integer (nullable = true)\n",
      " |-- site_id: integer (nullable = true)\n",
      " |-- site_domain: string (nullable = true)\n",
      " |-- tag_id: integer (nullable = true)\n",
      " |-- external_inv_id: integer (nullable = true)\n",
      " |-- reserve_price: double (nullable = true)\n",
      " |-- seller_revenue_cpm: double (nullable = true)\n",
      " |-- media_buy_rev_share_pct: double (nullable = true)\n",
      " |-- pub_rule_id: integer (nullable = true)\n",
      " |-- seller_currency: string (nullable = true)\n",
      " |-- publisher_currency: string (nullable = true)\n",
      " |-- publisher_exchange_rate: double (nullable = true)\n",
      " |-- serving_fees_cpm: double (nullable = true)\n",
      " |-- serving_fees_revshare: double (nullable = true)\n",
      " |-- buyer_member_id: integer (nullable = true)\n",
      " |-- advertiser_id: integer (nullable = true)\n",
      " |-- brand_id: integer (nullable = true)\n",
      " |-- advertiser_frequency: integer (nullable = true)\n",
      " |-- advertiser_recency: integer (nullable = true)\n",
      " |-- insertion_order_id: integer (nullable = true)\n",
      " |-- campaign_group_id: integer (nullable = true)\n",
      " |-- campaign_id: integer (nullable = true)\n",
      " |-- creative_id: integer (nullable = true)\n",
      " |-- creative_freq: integer (nullable = true)\n",
      " |-- creative_rec: integer (nullable = true)\n",
      " |-- cadence_modifier: double (nullable = true)\n",
      " |-- can_convert: integer (nullable = true)\n",
      " |-- user_group_id: integer (nullable = true)\n",
      " |-- is_control: integer (nullable = true)\n",
      " |-- control_pct: double (nullable = true)\n",
      " |-- control_creative_id: integer (nullable = true)\n",
      " |-- is_click: integer (nullable = true)\n",
      " |-- pixel_id: integer (nullable = true)\n",
      " |-- is_remarketing: integer (nullable = true)\n",
      " |-- post_click_conv: integer (nullable = true)\n",
      " |-- post_view_conv: integer (nullable = true)\n",
      " |-- post_click_revenue: double (nullable = true)\n",
      " |-- post_view_revenue: double (nullable = true)\n",
      " |-- order_id: string (nullable = true)\n",
      " |-- external_data: string (nullable = true)\n",
      " |-- pricing_type: string (nullable = true)\n",
      " |-- booked_revenue_dollars: double (nullable = true)\n",
      " |-- booked_revenue_adv_curr: double (nullable = true)\n",
      " |-- commission_cpm: double (nullable = true)\n",
      " |-- commission_revshare: double (nullable = true)\n",
      " |-- auction_service_deduction: double (nullable = true)\n",
      " |-- auction_service_fees: double (nullable = true)\n",
      " |-- creative_overage_fees: double (nullable = true)\n",
      " |-- clear_fees: double (nullable = true)\n",
      " |-- buyer_currency: string (nullable = true)\n",
      " |-- advertiser_currency: string (nullable = true)\n",
      " |-- advertiser_exchange_rate: double (nullable = true)\n",
      " |-- latitude: double (nullable = true)\n",
      " |-- longitude: double (nullable = true)\n",
      " |-- device_unique_id: string (nullable = true)\n",
      " |-- device_model_id: integer (nullable = true)\n",
      " |-- carrier_id: integer (nullable = true)\n",
      " |-- deal_id: integer (nullable = true)\n",
      " |-- view_result_type: string (nullable = true)\n",
      " |-- application_id: string (nullable = true)\n",
      " |-- supply_type: string (nullable = true)\n",
      " |-- sdk_version: string (nullable = true)\n",
      " |-- optimization_zone_id: integer (nullable = true)\n",
      " |-- billing_period_id: integer (nullable = true)\n",
      " |-- view_non_measurable_reason: integer (nullable = true)\n",
      " |-- external_uid: string (nullable = true)\n",
      " |-- request_uuid: string (nullable = true)\n",
      " |-- geo_dma: integer (nullable = true)\n",
      " |-- geo_city: integer (nullable = true)\n",
      " |-- mobile_app_instance_id: integer (nullable = true)\n",
      " |-- traffic_source_code: string (nullable = true)\n",
      " |-- external_request_id: string (nullable = true)\n",
      " |-- deal_type: integer (nullable = true)\n",
      " |-- ym_floor_id: integer (nullable = true)\n",
      " |-- ym_bias_id: integer (nullable = true)\n",
      " |-- is_filtered_request: integer (nullable = true)\n",
      " |-- age: integer (nullable = true)\n",
      " |-- gender: string (nullable = true)\n",
      " |-- is_exclusive: integer (nullable = true)\n",
      " |-- bid_priority: integer (nullable = true)\n",
      " |-- custom_model_id: integer (nullable = true)\n",
      " |-- custom_model_last_modified: integer (nullable = true)\n",
      " |-- leaf_name: string (nullable = true)\n",
      " |-- data_costs_cpm: string (nullable = true)\n",
      " |-- year: integer (nullable = true)\n",
      " |-- month: integer (nullable = true)\n",
      " |-- day: integer (nullable = true)\n",
      "\n"
     ]
    }
   ],
   "source": [
    "standard_feed.printSchema()"
   ]
  },
  {
   "cell_type": "markdown",
   "metadata": {},
   "source": [
    "**Or the VeCapture feed**"
   ]
  },
  {
   "cell_type": "code",
   "execution_count": 8,
   "metadata": {
    "collapsed": true
   },
   "outputs": [],
   "source": [
    "pageView_feed = DataFeeds.get_feed_parquet(sqlContext, VeCapture.page, from_date=\"2016-07-10\", to_date=None)"
   ]
  },
  {
   "cell_type": "code",
   "execution_count": 9,
   "metadata": {
    "collapsed": false,
    "scrolled": true
   },
   "outputs": [
    {
     "name": "stdout",
     "output_type": "stream",
     "text": [
      "root\n",
      " |-- session_id: string (nullable = true)\n",
      " |-- page_id: long (nullable = true)\n",
      " |-- url: string (nullable = true)\n",
      " |-- viewed_at: timestamp (nullable = true)\n",
      " |-- num_page_events: long (nullable = true)\n",
      " |-- customer_id: long (nullable = true)\n",
      " |-- client_ip: string (nullable = true)\n",
      " |-- ve_cookie_id: string (nullable = true)\n",
      " |-- journey_code: string (nullable = true)\n",
      " |-- user_agent: string (nullable = true)\n",
      " |-- client_language: string (nullable = true)\n",
      " |-- start_date: timestamp (nullable = true)\n",
      " |-- end_date: timestamp (nullable = true)\n",
      " |-- platform: string (nullable = true)\n",
      " |-- abandon_data_state: string (nullable = true)\n",
      " |-- email: string (nullable = true)\n",
      " |-- partner_cookies: map (nullable = true)\n",
      " |    |-- key: string\n",
      " |    |-- value: string (valueContainsNull = true)\n",
      " |-- geo_info: struct (nullable = true)\n",
      " |    |-- city: string (nullable = true)\n",
      " |    |-- continent: string (nullable = true)\n",
      " |    |-- country: string (nullable = true)\n",
      " |    |-- country_code: string (nullable = true)\n",
      " |    |-- geoname_id: long (nullable = true)\n",
      " |    |-- latitude: double (nullable = true)\n",
      " |    |-- longitude: double (nullable = true)\n",
      " |    |-- timezone: string (nullable = true)\n",
      " |-- ua_info: struct (nullable = true)\n",
      " |    |-- device_brand: string (nullable = true)\n",
      " |    |-- device_family: string (nullable = true)\n",
      " |    |-- device_model: string (nullable = true)\n",
      " |    |-- os_family: string (nullable = true)\n",
      " |    |-- os_major: string (nullable = true)\n",
      " |    |-- os_minor: string (nullable = true)\n",
      " |    |-- os_patch: string (nullable = true)\n",
      " |    |-- os_patch_minor: string (nullable = true)\n",
      " |    |-- user_agent_family: string (nullable = true)\n",
      " |    |-- user_agent_major: string (nullable = true)\n",
      " |    |-- user_agent_minor: string (nullable = true)\n",
      " |    |-- user_agent_patch: string (nullable = true)\n",
      " |-- categories: map (nullable = true)\n",
      " |    |-- key: string\n",
      " |    |-- value: array (valueContainsNull = true)\n",
      " |    |    |-- element: string (containsNull = true)\n",
      " |-- i_year: integer (nullable = true)\n",
      " |-- i_month: integer (nullable = true)\n",
      " |-- i_day: integer (nullable = true)\n",
      "\n"
     ]
    }
   ],
   "source": [
    "pageView_feed.printSchema()"
   ]
  },
  {
   "cell_type": "markdown",
   "metadata": {},
   "source": [
    "**Let's count the number of lines per day**"
   ]
  },
  {
   "cell_type": "code",
   "execution_count": 10,
   "metadata": {
    "collapsed": false
   },
   "outputs": [
    {
     "name": "stderr",
     "output_type": "stream",
     "text": [
      "2016-07-26 11:48:09 INFO [count_lines] 1.15404282 min\n"
     ]
    }
   ],
   "source": [
    "line_count_df = DataFeeds.count_lines(standard_feed, by=\"D\")"
   ]
  },
  {
   "cell_type": "code",
   "execution_count": 11,
   "metadata": {
    "collapsed": false
   },
   "outputs": [
    {
     "data": {
      "text/plain": [
       "<matplotlib.axes._subplots.AxesSubplot at 0x7fa86246e610>"
      ]
     },
     "execution_count": 11,
     "metadata": {},
     "output_type": "execute_result"
    },
    {
     "data": {
      "image/png": "[encoded data removed]",
      "text/plain": [
       "<matplotlib.figure.Figure at 0x7fa8624f0790>"
      ]
     },
     "metadata": {},
     "output_type": "display_data"
    }
   ],
   "source": [
    "line_count_df.set_index('day').plot.bar(title=\"Events count per day\", figsize=(20, 10))"
   ]
  },
  {
   "cell_type": "markdown",
   "metadata": {},
   "source": [
    "**Now we want the converted users for one day**"
   ]
  },
  {
   "cell_type": "code",
   "execution_count": 6,
   "metadata": {
    "collapsed": false
   },
   "outputs": [],
   "source": [
    "standard_feed = DataFeeds.get_feed_parquet(sqlContext, AppNexus.standard, \n",
    "                                           from_date=\"2016-07-01\", to_date=\"2016-07-02\")"
   ]
  },
  {
   "cell_type": "code",
   "execution_count": 7,
   "metadata": {
    "collapsed": false
   },
   "outputs": [
    {
     "name": "stderr",
     "output_type": "stream",
     "text": [
      "2016-07-26 12:00:38 INFO [get_converted_user_ids] 0.38726850 min\n",
      "2016-07-26 12:01:08 INFO [get_converted_users] 0.84971942 min\n"
     ]
    }
   ],
   "source": [
    "converted_users_df, converted_users_ids = DataFeeds.get_converted_users(standard_feed)"
   ]
  },
  {
   "cell_type": "code",
   "execution_count": 8,
   "metadata": {
    "collapsed": false
   },
   "outputs": [
    {
     "name": "stdout",
     "output_type": "stream",
     "text": [
      "28902 converted users for this day\n"
     ]
    }
   ],
   "source": [
    "print('%d converted users for this day' % len(converted_users_ids))"
   ]
  },
  {
   "cell_type": "markdown",
   "metadata": {},
   "source": [
    "**Let get the session duration for converted users for one day**"
   ]
  },
  {
   "cell_type": "code",
   "execution_count": 9,
   "metadata": {
    "collapsed": true
   },
   "outputs": [],
   "source": [
    "from analytics_utils.ve_funcs import duration"
   ]
  },
  {
   "cell_type": "code",
   "execution_count": 10,
   "metadata": {
    "collapsed": false
   },
   "outputs": [],
   "source": [
    "standard_feed = DataFeeds.get_feed_parquet(sqlContext, AppNexus.standard, \n",
    "                                           from_date=\"2016-07-01\", to_date=\"2016-07-02\")"
   ]
  },
  {
   "cell_type": "code",
   "execution_count": 11,
   "metadata": {
    "collapsed": false
   },
   "outputs": [
    {
     "name": "stderr",
     "output_type": "stream",
     "text": [
      "2016-07-26 12:01:27 INFO [get_converted_user_ids] 0.22073120 min\n",
      "2016-07-26 12:01:54 INFO [get_converted_users] 0.66373800 min\n"
     ]
    }
   ],
   "source": [
    "converted_users_df, _ = DataFeeds.get_converted_users(standard_feed)\n",
    "auctions_duration = (converted_users_df.groupBy(\"othuser_id_64\", \"auction_id_64\")\n",
    "                                       .agg(duration.alias('duration'))\n",
    "                     )"
   ]
  },
  {
   "cell_type": "code",
   "execution_count": 12,
   "metadata": {
    "collapsed": false
   },
   "outputs": [],
   "source": [
    "users_avg_df = (auctions_duration.groupby('othuser_id_64')\n",
    "                                 .agg(F.avg('duration').alias('avg_duration'))\n",
    "                                 .toPandas()\n",
    "                )"
   ]
  },
  {
   "cell_type": "code",
   "execution_count": 13,
   "metadata": {
    "collapsed": false
   },
   "outputs": [
    {
     "data": {
      "text/plain": [
       "<matplotlib.axes._subplots.AxesSubplot at 0x7f51fe29e9d0>"
      ]
     },
     "execution_count": 13,
     "metadata": {},
     "output_type": "execute_result"
    },
    {
     "data": {
      "image/png": "[encoded data removed]",
      "text/plain": [
       "<matplotlib.figure.Figure at 0x7f51fbe29410>"
      ]
     },
     "metadata": {},
     "output_type": "display_data"
    }
   ],
   "source": [
    "users_avg_df.avg_duration[users_avg_df.avg_duration < 60 * 60 * 1].plot.hist(bins=200, figsize=(20, 10))"
   ]
  },
  {
   "cell_type": "markdown",
   "metadata": {},
   "source": [
    "# Example"
   ]
  },
  {
   "cell_type": "markdown",
   "metadata": {},
   "source": [
    "### Let's rewrite the code to generate the report df"
   ]
  },
  {
   "cell_type": "markdown",
   "metadata": {},
   "source": [
    "To run this example, please download a report following this [notebook](https://github.com/ve-interactive/AppNexus-API/blob/master/examples/AppNexus%20ReportsAPI.ipynb): "
   ]
  },
  {
   "cell_type": "code",
   "execution_count": 16,
   "metadata": {
    "collapsed": true
   },
   "outputs": [],
   "source": [
    "import pandas as pd"
   ]
  },
  {
   "cell_type": "markdown",
   "metadata": {},
   "source": [
    "**1. Getting data downloaded from the API**"
   ]
  },
  {
   "cell_type": "code",
   "execution_count": 19,
   "metadata": {
    "collapsed": true
   },
   "outputs": [],
   "source": [
    "report_path = \"../reports/network_analytics_2016-07-22.csv\""
   ]
  },
  {
   "cell_type": "code",
   "execution_count": 20,
   "metadata": {
    "collapsed": false
   },
   "outputs": [],
   "source": [
    "df = pd.read_csv(report_path, sep=',', parse_dates=['hour'], index_col='hour')\n",
    "from_date, to_date = df.index.min(), df.index.max()\n",
    "df = df[str(from_date): str(to_date)]"
   ]
  },
  {
   "cell_type": "markdown",
   "metadata": {},
   "source": [
    "**2. Formatting the API data**"
   ]
  },
  {
   "cell_type": "code",
   "execution_count": 21,
   "metadata": {
    "collapsed": false
   },
   "outputs": [
    {
     "data": {
      "text/html": [
       "<div>\n",
       "<table border=\"1\" class=\"dataframe\">\n",
       "  <thead>\n",
       "    <tr style=\"text-align: right;\">\n",
       "      <th></th>\n",
       "      <th>insertion_order_id</th>\n",
       "      <th>line_item_id</th>\n",
       "      <th>campaign_id</th>\n",
       "      <th>advertiser_id</th>\n",
       "      <th>pixel_id</th>\n",
       "      <th>imps</th>\n",
       "      <th>imps_viewed</th>\n",
       "      <th>clicks</th>\n",
       "      <th>cost</th>\n",
       "      <th>cpm</th>\n",
       "      <th>cpm_including_fees</th>\n",
       "      <th>revenue</th>\n",
       "      <th>revenue_including_fees</th>\n",
       "      <th>total_convs</th>\n",
       "      <th>geo_country</th>\n",
       "    </tr>\n",
       "    <tr>\n",
       "      <th>hour</th>\n",
       "      <th></th>\n",
       "      <th></th>\n",
       "      <th></th>\n",
       "      <th></th>\n",
       "      <th></th>\n",
       "      <th></th>\n",
       "      <th></th>\n",
       "      <th></th>\n",
       "      <th></th>\n",
       "      <th></th>\n",
       "      <th></th>\n",
       "      <th></th>\n",
       "      <th></th>\n",
       "      <th></th>\n",
       "      <th></th>\n",
       "    </tr>\n",
       "  </thead>\n",
       "  <tbody>\n",
       "    <tr>\n",
       "      <th>2016-07-17 18:00:00</th>\n",
       "      <td>0</td>\n",
       "      <td>1744754</td>\n",
       "      <td>7125266</td>\n",
       "      <td>458344</td>\n",
       "      <td>0</td>\n",
       "      <td>2</td>\n",
       "      <td>0</td>\n",
       "      <td>0</td>\n",
       "      <td>0.001518</td>\n",
       "      <td>0.759000</td>\n",
       "      <td>0.759000</td>\n",
       "      <td>0.001518</td>\n",
       "      <td>0.001518</td>\n",
       "      <td>0</td>\n",
       "      <td>JO</td>\n",
       "    </tr>\n",
       "    <tr>\n",
       "      <th>2016-07-07 10:00:00</th>\n",
       "      <td>0</td>\n",
       "      <td>1496713</td>\n",
       "      <td>10664596</td>\n",
       "      <td>390226</td>\n",
       "      <td>0</td>\n",
       "      <td>1</td>\n",
       "      <td>1</td>\n",
       "      <td>0</td>\n",
       "      <td>0.001860</td>\n",
       "      <td>1.860000</td>\n",
       "      <td>1.860000</td>\n",
       "      <td>0.001860</td>\n",
       "      <td>0.001860</td>\n",
       "      <td>0</td>\n",
       "      <td>CH</td>\n",
       "    </tr>\n",
       "    <tr>\n",
       "      <th>2016-07-20 02:00:00</th>\n",
       "      <td>0</td>\n",
       "      <td>2902554</td>\n",
       "      <td>12819963</td>\n",
       "      <td>964325</td>\n",
       "      <td>0</td>\n",
       "      <td>1</td>\n",
       "      <td>0</td>\n",
       "      <td>0</td>\n",
       "      <td>0.000190</td>\n",
       "      <td>0.190000</td>\n",
       "      <td>0.190000</td>\n",
       "      <td>0.000190</td>\n",
       "      <td>0.000190</td>\n",
       "      <td>0</td>\n",
       "      <td>MY</td>\n",
       "    </tr>\n",
       "    <tr>\n",
       "      <th>2016-06-24 17:00:00</th>\n",
       "      <td>0</td>\n",
       "      <td>2694701</td>\n",
       "      <td>12003821</td>\n",
       "      <td>821925</td>\n",
       "      <td>0</td>\n",
       "      <td>4</td>\n",
       "      <td>0</td>\n",
       "      <td>0</td>\n",
       "      <td>0.013026</td>\n",
       "      <td>3.256500</td>\n",
       "      <td>3.256500</td>\n",
       "      <td>0.013026</td>\n",
       "      <td>0.013026</td>\n",
       "      <td>0</td>\n",
       "      <td>GB</td>\n",
       "    </tr>\n",
       "    <tr>\n",
       "      <th>2016-07-12 21:00:00</th>\n",
       "      <td>349299</td>\n",
       "      <td>3150186</td>\n",
       "      <td>13609046</td>\n",
       "      <td>1074914</td>\n",
       "      <td>0</td>\n",
       "      <td>24</td>\n",
       "      <td>6</td>\n",
       "      <td>0</td>\n",
       "      <td>0.021143</td>\n",
       "      <td>0.880958</td>\n",
       "      <td>0.930958</td>\n",
       "      <td>0.040625</td>\n",
       "      <td>0.040625</td>\n",
       "      <td>0</td>\n",
       "      <td>ES</td>\n",
       "    </tr>\n",
       "  </tbody>\n",
       "</table>\n",
       "</div>"
      ],
      "text/plain": [
       "                     insertion_order_id  line_item_id  campaign_id  \\\n",
       "hour                                                                 \n",
       "2016-07-17 18:00:00                   0       1744754      7125266   \n",
       "2016-07-07 10:00:00                   0       1496713     10664596   \n",
       "2016-07-20 02:00:00                   0       2902554     12819963   \n",
       "2016-06-24 17:00:00                   0       2694701     12003821   \n",
       "2016-07-12 21:00:00              349299       3150186     13609046   \n",
       "\n",
       "                     advertiser_id  pixel_id  imps  imps_viewed  clicks  \\\n",
       "hour                                                                      \n",
       "2016-07-17 18:00:00         458344         0     2            0       0   \n",
       "2016-07-07 10:00:00         390226         0     1            1       0   \n",
       "2016-07-20 02:00:00         964325         0     1            0       0   \n",
       "2016-06-24 17:00:00         821925         0     4            0       0   \n",
       "2016-07-12 21:00:00        1074914         0    24            6       0   \n",
       "\n",
       "                         cost       cpm  cpm_including_fees   revenue  \\\n",
       "hour                                                                    \n",
       "2016-07-17 18:00:00  0.001518  0.759000            0.759000  0.001518   \n",
       "2016-07-07 10:00:00  0.001860  1.860000            1.860000  0.001860   \n",
       "2016-07-20 02:00:00  0.000190  0.190000            0.190000  0.000190   \n",
       "2016-06-24 17:00:00  0.013026  3.256500            3.256500  0.013026   \n",
       "2016-07-12 21:00:00  0.021143  0.880958            0.930958  0.040625   \n",
       "\n",
       "                     revenue_including_fees  total_convs geo_country  \n",
       "hour                                                                  \n",
       "2016-07-17 18:00:00                0.001518            0          JO  \n",
       "2016-07-07 10:00:00                0.001860            0          CH  \n",
       "2016-07-20 02:00:00                0.000190            0          MY  \n",
       "2016-06-24 17:00:00                0.013026            0          GB  \n",
       "2016-07-12 21:00:00                0.040625            0          ES  "
      ]
     },
     "execution_count": 21,
     "metadata": {},
     "output_type": "execute_result"
    }
   ],
   "source": [
    "df.head()"
   ]
  },
  {
   "cell_type": "code",
   "execution_count": 22,
   "metadata": {
    "collapsed": false
   },
   "outputs": [
    {
     "data": {
      "text/html": [
       "<div>\n",
       "<table border=\"1\" class=\"dataframe\">\n",
       "  <thead>\n",
       "    <tr style=\"text-align: right;\">\n",
       "      <th></th>\n",
       "      <th>date</th>\n",
       "      <th>advertiser_id</th>\n",
       "      <th>nb_imps</th>\n",
       "      <th>nb_viewed</th>\n",
       "      <th>cpm</th>\n",
       "      <th>revenue</th>\n",
       "      <th>nb_convs</th>\n",
       "      <th>nb_clicks</th>\n",
       "    </tr>\n",
       "  </thead>\n",
       "  <tbody>\n",
       "    <tr>\n",
       "      <th>0</th>\n",
       "      <td>2016-06-22</td>\n",
       "      <td>0</td>\n",
       "      <td>79</td>\n",
       "      <td>6</td>\n",
       "      <td>0.256675</td>\n",
       "      <td>0.001670</td>\n",
       "      <td>0</td>\n",
       "      <td>0</td>\n",
       "    </tr>\n",
       "    <tr>\n",
       "      <th>1</th>\n",
       "      <td>2016-06-22</td>\n",
       "      <td>21149</td>\n",
       "      <td>83357</td>\n",
       "      <td>28620</td>\n",
       "      <td>1625.754892</td>\n",
       "      <td>395.120526</td>\n",
       "      <td>6</td>\n",
       "      <td>60</td>\n",
       "    </tr>\n",
       "    <tr>\n",
       "      <th>2</th>\n",
       "      <td>2016-06-22</td>\n",
       "      <td>60690</td>\n",
       "      <td>1985</td>\n",
       "      <td>853</td>\n",
       "      <td>239.245048</td>\n",
       "      <td>9.805646</td>\n",
       "      <td>13</td>\n",
       "      <td>1</td>\n",
       "    </tr>\n",
       "    <tr>\n",
       "      <th>3</th>\n",
       "      <td>2016-06-22</td>\n",
       "      <td>63864</td>\n",
       "      <td>14940</td>\n",
       "      <td>5704</td>\n",
       "      <td>3262.663625</td>\n",
       "      <td>19.493155</td>\n",
       "      <td>106</td>\n",
       "      <td>7</td>\n",
       "    </tr>\n",
       "    <tr>\n",
       "      <th>4</th>\n",
       "      <td>2016-06-22</td>\n",
       "      <td>66895</td>\n",
       "      <td>6</td>\n",
       "      <td>1</td>\n",
       "      <td>28.345000</td>\n",
       "      <td>0.041648</td>\n",
       "      <td>0</td>\n",
       "      <td>0</td>\n",
       "    </tr>\n",
       "  </tbody>\n",
       "</table>\n",
       "</div>"
      ],
      "text/plain": [
       "        date  advertiser_id  nb_imps  nb_viewed          cpm     revenue  \\\n",
       "0 2016-06-22              0       79          6     0.256675    0.001670   \n",
       "1 2016-06-22          21149    83357      28620  1625.754892  395.120526   \n",
       "2 2016-06-22          60690     1985        853   239.245048    9.805646   \n",
       "3 2016-06-22          63864    14940       5704  3262.663625   19.493155   \n",
       "4 2016-06-22          66895        6          1    28.345000    0.041648   \n",
       "\n",
       "   nb_convs  nb_clicks  \n",
       "0         0          0  \n",
       "1         6         60  \n",
       "2        13          1  \n",
       "3       106          7  \n",
       "4         0          0  "
      ]
     },
     "execution_count": 22,
     "metadata": {},
     "output_type": "execute_result"
    }
   ],
   "source": [
    "df_agg = df.groupby([pd.TimeGrouper('D'), 'advertiser_id']).agg({\n",
    "    'imps': {'nb_imps': 'sum'},\n",
    "    'cpm': {'cpm': 'sum'},\n",
    "    'revenue': {'revenue': 'sum'},\n",
    "    'imps_viewed': {'nb_viewed': 'sum'},\n",
    "    'clicks': {'nb_clicks': 'sum'},\n",
    "    'total_convs': {'nb_convs': 'sum'}\n",
    "})\n",
    "df_agg.columns = df_agg.columns.droplevel(0)\n",
    "df_agg = df_agg.reset_index().rename(columns={'hour': 'date'})\n",
    "df_agg.head()"
   ]
  },
  {
   "cell_type": "markdown",
   "metadata": {},
   "source": [
    "**3. Getting the corresponding range of time in LLD**"
   ]
  },
  {
   "cell_type": "code",
   "execution_count": 24,
   "metadata": {
    "collapsed": false
   },
   "outputs": [
    {
     "name": "stderr",
     "output_type": "stream",
     "text": [
      "2016-07-26 12:22:35 INFO [agg_standard_feed] 6.43129092 min\n"
     ]
    }
   ],
   "source": [
    "standard_df = DataFeeds.get_feed_parquet(sqlContext, AppNexus.standard, from_date, to_date)\n",
    "standard_df = reports.agg_standard_feed(standard_df)"
   ]
  },
  {
   "cell_type": "markdown",
   "metadata": {},
   "source": [
    "**4. Format LLD Data**"
   ]
  },
  {
   "cell_type": "code",
   "execution_count": 25,
   "metadata": {
    "collapsed": true
   },
   "outputs": [],
   "source": [
    "standard_df = standard_df[standard_df.advertiser_id.notnull()]\n",
    "standard_df.advertiser_id = standard_df.advertiser_id.astype('int64')\n",
    "standard_df.date = pd.to_datetime(standard_df.date)"
   ]
  },
  {
   "cell_type": "markdown",
   "metadata": {},
   "source": [
    "**5. Aggregating the results**"
   ]
  },
  {
   "cell_type": "code",
   "execution_count": 26,
   "metadata": {
    "collapsed": false
   },
   "outputs": [
    {
     "data": {
      "text/html": [
       "<div>\n",
       "<table border=\"1\" class=\"dataframe\">\n",
       "  <thead>\n",
       "    <tr style=\"text-align: right;\">\n",
       "      <th></th>\n",
       "      <th>date</th>\n",
       "      <th>advertiser_id</th>\n",
       "      <th>nb_imps_api</th>\n",
       "      <th>nb_viewed_api</th>\n",
       "      <th>cpm_api</th>\n",
       "      <th>revenue_api</th>\n",
       "      <th>nb_convs_api</th>\n",
       "      <th>nb_clicks_api</th>\n",
       "      <th>nb_convs</th>\n",
       "      <th>nb_imps</th>\n",
       "      <th>nb_clicks</th>\n",
       "      <th>nb_viewed</th>\n",
       "      <th>revenue</th>\n",
       "      <th>cpm</th>\n",
       "    </tr>\n",
       "  </thead>\n",
       "  <tbody>\n",
       "    <tr>\n",
       "      <th>0</th>\n",
       "      <td>2016-06-22</td>\n",
       "      <td>0</td>\n",
       "      <td>79</td>\n",
       "      <td>6</td>\n",
       "      <td>0.256675</td>\n",
       "      <td>0.001670</td>\n",
       "      <td>0</td>\n",
       "      <td>0</td>\n",
       "      <td>0.0</td>\n",
       "      <td>0.0</td>\n",
       "      <td>0.0</td>\n",
       "      <td>0.0</td>\n",
       "      <td>0.0</td>\n",
       "      <td>0.0</td>\n",
       "    </tr>\n",
       "    <tr>\n",
       "      <th>1</th>\n",
       "      <td>2016-06-22</td>\n",
       "      <td>21149</td>\n",
       "      <td>83357</td>\n",
       "      <td>28620</td>\n",
       "      <td>1625.754892</td>\n",
       "      <td>395.120526</td>\n",
       "      <td>6</td>\n",
       "      <td>60</td>\n",
       "      <td>0.0</td>\n",
       "      <td>0.0</td>\n",
       "      <td>0.0</td>\n",
       "      <td>0.0</td>\n",
       "      <td>0.0</td>\n",
       "      <td>0.0</td>\n",
       "    </tr>\n",
       "    <tr>\n",
       "      <th>2</th>\n",
       "      <td>2016-06-22</td>\n",
       "      <td>60690</td>\n",
       "      <td>1985</td>\n",
       "      <td>853</td>\n",
       "      <td>239.245048</td>\n",
       "      <td>9.805646</td>\n",
       "      <td>13</td>\n",
       "      <td>1</td>\n",
       "      <td>0.0</td>\n",
       "      <td>0.0</td>\n",
       "      <td>0.0</td>\n",
       "      <td>0.0</td>\n",
       "      <td>0.0</td>\n",
       "      <td>0.0</td>\n",
       "    </tr>\n",
       "    <tr>\n",
       "      <th>3</th>\n",
       "      <td>2016-06-22</td>\n",
       "      <td>63864</td>\n",
       "      <td>14940</td>\n",
       "      <td>5704</td>\n",
       "      <td>3262.663625</td>\n",
       "      <td>19.493155</td>\n",
       "      <td>106</td>\n",
       "      <td>7</td>\n",
       "      <td>0.0</td>\n",
       "      <td>0.0</td>\n",
       "      <td>0.0</td>\n",
       "      <td>0.0</td>\n",
       "      <td>0.0</td>\n",
       "      <td>0.0</td>\n",
       "    </tr>\n",
       "    <tr>\n",
       "      <th>4</th>\n",
       "      <td>2016-06-22</td>\n",
       "      <td>66895</td>\n",
       "      <td>6</td>\n",
       "      <td>1</td>\n",
       "      <td>28.345000</td>\n",
       "      <td>0.041648</td>\n",
       "      <td>0</td>\n",
       "      <td>0</td>\n",
       "      <td>0.0</td>\n",
       "      <td>0.0</td>\n",
       "      <td>0.0</td>\n",
       "      <td>0.0</td>\n",
       "      <td>0.0</td>\n",
       "      <td>0.0</td>\n",
       "    </tr>\n",
       "  </tbody>\n",
       "</table>\n",
       "</div>"
      ],
      "text/plain": [
       "        date  advertiser_id  nb_imps_api  nb_viewed_api      cpm_api  \\\n",
       "0 2016-06-22              0           79              6     0.256675   \n",
       "1 2016-06-22          21149        83357          28620  1625.754892   \n",
       "2 2016-06-22          60690         1985            853   239.245048   \n",
       "3 2016-06-22          63864        14940           5704  3262.663625   \n",
       "4 2016-06-22          66895            6              1    28.345000   \n",
       "\n",
       "   revenue_api  nb_convs_api  nb_clicks_api  nb_convs  nb_imps  nb_clicks  \\\n",
       "0     0.001670             0              0       0.0      0.0        0.0   \n",
       "1   395.120526             6             60       0.0      0.0        0.0   \n",
       "2     9.805646            13              1       0.0      0.0        0.0   \n",
       "3    19.493155           106              7       0.0      0.0        0.0   \n",
       "4     0.041648             0              0       0.0      0.0        0.0   \n",
       "\n",
       "   nb_viewed  revenue  cpm  \n",
       "0        0.0      0.0  0.0  \n",
       "1        0.0      0.0  0.0  \n",
       "2        0.0      0.0  0.0  \n",
       "3        0.0      0.0  0.0  \n",
       "4        0.0      0.0  0.0  "
      ]
     },
     "execution_count": 26,
     "metadata": {},
     "output_type": "execute_result"
    }
   ],
   "source": [
    "full_df = pd.merge(df_agg, standard_df, on=['date', 'advertiser_id'],\n",
    "                   suffixes=('_api', ''), how='outer').fillna(0)\n",
    "full_df.head()"
   ]
  },
  {
   "cell_type": "code",
   "execution_count": 27,
   "metadata": {
    "collapsed": true
   },
   "outputs": [],
   "source": [
    "to_compare = ['nb_convs', 'nb_imps', 'nb_clicks', 'nb_viewed', 'revenue', 'cpm']\n",
    "agg_df_bins = []\n",
    "\n",
    "for feature in to_compare:\n",
    "    full_df['%s_diff' % feature] = full_df[feature] - full_df['%s_api' % feature]\n",
    "    full_df['%s_diff_pc' % feature] = full_df['%s_diff' % feature] * 100. / (full_df[feature] + 1)\n",
    "    full_df['%s_diff_pc_bins' % feature] = pd.cut(full_df['%s_diff_pc' % feature], bins=range(-100, 110, 10))\n",
    "    agg_df_bins.append(full_df['%s_diff_pc_bins' % feature].value_counts().sort_index())"
   ]
  },
  {
   "cell_type": "code",
   "execution_count": 28,
   "metadata": {
    "collapsed": false
   },
   "outputs": [
    {
     "data": {
      "text/html": [
       "<div>\n",
       "<table border=\"1\" class=\"dataframe\">\n",
       "  <thead>\n",
       "    <tr style=\"text-align: right;\">\n",
       "      <th></th>\n",
       "      <th>date</th>\n",
       "      <th>advertiser_id</th>\n",
       "      <th>nb_imps_api</th>\n",
       "      <th>nb_viewed_api</th>\n",
       "      <th>cpm_api</th>\n",
       "      <th>revenue_api</th>\n",
       "      <th>nb_convs_api</th>\n",
       "      <th>nb_clicks_api</th>\n",
       "      <th>nb_convs</th>\n",
       "      <th>nb_imps</th>\n",
       "      <th>...</th>\n",
       "      <th>nb_clicks_diff_pc_bins</th>\n",
       "      <th>nb_viewed_diff</th>\n",
       "      <th>nb_viewed_diff_pc</th>\n",
       "      <th>nb_viewed_diff_pc_bins</th>\n",
       "      <th>revenue_diff</th>\n",
       "      <th>revenue_diff_pc</th>\n",
       "      <th>revenue_diff_pc_bins</th>\n",
       "      <th>cpm_diff</th>\n",
       "      <th>cpm_diff_pc</th>\n",
       "      <th>cpm_diff_pc_bins</th>\n",
       "    </tr>\n",
       "  </thead>\n",
       "  <tbody>\n",
       "    <tr>\n",
       "      <th>0</th>\n",
       "      <td>2016-06-22</td>\n",
       "      <td>0</td>\n",
       "      <td>79</td>\n",
       "      <td>6</td>\n",
       "      <td>0.256675</td>\n",
       "      <td>0.001670</td>\n",
       "      <td>0</td>\n",
       "      <td>0</td>\n",
       "      <td>0.0</td>\n",
       "      <td>0.0</td>\n",
       "      <td>...</td>\n",
       "      <td>(-10, 0]</td>\n",
       "      <td>-6.0</td>\n",
       "      <td>-600.0</td>\n",
       "      <td>NaN</td>\n",
       "      <td>-0.001670</td>\n",
       "      <td>-0.1670</td>\n",
       "      <td>(-10, 0]</td>\n",
       "      <td>-0.256675</td>\n",
       "      <td>-25.667473</td>\n",
       "      <td>(-30, -20]</td>\n",
       "    </tr>\n",
       "    <tr>\n",
       "      <th>1</th>\n",
       "      <td>2016-06-22</td>\n",
       "      <td>21149</td>\n",
       "      <td>83357</td>\n",
       "      <td>28620</td>\n",
       "      <td>1625.754892</td>\n",
       "      <td>395.120526</td>\n",
       "      <td>6</td>\n",
       "      <td>60</td>\n",
       "      <td>0.0</td>\n",
       "      <td>0.0</td>\n",
       "      <td>...</td>\n",
       "      <td>NaN</td>\n",
       "      <td>-28620.0</td>\n",
       "      <td>-2862000.0</td>\n",
       "      <td>NaN</td>\n",
       "      <td>-395.120526</td>\n",
       "      <td>-39512.0526</td>\n",
       "      <td>NaN</td>\n",
       "      <td>-1625.754892</td>\n",
       "      <td>-162575.489177</td>\n",
       "      <td>NaN</td>\n",
       "    </tr>\n",
       "    <tr>\n",
       "      <th>2</th>\n",
       "      <td>2016-06-22</td>\n",
       "      <td>60690</td>\n",
       "      <td>1985</td>\n",
       "      <td>853</td>\n",
       "      <td>239.245048</td>\n",
       "      <td>9.805646</td>\n",
       "      <td>13</td>\n",
       "      <td>1</td>\n",
       "      <td>0.0</td>\n",
       "      <td>0.0</td>\n",
       "      <td>...</td>\n",
       "      <td>NaN</td>\n",
       "      <td>-853.0</td>\n",
       "      <td>-85300.0</td>\n",
       "      <td>NaN</td>\n",
       "      <td>-9.805646</td>\n",
       "      <td>-980.5646</td>\n",
       "      <td>NaN</td>\n",
       "      <td>-239.245048</td>\n",
       "      <td>-23924.504763</td>\n",
       "      <td>NaN</td>\n",
       "    </tr>\n",
       "    <tr>\n",
       "      <th>3</th>\n",
       "      <td>2016-06-22</td>\n",
       "      <td>63864</td>\n",
       "      <td>14940</td>\n",
       "      <td>5704</td>\n",
       "      <td>3262.663625</td>\n",
       "      <td>19.493155</td>\n",
       "      <td>106</td>\n",
       "      <td>7</td>\n",
       "      <td>0.0</td>\n",
       "      <td>0.0</td>\n",
       "      <td>...</td>\n",
       "      <td>NaN</td>\n",
       "      <td>-5704.0</td>\n",
       "      <td>-570400.0</td>\n",
       "      <td>NaN</td>\n",
       "      <td>-19.493155</td>\n",
       "      <td>-1949.3155</td>\n",
       "      <td>NaN</td>\n",
       "      <td>-3262.663625</td>\n",
       "      <td>-326266.362482</td>\n",
       "      <td>NaN</td>\n",
       "    </tr>\n",
       "    <tr>\n",
       "      <th>4</th>\n",
       "      <td>2016-06-22</td>\n",
       "      <td>66895</td>\n",
       "      <td>6</td>\n",
       "      <td>1</td>\n",
       "      <td>28.345000</td>\n",
       "      <td>0.041648</td>\n",
       "      <td>0</td>\n",
       "      <td>0</td>\n",
       "      <td>0.0</td>\n",
       "      <td>0.0</td>\n",
       "      <td>...</td>\n",
       "      <td>(-10, 0]</td>\n",
       "      <td>-1.0</td>\n",
       "      <td>-100.0</td>\n",
       "      <td>NaN</td>\n",
       "      <td>-0.041648</td>\n",
       "      <td>-4.1648</td>\n",
       "      <td>(-10, 0]</td>\n",
       "      <td>-28.345000</td>\n",
       "      <td>-2834.500000</td>\n",
       "      <td>NaN</td>\n",
       "    </tr>\n",
       "  </tbody>\n",
       "</table>\n",
       "<p>5 rows × 32 columns</p>\n",
       "</div>"
      ],
      "text/plain": [
       "        date  advertiser_id  nb_imps_api  nb_viewed_api      cpm_api  \\\n",
       "0 2016-06-22              0           79              6     0.256675   \n",
       "1 2016-06-22          21149        83357          28620  1625.754892   \n",
       "2 2016-06-22          60690         1985            853   239.245048   \n",
       "3 2016-06-22          63864        14940           5704  3262.663625   \n",
       "4 2016-06-22          66895            6              1    28.345000   \n",
       "\n",
       "   revenue_api  nb_convs_api  nb_clicks_api  nb_convs  nb_imps  \\\n",
       "0     0.001670             0              0       0.0      0.0   \n",
       "1   395.120526             6             60       0.0      0.0   \n",
       "2     9.805646            13              1       0.0      0.0   \n",
       "3    19.493155           106              7       0.0      0.0   \n",
       "4     0.041648             0              0       0.0      0.0   \n",
       "\n",
       "        ...         nb_clicks_diff_pc_bins  nb_viewed_diff  nb_viewed_diff_pc  \\\n",
       "0       ...                       (-10, 0]            -6.0             -600.0   \n",
       "1       ...                            NaN        -28620.0         -2862000.0   \n",
       "2       ...                            NaN          -853.0           -85300.0   \n",
       "3       ...                            NaN         -5704.0          -570400.0   \n",
       "4       ...                       (-10, 0]            -1.0             -100.0   \n",
       "\n",
       "   nb_viewed_diff_pc_bins  revenue_diff  revenue_diff_pc revenue_diff_pc_bins  \\\n",
       "0                     NaN     -0.001670          -0.1670             (-10, 0]   \n",
       "1                     NaN   -395.120526      -39512.0526                  NaN   \n",
       "2                     NaN     -9.805646        -980.5646                  NaN   \n",
       "3                     NaN    -19.493155       -1949.3155                  NaN   \n",
       "4                     NaN     -0.041648          -4.1648             (-10, 0]   \n",
       "\n",
       "      cpm_diff    cpm_diff_pc cpm_diff_pc_bins  \n",
       "0    -0.256675     -25.667473       (-30, -20]  \n",
       "1 -1625.754892 -162575.489177              NaN  \n",
       "2  -239.245048  -23924.504763              NaN  \n",
       "3 -3262.663625 -326266.362482              NaN  \n",
       "4   -28.345000   -2834.500000              NaN  \n",
       "\n",
       "[5 rows x 32 columns]"
      ]
     },
     "execution_count": 28,
     "metadata": {},
     "output_type": "execute_result"
    }
   ],
   "source": [
    "full_df.head()"
   ]
  },
  {
   "cell_type": "markdown",
   "metadata": {},
   "source": [
    "** Some display...**"
   ]
  },
  {
   "cell_type": "code",
   "execution_count": 29,
   "metadata": {
    "collapsed": true
   },
   "outputs": [],
   "source": [
    "from bqplot import *\n",
    "from IPython.display import display\n",
    "from ipywidgets import *\n",
    "import time\n",
    "from IPython.display import display"
   ]
  },
  {
   "cell_type": "code",
   "execution_count": 30,
   "metadata": {
    "collapsed": false
   },
   "outputs": [],
   "source": [
    "metrics = ['nb_viewed', 'revenue', 'nb_convs', 'cpm', 'nb_clicks', 'nb_imps']\n",
    "metrics_df = full_df.set_index('date').groupby(pd.TimeGrouper('D'))[metrics + [\"%s_api\" % x for x in metrics]].sum()"
   ]
  },
  {
   "cell_type": "code",
   "execution_count": 31,
   "metadata": {
    "collapsed": true
   },
   "outputs": [],
   "source": [
    "def on_button_clicked_metric(b):\n",
    "    metric = b.value\n",
    "    df = metrics_df\n",
    "    \n",
    "    x = df.index.values\n",
    "    y = [df[metric], df['%s_api' % metric]] \n",
    "    bars.labels = [metric, '%s_api' % metric]\n",
    "    modify_bars(bars, x,  y)\n",
    "\n",
    "def modify_bars(bars, x, y):\n",
    "    bars.x = x\n",
    "    bars.y = y \n",
    "    # bars.opacities = [0.6] * len(bars.x)"
   ]
  },
  {
   "cell_type": "code",
   "execution_count": null,
   "metadata": {
    "collapsed": true
   },
   "outputs": [],
   "source": [
    ""
   ]
  },
  {
   "cell_type": "code",
   "execution_count": 32,
   "metadata": {
    "collapsed": false
   },
   "outputs": [],
   "source": [
    "agg_layout = Layout(display='flex', flex_flow='row', align_items='stretch', width='80%')\n",
    "\n",
    "# Buttons Agg type\n",
    "agg_buttons = []\n",
    "for agg_type in metrics:\n",
    "    b = Button(description=agg_type, value=agg_type.lower(), layout=Layout(flex='2 1 auto', width='auto'))\n",
    "    b.on_click(on_button_clicked_metric)\n",
    "    agg_buttons.append(b)\n",
    "\n",
    "box_aggs = Box(children=[Label(value='Metrics')] + agg_buttons, \n",
    "               layout=agg_layout)\n",
    "\n",
    "x_date = DateScale()\n",
    "y_sc = LinearScale()\n",
    "\n",
    "ax_x = Axis(label=\"Date\", scale=x_date, grid_lines='solid')\n",
    "ax_y = Axis(scale=y_sc, orientation='vertical', tick_format='0.2e',  grid_lines='solid')\n",
    "\n",
    "\n",
    "x = metrics_df.index.values\n",
    "y = [metrics_df['nb_imps'], metrics_df['nb_imps_api']] \n",
    "\n",
    "bars = Bars(x=x, y=y,  scales={'x': x_date, 'y': y_sc},\n",
    "              display_legend=True, colors=['orange', 'blue'], type='grouped')\n",
    "fig = Figure(marks=[bars], axes=[ax_x, ax_y], animation_duration=500)\n",
    "\n",
    "display(box_aggs)\n",
    "display(fig)"
   ]
  },
  {
   "cell_type": "code",
   "execution_count": 35,
   "metadata": {
    "collapsed": true
   },
   "outputs": [],
   "source": [
    "metrics_df['revenue_api'] = metrics_df['revenue_api'] / 1000"
   ]
  },
  {
   "cell_type": "code",
   "execution_count": 34,
   "metadata": {
    "collapsed": true
   },
   "outputs": [],
   "source": [
    "bars.opacities = [0.8] * len(bars.x) * 2"
   ]
  },
  {
   "cell_type": "code",
   "execution_count": null,
   "metadata": {
    "collapsed": true
   },
   "outputs": [],
   "source": [
    ""
   ]
  }
 ],
 "metadata": {
  "kernelspec": {
   "display_name": "Python 2",
   "language": "python",
   "name": "python2"
  },
  "language_info": {
   "codemirror_mode": {
    "name": "ipython",
    "version": 2.0
   },
   "file_extension": ".py",
   "mimetype": "text/x-python",
   "name": "python",
   "nbconvert_exporter": "python",
   "pygments_lexer": "ipython2",
   "version": "2.7.11"
  },
  "widgets": {
   "state": {
    "022f3a11abdd403d83ed659f30693085": {
     "views": []
    },
    "0767679e88844f59aae1df1641dd8633": {
     "views": []
    },
    "081b47705b1143e1bb83350c391730c6": {
     "views": []
    },
    "0dcd7955002248bbbd0f310ed49a9650": {
     "views": [
      {
       "cell_index": 51.0
      }
     ]
    },
    "22cd11e096ba4447b6eaea6d7b1d3a16": {
     "views": []
    },
    "30b874990f524712855645d8a9785d01": {
     "views": [
      {
       "cell_index": 51.0
      }
     ]
    },
    "31ed4f5ebfd147228c47c4e1db4975bb": {
     "views": []
    },
    "56d5bd7f58a041e788abf75de3287145": {
     "views": []
    },
    "595a784ca12b448bbdb7783078668c1c": {
     "views": []
    },
    "5b4019b9038f4148941de009b550da9b": {
     "views": []
    },
    "5eeb81b773d74a3599d35db49eed1805": {
     "views": []
    },
    "6bc56e08de5f4adc9ecf96afa9f523c4": {
     "views": []
    },
    "7c5e0bdb9aa94a6499557285d2c46d51": {
     "views": []
    },
    "91bf2fbcefd7405f99a9673aafcd7700": {
     "views": []
    },
    "a6a85e8c4d4a4f7bbf76d9a6ab4a3f14": {
     "views": []
    },
    "aeeafe82975941abada1eeaa46efc444": {
     "views": []
    },
    "bf8c9d793889444d800108a051ca437b": {
     "views": []
    },
    "c0a3407ecab64053b94e89ab0c6eaf19": {
     "views": []
    },
    "c3fb0486b99f440ea59de883cda62280": {
     "views": []
    },
    "c47ea587b2e34f1a915e86c66a3bf385": {
     "views": []
    },
    "c8811daf94494833a7ae6752d1e5c93d": {
     "views": []
    },
    "e128ec807d5943baa775ae614d37a2bf": {
     "views": []
    },
    "e21e64dbdf284ca7a82be975d4a3f3f0": {
     "views": []
    },
    "e848351f0b244df585ecbbfc63199902": {
     "views": []
    },
    "f7722c066e11470ebbcd8d24ef52952e": {
     "views": []
    }
   },
   "version": "1.1.2"
  }
 },
 "nbformat": 4,
 "nbformat_minor": 0
}