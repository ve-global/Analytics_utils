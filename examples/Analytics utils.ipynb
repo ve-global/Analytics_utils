{
 "cells": [
  {
   "cell_type": "markdown",
   "metadata": {},
   "source": [
    "# Summary\n",
    "\n",
    "\n",
    "This notebook show how to use utils functions to access LLD and Ve data.  \n",
    "We then present a use case to generate a report comparing LLD and API data.  \n",
    "\n",
    "\n",
    "**Note:** \n",
    " - the download of the report should take around 11min\n",
    " - to disable logs:\n",
    "    ```\n",
    "    import logging\n",
    "    logging.getLogger(\"analytics_utils\").setLevel(logging.INFO)\n",
    "    ```"
   ]
  },
  {
   "cell_type": "code",
   "execution_count": 1,
   "metadata": {
    "collapsed": false
   },
   "outputs": [],
   "source": [
    "from analytics_utils.spark_utils import add_pyspark_path, init_spark_py3, init_spark_py2\n",
    "\n",
    "spark_home =  '/usr/hdp/current/spark-client/'\n",
    "\n",
    "\n",
    "add_pyspark_path(spark_home)\n",
    "\n",
    "# Make sure that the .tar.gz is zipped in from the parent folder to pyspark3 and not /mnt/...\n",
    "archive = \"/mnt/home/brayere/pyspark3.tar.gz#pyspark3\"\n",
    "\n",
    "\n",
    "NOTEBOOK_NAME = \"Analytics utils\"\n",
    "\n",
    "try:\n",
    "    # sc, sql_context = init_spark_py3(NOTEBOOK_NAME, spark_home, archive)\n",
    "    # If you want Python 2\n",
    "    sc, sql_context = init_spark_py3(NOTEBOOK_NAME, spark_home, archive)\n",
    "except ValueError:\n",
    "    sc.stop()\n",
    "    sc, sql_context = init_spark()"
   ]
  },
  {
   "cell_type": "markdown",
   "metadata": {},
   "source": [
    "# LLD"
   ]
  },
  {
   "cell_type": "code",
   "execution_count": 2,
   "metadata": {
    "collapsed": true
   },
   "outputs": [],
   "source": [
    "import matplotlib.pyplot as plt\n",
    "import seaborn as sns\n",
    "%matplotlib inline"
   ]
  },
  {
   "cell_type": "code",
   "execution_count": 3,
   "metadata": {
    "collapsed": false
   },
   "outputs": [
    {
     "ename": "ImportError",
     "evalue": "cannot import name 'Events'",
     "output_type": "error",
     "traceback": [
      "\u001b[0;31m---------------------------------------------------------------------------\u001b[0m",
      "\u001b[0;31mImportError\u001b[0m                               Traceback (most recent call last)",
      "\u001b[0;32m<ipython-input-3-43604c9a0fa4>\u001b[0m in \u001b[0;36m<module>\u001b[0;34m()\u001b[0m\n\u001b[1;32m      1\u001b[0m \u001b[0;32mfrom\u001b[0m \u001b[0manalytics_utils\u001b[0m\u001b[0;34m.\u001b[0m\u001b[0mdata_feeds\u001b[0m \u001b[0;32mimport\u001b[0m \u001b[0mDataFeeds\u001b[0m\u001b[0;34m\u001b[0m\u001b[0m\n\u001b[0;32m----> 2\u001b[0;31m \u001b[0;32mfrom\u001b[0m \u001b[0manalytics_utils\u001b[0m\u001b[0;34m.\u001b[0m\u001b[0mfeeds\u001b[0m \u001b[0;32mimport\u001b[0m \u001b[0mVeCapture\u001b[0m\u001b[0;34m,\u001b[0m \u001b[0mAppNexus\u001b[0m\u001b[0;34m,\u001b[0m \u001b[0mEvents\u001b[0m\u001b[0;34m\u001b[0m\u001b[0m\n\u001b[0m\u001b[1;32m      3\u001b[0m \u001b[0;32mimport\u001b[0m \u001b[0manalytics_utils\u001b[0m\u001b[0;34m.\u001b[0m\u001b[0mreports\u001b[0m \u001b[0;32mas\u001b[0m \u001b[0mreports\u001b[0m\u001b[0;34m\u001b[0m\u001b[0m\n",
      "\u001b[0;31mImportError\u001b[0m: cannot import name 'Events'"
     ]
    }
   ],
   "source": [
    "from analytics_utils.data_feeds import DataFeeds\n",
    "from analytics_utils.feeds import VeCapture, AppNexus, Events\n",
    "import analytics_utils.reports as reports"
   ]
  },
  {
   "cell_type": "markdown",
   "metadata": {},
   "source": [
    "**Let's look at the available data: **"
   ]
  },
  {
   "cell_type": "code",
   "execution_count": null,
   "metadata": {
    "collapsed": false
   },
   "outputs": [],
   "source": [
    "print('Available feeds:')\n",
    "print('\\tAppNexus: %s' % [x.name for x in AppNexus])\n",
    "print('\\tVeCapture: %s' % [x.name for x in VeCapture])\n",
    "print('\\tEvents: %s' % [x.name for x in Events])"
   ]
  },
  {
   "cell_type": "markdown",
   "metadata": {},
   "source": [
    "**Loading parquet data**"
   ]
  },
  {
   "cell_type": "code",
   "execution_count": null,
   "metadata": {
    "collapsed": false
   },
   "outputs": [],
   "source": [
    "standard_feed = DataFeeds.get_feed_parquet(sql_context, AppNexus.standard, \n",
    "                                           from_date=\"2016-07-10\")"
   ]
  },
  {
   "cell_type": "markdown",
   "metadata": {},
   "source": [
    "**Note**: this is equivalent to\n",
    "```\n",
    "standard_feed = DataFeeds.get_feed_parquet(sqlContext, AppNexus.standard)\n",
    "standard_feed = standard_feed.filter(VeFuncs.filter_date(from_date=\"2016-07-01\"))\n",
    "\n",
    "```"
   ]
  },
  {
   "cell_type": "code",
   "execution_count": 7,
   "metadata": {
    "collapsed": false,
    "scrolled": true
   },
   "outputs": [
    {
     "name": "stdout",
     "output_type": "stream",
     "text": [
      "root\n",
      " |-- auction_id_64: long (nullable = true)\n",
      " |-- datetime: timestamp (nullable = true)\n",
      " |-- user_tz_offset: integer (nullable = true)\n",
      " |-- width: integer (nullable = true)\n",
      " |-- height: integer (nullable = true)\n",
      " |-- media_type: integer (nullable = true)\n",
      " |-- fold_position: integer (nullable = true)\n",
      " |-- event_type: string (nullable = true)\n",
      " |-- imp_type: integer (nullable = true)\n",
      " |-- payment_type: integer (nullable = true)\n",
      " |-- media_cost_dollars_cpm: double (nullable = true)\n",
      " |-- revenue_type: integer (nullable = true)\n",
      " |-- buyer_spend: double (nullable = true)\n",
      " |-- buyer_bid: double (nullable = true)\n",
      " |-- ecp: double (nullable = true)\n",
      " |-- eap: double (nullable = true)\n",
      " |-- is_imp: integer (nullable = true)\n",
      " |-- is_learn: integer (nullable = true)\n",
      " |-- predict_type_rev: integer (nullable = true)\n",
      " |-- othuser_id_64: long (nullable = true)\n",
      " |-- ip_address: string (nullable = true)\n",
      " |-- ip_address_trunc: string (nullable = true)\n",
      " |-- geo_country: string (nullable = true)\n",
      " |-- geo_region: string (nullable = true)\n",
      " |-- operating_system: integer (nullable = true)\n",
      " |-- browser: integer (nullable = true)\n",
      " |-- language: integer (nullable = true)\n",
      " |-- venue_id: integer (nullable = true)\n",
      " |-- seller_member_id: integer (nullable = true)\n",
      " |-- publisher_id: integer (nullable = true)\n",
      " |-- site_id: integer (nullable = true)\n",
      " |-- site_domain: string (nullable = true)\n",
      " |-- tag_id: integer (nullable = true)\n",
      " |-- external_inv_id: integer (nullable = true)\n",
      " |-- reserve_price: double (nullable = true)\n",
      " |-- seller_revenue_cpm: double (nullable = true)\n",
      " |-- media_buy_rev_share_pct: double (nullable = true)\n",
      " |-- pub_rule_id: integer (nullable = true)\n",
      " |-- seller_currency: string (nullable = true)\n",
      " |-- publisher_currency: string (nullable = true)\n",
      " |-- publisher_exchange_rate: double (nullable = true)\n",
      " |-- serving_fees_cpm: double (nullable = true)\n",
      " |-- serving_fees_revshare: double (nullable = true)\n",
      " |-- buyer_member_id: integer (nullable = true)\n",
      " |-- advertiser_id: integer (nullable = true)\n",
      " |-- brand_id: integer (nullable = true)\n",
      " |-- advertiser_frequency: integer (nullable = true)\n",
      " |-- advertiser_recency: integer (nullable = true)\n",
      " |-- insertion_order_id: integer (nullable = true)\n",
      " |-- campaign_group_id: integer (nullable = true)\n",
      " |-- campaign_id: integer (nullable = true)\n",
      " |-- creative_id: integer (nullable = true)\n",
      " |-- creative_freq: integer (nullable = true)\n",
      " |-- creative_rec: integer (nullable = true)\n",
      " |-- cadence_modifier: double (nullable = true)\n",
      " |-- can_convert: integer (nullable = true)\n",
      " |-- user_group_id: integer (nullable = true)\n",
      " |-- is_control: integer (nullable = true)\n",
      " |-- control_pct: double (nullable = true)\n",
      " |-- control_creative_id: integer (nullable = true)\n",
      " |-- is_click: integer (nullable = true)\n",
      " |-- pixel_id: integer (nullable = true)\n",
      " |-- is_remarketing: integer (nullable = true)\n",
      " |-- post_click_conv: integer (nullable = true)\n",
      " |-- post_view_conv: integer (nullable = true)\n",
      " |-- post_click_revenue: double (nullable = true)\n",
      " |-- post_view_revenue: double (nullable = true)\n",
      " |-- order_id: string (nullable = true)\n",
      " |-- external_data: string (nullable = true)\n",
      " |-- pricing_type: string (nullable = true)\n",
      " |-- booked_revenue_dollars: double (nullable = true)\n",
      " |-- booked_revenue_adv_curr: double (nullable = true)\n",
      " |-- commission_cpm: double (nullable = true)\n",
      " |-- commission_revshare: double (nullable = true)\n",
      " |-- auction_service_deduction: double (nullable = true)\n",
      " |-- auction_service_fees: double (nullable = true)\n",
      " |-- creative_overage_fees: double (nullable = true)\n",
      " |-- clear_fees: double (nullable = true)\n",
      " |-- buyer_currency: string (nullable = true)\n",
      " |-- advertiser_currency: string (nullable = true)\n",
      " |-- advertiser_exchange_rate: double (nullable = true)\n",
      " |-- latitude: double (nullable = true)\n",
      " |-- longitude: double (nullable = true)\n",
      " |-- device_unique_id: string (nullable = true)\n",
      " |-- device_model_id: integer (nullable = true)\n",
      " |-- carrier_id: integer (nullable = true)\n",
      " |-- deal_id: integer (nullable = true)\n",
      " |-- view_result_type: string (nullable = true)\n",
      " |-- application_id: string (nullable = true)\n",
      " |-- supply_type: string (nullable = true)\n",
      " |-- sdk_version: string (nullable = true)\n",
      " |-- optimization_zone_id: integer (nullable = true)\n",
      " |-- billing_period_id: integer (nullable = true)\n",
      " |-- view_non_measurable_reason: integer (nullable = true)\n",
      " |-- external_uid: string (nullable = true)\n",
      " |-- request_uuid: string (nullable = true)\n",
      " |-- geo_dma: integer (nullable = true)\n",
      " |-- geo_city: integer (nullable = true)\n",
      " |-- mobile_app_instance_id: integer (nullable = true)\n",
      " |-- traffic_source_code: string (nullable = true)\n",
      " |-- external_request_id: string (nullable = true)\n",
      " |-- deal_type: integer (nullable = true)\n",
      " |-- ym_floor_id: integer (nullable = true)\n",
      " |-- ym_bias_id: integer (nullable = true)\n",
      " |-- is_filtered_request: integer (nullable = true)\n",
      " |-- age: integer (nullable = true)\n",
      " |-- gender: string (nullable = true)\n",
      " |-- is_exclusive: integer (nullable = true)\n",
      " |-- bid_priority: integer (nullable = true)\n",
      " |-- custom_model_id: integer (nullable = true)\n",
      " |-- custom_model_last_modified: integer (nullable = true)\n",
      " |-- leaf_name: string (nullable = true)\n",
      " |-- data_costs_cpm: string (nullable = true)\n",
      " |-- year: integer (nullable = true)\n",
      " |-- month: integer (nullable = true)\n",
      " |-- day: integer (nullable = true)\n",
      "\n"
     ]
    }
   ],
   "source": [
    "standard_feed.printSchema()"
   ]
  },
  {
   "cell_type": "code",
   "execution_count": 15,
   "metadata": {
    "collapsed": false,
    "scrolled": true
   },
   "outputs": [
    {
     "data": {
      "text/plain": [
       "{'advertiser_currency': 'GBP',\n",
       " 'advertiser_exchange_rate': 0.7612,\n",
       " 'advertiser_frequency': 2,\n",
       " 'advertiser_id': 976697,\n",
       " 'advertiser_recency': 10,\n",
       " 'age': 0,\n",
       " 'application_id': '---',\n",
       " 'auction_id_64': 18313597427956,\n",
       " 'auction_service_deduction': 0.000235,\n",
       " 'auction_service_fees': 0.0,\n",
       " 'bid_priority': None,\n",
       " 'billing_period_id': 91478,\n",
       " 'booked_revenue_adv_curr': 0.0025,\n",
       " 'booked_revenue_dollars': 0.003284,\n",
       " 'brand_id': 110429,\n",
       " 'browser': 18,\n",
       " 'buyer_bid': 2.299002,\n",
       " 'buyer_currency': 'USD',\n",
       " 'buyer_member_id': 992,\n",
       " 'buyer_spend': 2.132056,\n",
       " 'cadence_modifier': 0.695919,\n",
       " 'campaign_group_id': 2983392,\n",
       " 'campaign_id': 12984486,\n",
       " 'can_convert': 1,\n",
       " 'carrier_id': 359,\n",
       " 'clear_fees': 0.0,\n",
       " 'commission_cpm': 0.0,\n",
       " 'commission_revshare': 0.0,\n",
       " 'control_creative_id': 0,\n",
       " 'control_pct': 0.0,\n",
       " 'creative_freq': 1,\n",
       " 'creative_id': 47059529,\n",
       " 'creative_overage_fees': 0.0,\n",
       " 'creative_rec': 10,\n",
       " 'custom_model_id': 0,\n",
       " 'custom_model_last_modified': 0,\n",
       " 'data_costs_cpm': '0.000000',\n",
       " 'datetime': datetime.datetime(2016, 7, 29, 12, 0, 39),\n",
       " 'day': 29,\n",
       " 'deal_id': 0,\n",
       " 'deal_type': 0,\n",
       " 'device_model_id': 0,\n",
       " 'device_unique_id': '',\n",
       " 'eap': 1.952,\n",
       " 'ecp': 4.58,\n",
       " 'event_type': 'imp',\n",
       " 'external_data': '',\n",
       " 'external_inv_id': None,\n",
       " 'external_request_id': 'NULL',\n",
       " 'external_uid': 'NULL',\n",
       " 'fold_position': 0,\n",
       " 'gender': 'u',\n",
       " 'geo_city': 104213,\n",
       " 'geo_country': 'GB',\n",
       " 'geo_dma': 1,\n",
       " 'geo_region': 'H8',\n",
       " 'height': 600,\n",
       " 'imp_type': 7,\n",
       " 'insertion_order_id': 323656,\n",
       " 'ip_address': '86.175.243.63',\n",
       " 'ip_address_trunc': '86.175.243.0',\n",
       " 'is_click': 0,\n",
       " 'is_control': 0,\n",
       " 'is_exclusive': None,\n",
       " 'is_filtered_request': None,\n",
       " 'is_imp': 1,\n",
       " 'is_learn': 0,\n",
       " 'is_remarketing': 0,\n",
       " 'language': 1,\n",
       " 'latitude': None,\n",
       " 'leaf_name': '---',\n",
       " 'longitude': None,\n",
       " 'media_buy_rev_share_pct': None,\n",
       " 'media_cost_dollars_cpm': 2.132056,\n",
       " 'media_type': 1,\n",
       " 'mobile_app_instance_id': 0,\n",
       " 'month': 7,\n",
       " 'operating_system': 92,\n",
       " 'optimization_zone_id': None,\n",
       " 'order_id': '',\n",
       " 'othuser_id_64': 7458962556908286393,\n",
       " 'payment_type': 0,\n",
       " 'pixel_id': 0,\n",
       " 'post_click_conv': 0,\n",
       " 'post_click_revenue': 0.0,\n",
       " 'post_view_conv': 0,\n",
       " 'post_view_revenue': 0.0,\n",
       " 'predict_type_rev': -1,\n",
       " 'pricing_type': 'cpm',\n",
       " 'pub_rule_id': None,\n",
       " 'publisher_currency': 'NULL',\n",
       " 'publisher_exchange_rate': None,\n",
       " 'publisher_id': 136107,\n",
       " 'request_uuid': '13aff691-9ee2-4bdc-b6b4-95253c113854',\n",
       " 'reserve_price': None,\n",
       " 'revenue_type': 0,\n",
       " 'sdk_version': '---',\n",
       " 'seller_currency': 'NULL',\n",
       " 'seller_member_id': 459,\n",
       " 'seller_revenue_cpm': None,\n",
       " 'serving_fees_cpm': 0.0,\n",
       " 'serving_fees_revshare': 0.0,\n",
       " 'site_domain': 'ebay.co.uk',\n",
       " 'site_id': None,\n",
       " 'supply_type': '0',\n",
       " 'tag_id': 881336,\n",
       " 'traffic_source_code': 'NULL',\n",
       " 'user_group_id': 393,\n",
       " 'user_tz_offset': 1,\n",
       " 'venue_id': 132341,\n",
       " 'view_non_measurable_reason': 0,\n",
       " 'view_result_type': '1',\n",
       " 'width': 160,\n",
       " 'year': 2016,\n",
       " 'ym_bias_id': None,\n",
       " 'ym_floor_id': None}"
      ]
     },
     "execution_count": 15,
     "metadata": {},
     "output_type": "execute_result"
    }
   ],
   "source": [
    "standard_feed.take(1)[0].asDict()"
   ]
  },
  {
   "cell_type": "markdown",
   "metadata": {},
   "source": [
    "**Loading json data**"
   ]
  },
  {
   "cell_type": "code",
   "execution_count": 8,
   "metadata": {
    "collapsed": false
   },
   "outputs": [],
   "source": [
    "df = sql_context.read.json(sql_context, AppNexus.)"
   ]
  },
  {
   "cell_type": "code",
   "execution_count": 1,
   "metadata": {
    "collapsed": false
   },
   "outputs": [
    {
     "ename": "NameError",
     "evalue": "name 'DataFeeds' is not defined",
     "output_type": "error",
     "traceback": [
      "\u001b[0;31m---------------------------------------------------------------------------\u001b[0m",
      "\u001b[0;31mNameError\u001b[0m                                 Traceback (most recent call last)",
      "\u001b[0;32m<ipython-input-1-024609b5e794>\u001b[0m in \u001b[0;36m<module>\u001b[0;34m()\u001b[0m\n\u001b[0;32m----> 1\u001b[0;31m \u001b[0mpageView_feed\u001b[0m \u001b[0;34m=\u001b[0m \u001b[0mDataFeeds\u001b[0m\u001b[0;34m.\u001b[0m\u001b[0mget_feed_json\u001b[0m\u001b[0;34m(\u001b[0m\u001b[0msql_context\u001b[0m\u001b[0;34m,\u001b[0m \u001b[0mEvents\u001b[0m\u001b[0;34m.\u001b[0m\u001b[0mapps\u001b[0m\u001b[0;34m)\u001b[0m\u001b[0;34m\u001b[0m\u001b[0m\n\u001b[0m",
      "\u001b[0;31mNameError\u001b[0m: name 'DataFeeds' is not defined"
     ]
    }
   ],
   "source": [
    "pageView_feed = DataFeeds.get_feed_json(sql_context, Events.apps)"
   ]
  },
  {
   "cell_type": "code",
   "execution_count": 12,
   "metadata": {
    "collapsed": false,
    "scrolled": true
   },
   "outputs": [
    {
     "name": "stdout",
     "output_type": "stream",
     "text": [
      "root\n",
      " |-- session_id: string (nullable = true)\n",
      " |-- page_id: long (nullable = true)\n",
      " |-- url: string (nullable = true)\n",
      " |-- viewed_at: timestamp (nullable = true)\n",
      " |-- num_page_events: long (nullable = true)\n",
      " |-- customer_id: long (nullable = true)\n",
      " |-- client_ip: string (nullable = true)\n",
      " |-- ve_cookie_id: string (nullable = true)\n",
      " |-- journey_code: string (nullable = true)\n",
      " |-- user_agent: string (nullable = true)\n",
      " |-- client_language: string (nullable = true)\n",
      " |-- start_date: timestamp (nullable = true)\n",
      " |-- end_date: timestamp (nullable = true)\n",
      " |-- platform: string (nullable = true)\n",
      " |-- abandon_data_state: string (nullable = true)\n",
      " |-- email: string (nullable = true)\n",
      " |-- partner_cookies: map (nullable = true)\n",
      " |    |-- key: string\n",
      " |    |-- value: string (valueContainsNull = true)\n",
      " |-- geo_info: struct (nullable = true)\n",
      " |    |-- city: string (nullable = true)\n",
      " |    |-- continent: string (nullable = true)\n",
      " |    |-- country: string (nullable = true)\n",
      " |    |-- country_code: string (nullable = true)\n",
      " |    |-- geoname_id: long (nullable = true)\n",
      " |    |-- latitude: double (nullable = true)\n",
      " |    |-- longitude: double (nullable = true)\n",
      " |    |-- timezone: string (nullable = true)\n",
      " |-- ua_info: struct (nullable = true)\n",
      " |    |-- device_brand: string (nullable = true)\n",
      " |    |-- device_family: string (nullable = true)\n",
      " |    |-- device_model: string (nullable = true)\n",
      " |    |-- os_family: string (nullable = true)\n",
      " |    |-- os_major: string (nullable = true)\n",
      " |    |-- os_minor: string (nullable = true)\n",
      " |    |-- os_patch: string (nullable = true)\n",
      " |    |-- os_patch_minor: string (nullable = true)\n",
      " |    |-- user_agent_family: string (nullable = true)\n",
      " |    |-- user_agent_major: string (nullable = true)\n",
      " |    |-- user_agent_minor: string (nullable = true)\n",
      " |    |-- user_agent_patch: string (nullable = true)\n",
      " |-- categories: map (nullable = true)\n",
      " |    |-- key: string\n",
      " |    |-- value: array (valueContainsNull = true)\n",
      " |    |    |-- element: string (containsNull = true)\n",
      " |-- i_year: integer (nullable = true)\n",
      " |-- i_month: integer (nullable = true)\n",
      " |-- i_day: integer (nullable = true)\n",
      "\n"
     ]
    }
   ],
   "source": [
    "pageView_feed.printSchema()"
   ]
  },
  {
   "cell_type": "code",
   "execution_count": null,
   "metadata": {
    "collapsed": true
   },
   "outputs": [],
   "source": [
    "standard_feed"
   ]
  }
 ],
 "metadata": {
  "anaconda-cloud": {},
  "kernelspec": {
   "display_name": "Python [default]",
   "language": "python",
   "name": "python3"
  },
  "language_info": {
   "codemirror_mode": {
    "name": "ipython",
    "version": 3
   },
   "file_extension": ".py",
   "mimetype": "text/x-python",
   "name": "python",
   "nbconvert_exporter": "python",
   "pygments_lexer": "ipython3",
   "version": "3.5.2"
  }
 },
 "nbformat": 4,
 "nbformat_minor": 0
}
