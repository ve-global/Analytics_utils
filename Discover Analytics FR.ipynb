{
 "cells": [
  {
   "cell_type": "code",
   "execution_count": 1,
   "metadata": {
    "collapsed": false
   },
   "outputs": [],
   "source": [
    "import os\n",
    "from analytics_utils.spark_utils import add_pyspark_path\n",
    "spark_home =  '/usr/hdp/current/spark-client/'\n",
    "add_pyspark_path(spark_home)\n",
    "from pyspark import SparkContext\n",
    "from pyspark.sql import HiveContext\n",
    "\n",
    "\n",
    "import pyspark.sql.functions as F\n",
    "from pyspark.sql.functions import udf\n",
    "from pyspark.sql.window import Window\n",
    "from pyspark.sql.types import *\n",
    "\n",
    "max_executors = 25\n",
    "\n",
    "python_3_path = \"/mnt/home/brayere/pyspark3/bin/python\"\n",
    "archive = \"/mnt/home/brayere/pyspark3.tar.gz#pyspark3\"\n",
    "\n",
    "NOTEBOOK_NAME = \"Discover Analytics FR\"\n",
    "\n",
    "\n",
    "def init_spark():\n",
    "    # spark submit\n",
    "    os.environ['PYSPARK_PYTHON'] = \"./pyspark3/pyspark3/bin/python\"\n",
    "    os.environ['PYSPARK_SUBMIT_ARGS'] = \\\n",
    "    '--verbose ' \\\n",
    "    '--jars /usr/hdp/current/hadoop-client/hadoop-azure.jar,/usr/hdp/current/hadoop-client/lib/azure-storage-2.2.0.jar ' \\\n",
    "    '--master yarn ' \\\n",
    "    '--deploy-mode client ' \\\n",
    "    '--driver-cores 2 --driver-memory 8g ' \\\n",
    "    '--executor-cores 1 --executor-memory 3g ' \\\n",
    "    '--archives \"{archive}\" ' \\\n",
    "    '--conf spark.executorEnv.PYTHONHASHSEED=0 ' \\\n",
    "    '--conf spark.dynamicAllocation.maxExecutors={max_executors} ' \\\n",
    "    '--conf spark.shuffle.service.enabled=true ' \\\n",
    "    '--conf spark.dynamicAllocation.enabled=true ' \\\n",
    "    '--conf spark.sql.parquet.compression.codec=snappy ' \\\n",
    "    'pyspark-shell'.format(max_executors=max_executors, \n",
    "                           archive=archive)\n",
    "\n",
    "    # spark context\n",
    "    sc = SparkContext(appName=NOTEBOOK_NAME, sparkHome=spark_home)\n",
    "    sc.setLogLevel('ERROR')\n",
    "    \n",
    "    # sql context\n",
    "    sql_context = HiveContext(sparkContext=sc)\n",
    "    return sc, sql_context\n",
    "\n",
    "try:\n",
    "    sc, sql_context = init_spark()\n",
    "except ValueError:\n",
    "    sc.stop()\n",
    "    sc, sql_context = init_spark()"
   ]
  },
  {
   "cell_type": "code",
   "execution_count": 2,
   "metadata": {
    "collapsed": false
   },
   "outputs": [],
   "source": [
    "from analytics_utils.data_feeds import DataFeeds\n",
    "from analytics_utils.feeds import VeCapture, AppNexus\n",
    "import analytics_utils.reports as reports\n",
    "from analytics_utils import ve_funcs, ve_utils\n",
    "\n",
    "from collections import Counter\n",
    "import pandas as pd"
   ]
  },
  {
   "cell_type": "markdown",
   "metadata": {},
   "source": [
    "### 1. Loading feeds"
   ]
  },
  {
   "cell_type": "code",
   "execution_count": 3,
   "metadata": {
    "collapsed": false
   },
   "outputs": [],
   "source": [
    "from_date, to_date = \"2016-07-01\", \"2016-07-15\"\n",
    "\n",
    "countries = ['FR']\n",
    "\n",
    "standard_feed = DataFeeds.get_feed_parquet(sql_context, AppNexus.standard, \n",
    "                                           from_date=from_date, to_date=to_date, countries=['FR'])\n",
    "segment_feed =  DataFeeds.get_feed_parquet(sql_context, AppNexus.segment, \n",
    "                                           from_date=from_date, to_date=to_date)\n",
    "pixel_feed = DataFeeds.get_feed_parquet(sql_context, AppNexus.pixel, \n",
    "                                        from_date=from_date, to_date=to_date)\n",
    "\n",
    "page_feed = DataFeeds.get_feed_parquet(sql_context, VeCapture.page_view, \n",
    "                                       from_date=from_date, to_date=to_date)\n",
    "categ_30d_feed =  DataFeeds.get_feed_parquet(sql_context, VeCapture.category_30d, \n",
    "                                             from_date=from_date, to_date=to_date)\n",
    "categorizer_feed = DataFeeds.get_feed_parquet(sql_context, VeCapture.categorizer,\n",
    "                                             from_date=from_date, to_date=to_date)\n"
   ]
  },
  {
   "cell_type": "markdown",
   "metadata": {},
   "source": [
    "### 2. Getting the mapping from the Appnexus API"
   ]
  },
  {
   "cell_type": "code",
   "execution_count": 4,
   "metadata": {
    "collapsed": false
   },
   "outputs": [
    {
     "name": "stdout",
     "output_type": "stream",
     "text": [
      "\n"
     ]
    }
   ],
   "source": [
    "from appnexus_api import APIHandler\n",
    "\n",
    "def get_mapping(api, df):\n",
    "    mapping = {}\n",
    "    for f, name in [(api.get_insertion_order, 'insertion_order_id'), \n",
    "                    (api.get_line_item, 'line_items'),\n",
    "                    (api.get_pixel, 'pixel_id'), \n",
    "                    (api.get_advertiser, 'advertiser_id')]:\n",
    "        mapping[\"{}_name\".format(name).replace('_id', '')] = APIHandler.bulk_requests(f, df[name].unique().tolist())\n",
    "    return mapping"
   ]
  },
  {
   "cell_type": "code",
   "execution_count": 5,
   "metadata": {
    "collapsed": false,
    "scrolled": true
   },
   "outputs": [
    {
     "name": "stdout",
     "output_type": "stream",
     "text": [
      "CPU times: user 56 ms, sys: 4 ms, total: 60 ms\n",
      "Wall time: 58 s\n"
     ]
    }
   ],
   "source": [
    "%%time\n",
    "mappings_df = standard_feed.select(\n",
    "                   standard_feed['advertiser_id'],\n",
    "                   standard_feed['campaign_group_id'].alias('line_items'),\n",
    "                   standard_feed['insertion_order_id'],\n",
    "                   standard_feed['pixel_id']).distinct().toPandas()"
   ]
  },
  {
   "cell_type": "code",
   "execution_count": 6,
   "metadata": {
    "collapsed": false
   },
   "outputs": [
    {
     "name": "stdout",
     "output_type": "stream",
     "text": [
      "\n",
      "\n",
      "\n",
      "\n"
     ]
    }
   ],
   "source": [
    "APPNEXUS_ACCOUNT = {\n",
    "        'username': \"ve_platform\",\n",
    "        'password': \"(CZ{9:!XG;ke\"\n",
    "}\n",
    "\n",
    "api = APIHandler(**APPNEXUS_ACCOUNT)\n",
    "mappings = get_mapping(api, mappings_df)"
   ]
  },
  {
   "cell_type": "markdown",
   "metadata": {},
   "source": [
    "### 3. Analytics"
   ]
  },
  {
   "cell_type": "code",
   "execution_count": 9,
   "metadata": {
    "collapsed": true
   },
   "outputs": [],
   "source": [
    "carlo = standard_feed.filter(standard_feed.othuser_id_64 == 3361244746898326991)"
   ]
  },
  {
   "cell_type": "code",
   "execution_count": 10,
   "metadata": {
    "collapsed": false
   },
   "outputs": [
    {
     "data": {
      "text/plain": [
       "1295"
      ]
     },
     "execution_count": 10,
     "metadata": {},
     "output_type": "execute_result"
    }
   ],
   "source": [
    "carlo.count()"
   ]
  },
  {
   "cell_type": "code",
   "execution_count": null,
   "metadata": {
    "collapsed": true
   },
   "outputs": [],
   "source": [
    "carlo_df = carlo.toPandas()"
   ]
  },
  {
   "cell_type": "code",
   "execution_count": null,
   "metadata": {
    "collapsed": false
   },
   "outputs": [],
   "source": [
    "carlo_df.head()"
   ]
  },
  {
   "cell_type": "markdown",
   "metadata": {},
   "source": [
    "#### 1. Getting converted users using the pixel mapping"
   ]
  },
  {
   "cell_type": "code",
   "execution_count": 7,
   "metadata": {
    "collapsed": false
   },
   "outputs": [
    {
     "data": {
      "text/plain": [
       "['advertiser_name', 'insertion_order_name', 'line_items_name', 'pixel_name']"
      ]
     },
     "execution_count": 7,
     "metadata": {},
     "output_type": "execute_result"
    }
   ],
   "source": [
    "import json\n",
    "with open('../notebook/data/mapping_saved.json', 'r') as f:\n",
    "    mappings = json.load(f)\n",
    "list(mappings)"
   ]
  },
  {
   "cell_type": "code",
   "execution_count": 8,
   "metadata": {
    "collapsed": false
   },
   "outputs": [
    {
     "name": "stderr",
     "output_type": "stream",
     "text": [
      "2016-09-26 08:39:48 INFO Converted pixels: 101\n",
      "2016-09-26 08:40:33 INFO [get_pixel_converted_users] 0.76007249 min\n",
      "2016-09-26 08:40:33 INFO Users that converted: 1946\n"
     ]
    }
   ],
   "source": [
    "mapping_rules = ve_funcs.mapping_rules['FR']\n",
    "\n",
    "\n",
    "feed = ve_funcs.filter_pixel_converted_users(standard_feed, mappings['pixel_name'], \n",
    "                                             mapping_rules['pixel_type'])\n",
    "feed = ve_funcs.map_pixels(feed, sql_context, mappings['pixel_name'], \n",
    "                           mapping_rules[\"pixel_type\"])\n",
    "feed = ve_funcs.map_insertion_orders(feed, sql_context, mappings['line_items_name'], \n",
    "                           mapping_rules[\"campaign_type\"])"
   ]
  },
  {
   "cell_type": "code",
   "execution_count": 9,
   "metadata": {
    "collapsed": false
   },
   "outputs": [],
   "source": [
    "feed = DataFeeds.join_appnexus_feeds(sql_context, feed, countries=countries)\n",
    "feed = DataFeeds.add_columns(feed)"
   ]
  },
  {
   "cell_type": "code",
   "execution_count": null,
   "metadata": {
    "collapsed": true
   },
   "outputs": [],
   "source": [
    "feed = feed.cache()\n",
    "print(feed.count())"
   ]
  },
  {
   "cell_type": "code",
   "execution_count": 10,
   "metadata": {
    "collapsed": false,
    "scrolled": true
   },
   "outputs": [
    {
     "name": "stdout",
     "output_type": "stream",
     "text": [
      "root\n",
      " |-- auction_id_64: long (nullable = true)\n",
      " |-- datetime: timestamp (nullable = true)\n",
      " |-- user_tz_offset: integer (nullable = true)\n",
      " |-- width: integer (nullable = true)\n",
      " |-- height: integer (nullable = true)\n",
      " |-- media_type: integer (nullable = true)\n",
      " |-- fold_position: integer (nullable = true)\n",
      " |-- event_type: string (nullable = true)\n",
      " |-- imp_type: integer (nullable = true)\n",
      " |-- payment_type: integer (nullable = true)\n",
      " |-- media_cost_dollars_cpm: double (nullable = true)\n",
      " |-- revenue_type: integer (nullable = true)\n",
      " |-- buyer_spend: double (nullable = true)\n",
      " |-- buyer_bid: double (nullable = true)\n",
      " |-- ecp: double (nullable = true)\n",
      " |-- eap: double (nullable = true)\n",
      " |-- is_imp: integer (nullable = true)\n",
      " |-- is_learn: integer (nullable = true)\n",
      " |-- predict_type_rev: integer (nullable = true)\n",
      " |-- othuser_id_64: long (nullable = true)\n",
      " |-- ip_address: string (nullable = true)\n",
      " |-- ip_address_trunc: string (nullable = true)\n",
      " |-- geo_country: string (nullable = true)\n",
      " |-- geo_region: string (nullable = true)\n",
      " |-- operating_system: integer (nullable = true)\n",
      " |-- browser: integer (nullable = true)\n",
      " |-- language: integer (nullable = true)\n",
      " |-- venue_id: integer (nullable = true)\n",
      " |-- seller_member_id: integer (nullable = true)\n",
      " |-- publisher_id: integer (nullable = true)\n",
      " |-- site_id: integer (nullable = true)\n",
      " |-- site_domain: string (nullable = true)\n",
      " |-- tag_id: integer (nullable = true)\n",
      " |-- external_inv_id: integer (nullable = true)\n",
      " |-- reserve_price: double (nullable = true)\n",
      " |-- seller_revenue_cpm: double (nullable = true)\n",
      " |-- media_buy_rev_share_pct: double (nullable = true)\n",
      " |-- pub_rule_id: integer (nullable = true)\n",
      " |-- seller_currency: string (nullable = true)\n",
      " |-- publisher_currency: string (nullable = true)\n",
      " |-- publisher_exchange_rate: double (nullable = true)\n",
      " |-- serving_fees_cpm: double (nullable = true)\n",
      " |-- serving_fees_revshare: double (nullable = true)\n",
      " |-- buyer_member_id: integer (nullable = true)\n",
      " |-- advertiser_id: integer (nullable = true)\n",
      " |-- brand_id: integer (nullable = true)\n",
      " |-- advertiser_frequency: integer (nullable = true)\n",
      " |-- advertiser_recency: integer (nullable = true)\n",
      " |-- insertion_order_id: integer (nullable = true)\n",
      " |-- campaign_group_id: integer (nullable = true)\n",
      " |-- campaign_id: integer (nullable = true)\n",
      " |-- creative_id: integer (nullable = true)\n",
      " |-- creative_freq: integer (nullable = true)\n",
      " |-- creative_rec: integer (nullable = true)\n",
      " |-- cadence_modifier: double (nullable = true)\n",
      " |-- can_convert: integer (nullable = true)\n",
      " |-- user_group_id: integer (nullable = true)\n",
      " |-- is_control: integer (nullable = true)\n",
      " |-- control_pct: double (nullable = true)\n",
      " |-- control_creative_id: integer (nullable = true)\n",
      " |-- is_click: integer (nullable = true)\n",
      " |-- pixel_id: integer (nullable = true)\n",
      " |-- is_remarketing: integer (nullable = true)\n",
      " |-- post_click_conv: integer (nullable = true)\n",
      " |-- post_view_conv: integer (nullable = true)\n",
      " |-- post_click_revenue: double (nullable = true)\n",
      " |-- post_view_revenue: double (nullable = true)\n",
      " |-- order_id: string (nullable = true)\n",
      " |-- external_data: string (nullable = true)\n",
      " |-- pricing_type: string (nullable = true)\n",
      " |-- booked_revenue_dollars: double (nullable = true)\n",
      " |-- booked_revenue_adv_curr: double (nullable = true)\n",
      " |-- commission_cpm: double (nullable = true)\n",
      " |-- commission_revshare: double (nullable = true)\n",
      " |-- auction_service_deduction: double (nullable = true)\n",
      " |-- auction_service_fees: double (nullable = true)\n",
      " |-- creative_overage_fees: double (nullable = true)\n",
      " |-- clear_fees: double (nullable = true)\n",
      " |-- buyer_currency: string (nullable = true)\n",
      " |-- advertiser_currency: string (nullable = true)\n",
      " |-- advertiser_exchange_rate: double (nullable = true)\n",
      " |-- latitude: double (nullable = true)\n",
      " |-- longitude: double (nullable = true)\n",
      " |-- device_unique_id: string (nullable = true)\n",
      " |-- device_model_id: integer (nullable = true)\n",
      " |-- carrier_id: integer (nullable = true)\n",
      " |-- deal_id: integer (nullable = true)\n",
      " |-- view_result_type: string (nullable = true)\n",
      " |-- application_id: string (nullable = true)\n",
      " |-- supply_type: string (nullable = true)\n",
      " |-- sdk_version: string (nullable = true)\n",
      " |-- optimization_zone_id: integer (nullable = true)\n",
      " |-- billing_period_id: integer (nullable = true)\n",
      " |-- view_non_measurable_reason: integer (nullable = true)\n",
      " |-- external_uid: string (nullable = true)\n",
      " |-- request_uuid: string (nullable = true)\n",
      " |-- geo_dma: integer (nullable = true)\n",
      " |-- geo_city: integer (nullable = true)\n",
      " |-- mobile_app_instance_id: integer (nullable = true)\n",
      " |-- traffic_source_code: string (nullable = true)\n",
      " |-- external_request_id: string (nullable = true)\n",
      " |-- deal_type: integer (nullable = true)\n",
      " |-- ym_floor_id: integer (nullable = true)\n",
      " |-- ym_bias_id: integer (nullable = true)\n",
      " |-- is_filtered_request: integer (nullable = true)\n",
      " |-- age: integer (nullable = true)\n",
      " |-- gender: string (nullable = true)\n",
      " |-- is_exclusive: integer (nullable = true)\n",
      " |-- bid_priority: integer (nullable = true)\n",
      " |-- custom_model_id: integer (nullable = true)\n",
      " |-- custom_model_last_modified: integer (nullable = true)\n",
      " |-- leaf_name: string (nullable = true)\n",
      " |-- data_costs_cpm: string (nullable = true)\n",
      " |-- year: integer (nullable = true)\n",
      " |-- month: integer (nullable = true)\n",
      " |-- day: integer (nullable = true)\n",
      " |-- pixel_name: string (nullable = true)\n",
      " |-- is_conv_pixel: long (nullable = true)\n",
      " |-- insertion_order_name: string (nullable = true)\n",
      " |-- insertion_order_type: string (nullable = true)\n",
      " |-- member_id: integer (nullable = true)\n",
      " |-- segment_id: integer (nullable = true)\n",
      " |-- is_daily_unique: integer (nullable = true)\n",
      " |-- is_monthly_unique: integer (nullable = true)\n",
      " |-- value: integer (nullable = true)\n",
      " |-- pixel_id_2: integer (nullable = true)\n",
      " |-- date: date (nullable = true)\n",
      " |-- is_impression: integer (nullable = false)\n",
      " |-- is_conv: integer (nullable = false)\n",
      " |-- is_viewed: integer (nullable = false)\n",
      " |-- is_pc_conv: integer (nullable = false)\n",
      " |-- is_pv_conv: integer (nullable = false)\n",
      " |-- age_clean: integer (nullable = true)\n",
      "\n"
     ]
    }
   ],
   "source": [
    "feed.printSchema()\n"
   ]
  },
  {
   "cell_type": "markdown",
   "metadata": {},
   "source": [
    "**2. Aggregation on the auction level**"
   ]
  },
  {
   "cell_type": "code",
   "execution_count": 15,
   "metadata": {
    "collapsed": false,
    "scrolled": false
   },
   "outputs": [
    {
     "name": "stdout",
     "output_type": "stream",
     "text": [
      "199 dropped (1.11%)\n",
      "CPU times: user 60 ms, sys: 16 ms, total: 76 ms\n",
      "Wall time: 1min 48s\n"
     ]
    }
   ],
   "source": [
    "%%time\n",
    "\n",
    "auctions = DataFeeds.get_auctions(feed) \n",
    "auctions = auctions.cache()\n",
    "count_before = auctions.count()\n",
    "auctions = auctions.filter(auctions.nb_imps >= 1)\n",
    "count_after = auctions.count()\n",
    "\n",
    "diff_count = count_before - count_after\n",
    "print('{} dropped ({:.2f}%)'.format(diff_count, diff_count* 100. / count_before))"
   ]
  },
  {
   "cell_type": "code",
   "execution_count": 16,
   "metadata": {
    "collapsed": false
   },
   "outputs": [],
   "source": [
    "auctions_2 = (auctions\n",
    "                 .withColumn('operating_systems', ve_utils.most_common_udf('operating_systems'))\n",
    "                 .withColumn('genders', ve_utils.most_common_udf('genders'))\n",
    "                 .withColumn('member_ids', ve_utils.most_common_udf('member_ids'))\n",
    "                 .withColumn('segment_ids', ve_utils.most_common_udf('segment_ids'))\n",
    "                 .withColumn('values', ve_utils.most_common_udf('values'))\n",
    "                 .withColumn('is_conv_pixel', F.when( auctions.nb_conv_pixels > 0, 1).otherwise(0))\n",
    "                ).drop('nb_conv_pixels')"
   ]
  },
  {
   "cell_type": "code",
   "execution_count": 17,
   "metadata": {
    "collapsed": false,
    "scrolled": false
   },
   "outputs": [
    {
     "ename": "Py4JJavaError",
     "evalue": "An error occurred while calling o2601.count.\n: org.apache.spark.SparkException: Job aborted due to stage failure: Task 7 in stage 85.0 failed 4 times, most recent failure: Lost task 7.3 in stage 85.0 (TID 4496, data-node-04.veanalytics.dom): org.apache.spark.api.python.PythonException: Traceback (most recent call last):\n  File \"/disks/drive1/hadoop/yarn/local/usercache/brayere/appcache/application_1469096324350_2059/container_e12_1469096324350_2059_01_000066/pyspark.zip/pyspark/worker.py\", line 98, in main\n    command = pickleSer._read_with_length(infile)\n  File \"/disks/drive1/hadoop/yarn/local/usercache/brayere/appcache/application_1469096324350_2059/container_e12_1469096324350_2059_01_000066/pyspark.zip/pyspark/serializers.py\", line 164, in _read_with_length\n    return self.loads(obj)\n  File \"/disks/drive1/hadoop/yarn/local/usercache/brayere/appcache/application_1469096324350_2059/container_e12_1469096324350_2059_01_000066/pyspark.zip/pyspark/serializers.py\", line 419, in loads\n    return pickle.loads(obj, encoding=encoding)\nImportError: No module named 'analytics_utils'\n\n\tat org.apache.spark.api.python.PythonRunner$$anon$1.read(PythonRDD.scala:166)\n\tat org.apache.spark.api.python.PythonRunner$$anon$1.<init>(PythonRDD.scala:207)\n\tat org.apache.spark.api.python.PythonRunner.compute(PythonRDD.scala:125)\n\tat org.apache.spark.sql.execution.BatchPythonEvaluation$$anonfun$doExecute$1.apply(python.scala:405)\n\tat org.apache.spark.sql.execution.BatchPythonEvaluation$$anonfun$doExecute$1.apply(python.scala:370)\n\tat org.apache.spark.rdd.RDD$$anonfun$mapPartitions$1$$anonfun$apply$22.apply(RDD.scala:717)\n\tat org.apache.spark.rdd.RDD$$anonfun$mapPartitions$1$$anonfun$apply$22.apply(RDD.scala:717)\n\tat org.apache.spark.rdd.MapPartitionsRDD.compute(MapPartitionsRDD.scala:38)\n\tat org.apache.spark.rdd.RDD.computeOrReadCheckpoint(RDD.scala:313)\n\tat org.apache.spark.rdd.RDD.iterator(RDD.scala:277)\n\tat org.apache.spark.rdd.MapPartitionsRDD.compute(MapPartitionsRDD.scala:38)\n\tat org.apache.spark.rdd.RDD.computeOrReadCheckpoint(RDD.scala:313)\n\tat org.apache.spark.rdd.RDD.iterator(RDD.scala:277)\n\tat org.apache.spark.rdd.MapPartitionsRDD.compute(MapPartitionsRDD.scala:38)\n\tat org.apache.spark.rdd.RDD.computeOrReadCheckpoint(RDD.scala:313)\n\tat org.apache.spark.rdd.RDD.iterator(RDD.scala:277)\n\tat org.apache.spark.rdd.MapPartitionsRDD.compute(MapPartitionsRDD.scala:38)\n\tat org.apache.spark.rdd.RDD.computeOrReadCheckpoint(RDD.scala:313)\n\tat org.apache.spark.rdd.RDD.iterator(RDD.scala:277)\n\tat org.apache.spark.rdd.MapPartitionsRDD.compute(MapPartitionsRDD.scala:38)\n\tat org.apache.spark.rdd.RDD.computeOrReadCheckpoint(RDD.scala:313)\n\tat org.apache.spark.rdd.RDD.iterator(RDD.scala:277)\n\tat org.apache.spark.rdd.MapPartitionsRDD.compute(MapPartitionsRDD.scala:38)\n\tat org.apache.spark.rdd.RDD.computeOrReadCheckpoint(RDD.scala:313)\n\tat org.apache.spark.rdd.RDD.iterator(RDD.scala:277)\n\tat org.apache.spark.rdd.MapPartitionsRDD.compute(MapPartitionsRDD.scala:38)\n\tat org.apache.spark.rdd.RDD.computeOrReadCheckpoint(RDD.scala:313)\n\tat org.apache.spark.rdd.RDD.iterator(RDD.scala:277)\n\tat org.apache.spark.rdd.MapPartitionsRDD.compute(MapPartitionsRDD.scala:38)\n\tat org.apache.spark.rdd.RDD.computeOrReadCheckpoint(RDD.scala:313)\n\tat org.apache.spark.rdd.RDD.iterator(RDD.scala:277)\n\tat org.apache.spark.rdd.MapPartitionsRDD.compute(MapPartitionsRDD.scala:38)\n\tat org.apache.spark.rdd.RDD.computeOrReadCheckpoint(RDD.scala:313)\n\tat org.apache.spark.rdd.RDD.iterator(RDD.scala:277)\n\tat org.apache.spark.rdd.MapPartitionsRDD.compute(MapPartitionsRDD.scala:38)\n\tat org.apache.spark.rdd.RDD.computeOrReadCheckpoint(RDD.scala:313)\n\tat org.apache.spark.rdd.RDD.iterator(RDD.scala:277)\n\tat org.apache.spark.rdd.MapPartitionsRDD.compute(MapPartitionsRDD.scala:38)\n\tat org.apache.spark.rdd.RDD.computeOrReadCheckpoint(RDD.scala:313)\n\tat org.apache.spark.rdd.RDD.iterator(RDD.scala:277)\n\tat org.apache.spark.rdd.MapPartitionsRDD.compute(MapPartitionsRDD.scala:38)\n\tat org.apache.spark.rdd.RDD.computeOrReadCheckpoint(RDD.scala:313)\n\tat org.apache.spark.rdd.RDD.iterator(RDD.scala:277)\n\tat org.apache.spark.rdd.MapPartitionsRDD.compute(MapPartitionsRDD.scala:38)\n\tat org.apache.spark.rdd.RDD.computeOrReadCheckpoint(RDD.scala:313)\n\tat org.apache.spark.rdd.RDD.iterator(RDD.scala:277)\n\tat org.apache.spark.rdd.MapPartitionsRDD.compute(MapPartitionsRDD.scala:38)\n\tat org.apache.spark.rdd.RDD.computeOrReadCheckpoint(RDD.scala:313)\n\tat org.apache.spark.rdd.RDD.iterator(RDD.scala:277)\n\tat org.apache.spark.rdd.MapPartitionsRDD.compute(MapPartitionsRDD.scala:38)\n\tat org.apache.spark.rdd.RDD.computeOrReadCheckpoint(RDD.scala:313)\n\tat org.apache.spark.rdd.RDD.iterator(RDD.scala:277)\n\tat org.apache.spark.rdd.MapPartitionsRDD.compute(MapPartitionsRDD.scala:38)\n\tat org.apache.spark.rdd.RDD.computeOrReadCheckpoint(RDD.scala:313)\n\tat org.apache.spark.rdd.RDD.iterator(RDD.scala:277)\n\tat org.apache.spark.scheduler.ShuffleMapTask.runTask(ShuffleMapTask.scala:73)\n\tat org.apache.spark.scheduler.ShuffleMapTask.runTask(ShuffleMapTask.scala:41)\n\tat org.apache.spark.scheduler.Task.run(Task.scala:89)\n\tat org.apache.spark.executor.Executor$TaskRunner.run(Executor.scala:214)\n\tat java.util.concurrent.ThreadPoolExecutor.runWorker(ThreadPoolExecutor.java:1142)\n\tat java.util.concurrent.ThreadPoolExecutor$Worker.run(ThreadPoolExecutor.java:617)\n\tat java.lang.Thread.run(Thread.java:745)\n\nDriver stacktrace:\n\tat org.apache.spark.scheduler.DAGScheduler.org$apache$spark$scheduler$DAGScheduler$$failJobAndIndependentStages(DAGScheduler.scala:1431)\n\tat org.apache.spark.scheduler.DAGScheduler$$anonfun$abortStage$1.apply(DAGScheduler.scala:1419)\n\tat org.apache.spark.scheduler.DAGScheduler$$anonfun$abortStage$1.apply(DAGScheduler.scala:1418)\n\tat scala.collection.mutable.ResizableArray$class.foreach(ResizableArray.scala:59)\n\tat scala.collection.mutable.ArrayBuffer.foreach(ArrayBuffer.scala:47)\n\tat org.apache.spark.scheduler.DAGScheduler.abortStage(DAGScheduler.scala:1418)\n\tat org.apache.spark.scheduler.DAGScheduler$$anonfun$handleTaskSetFailed$1.apply(DAGScheduler.scala:799)\n\tat org.apache.spark.scheduler.DAGScheduler$$anonfun$handleTaskSetFailed$1.apply(DAGScheduler.scala:799)\n\tat scala.Option.foreach(Option.scala:236)\n\tat org.apache.spark.scheduler.DAGScheduler.handleTaskSetFailed(DAGScheduler.scala:799)\n\tat org.apache.spark.scheduler.DAGSchedulerEventProcessLoop.doOnReceive(DAGScheduler.scala:1640)\n\tat org.apache.spark.scheduler.DAGSchedulerEventProcessLoop.onReceive(DAGScheduler.scala:1599)\n\tat org.apache.spark.scheduler.DAGSchedulerEventProcessLoop.onReceive(DAGScheduler.scala:1588)\n\tat org.apache.spark.util.EventLoop$$anon$1.run(EventLoop.scala:48)\n\tat org.apache.spark.scheduler.DAGScheduler.runJob(DAGScheduler.scala:620)\n\tat org.apache.spark.SparkContext.runJob(SparkContext.scala:1855)\n\tat org.apache.spark.SparkContext.runJob(SparkContext.scala:1868)\n\tat org.apache.spark.SparkContext.runJob(SparkContext.scala:1881)\n\tat org.apache.spark.SparkContext.runJob(SparkContext.scala:1952)\n\tat org.apache.spark.rdd.RDD$$anonfun$collect$1.apply(RDD.scala:934)\n\tat org.apache.spark.rdd.RDDOperationScope$.withScope(RDDOperationScope.scala:150)\n\tat org.apache.spark.rdd.RDDOperationScope$.withScope(RDDOperationScope.scala:111)\n\tat org.apache.spark.rdd.RDD.withScope(RDD.scala:323)\n\tat org.apache.spark.rdd.RDD.collect(RDD.scala:933)\n\tat org.apache.spark.sql.execution.SparkPlan.executeCollect(SparkPlan.scala:166)\n\tat org.apache.spark.sql.execution.SparkPlan.executeCollectPublic(SparkPlan.scala:174)\n\tat org.apache.spark.sql.DataFrame$$anonfun$org$apache$spark$sql$DataFrame$$execute$1$1.apply(DataFrame.scala:1499)\n\tat org.apache.spark.sql.DataFrame$$anonfun$org$apache$spark$sql$DataFrame$$execute$1$1.apply(DataFrame.scala:1499)\n\tat org.apache.spark.sql.execution.SQLExecution$.withNewExecutionId(SQLExecution.scala:56)\n\tat org.apache.spark.sql.DataFrame.withNewExecutionId(DataFrame.scala:2086)\n\tat org.apache.spark.sql.DataFrame.org$apache$spark$sql$DataFrame$$execute$1(DataFrame.scala:1498)\n\tat org.apache.spark.sql.DataFrame.org$apache$spark$sql$DataFrame$$collect(DataFrame.scala:1505)\n\tat org.apache.spark.sql.DataFrame$$anonfun$count$1.apply(DataFrame.scala:1515)\n\tat org.apache.spark.sql.DataFrame$$anonfun$count$1.apply(DataFrame.scala:1514)\n\tat org.apache.spark.sql.DataFrame.withCallback(DataFrame.scala:2099)\n\tat org.apache.spark.sql.DataFrame.count(DataFrame.scala:1514)\n\tat sun.reflect.NativeMethodAccessorImpl.invoke0(Native Method)\n\tat sun.reflect.NativeMethodAccessorImpl.invoke(NativeMethodAccessorImpl.java:62)\n\tat sun.reflect.DelegatingMethodAccessorImpl.invoke(DelegatingMethodAccessorImpl.java:43)\n\tat java.lang.reflect.Method.invoke(Method.java:498)\n\tat py4j.reflection.MethodInvoker.invoke(MethodInvoker.java:231)\n\tat py4j.reflection.ReflectionEngine.invoke(ReflectionEngine.java:381)\n\tat py4j.Gateway.invoke(Gateway.java:259)\n\tat py4j.commands.AbstractCommand.invokeMethod(AbstractCommand.java:133)\n\tat py4j.commands.CallCommand.execute(CallCommand.java:79)\n\tat py4j.GatewayConnection.run(GatewayConnection.java:209)\n\tat java.lang.Thread.run(Thread.java:745)\nCaused by: org.apache.spark.api.python.PythonException: Traceback (most recent call last):\n  File \"/disks/drive1/hadoop/yarn/local/usercache/brayere/appcache/application_1469096324350_2059/container_e12_1469096324350_2059_01_000066/pyspark.zip/pyspark/worker.py\", line 98, in main\n    command = pickleSer._read_with_length(infile)\n  File \"/disks/drive1/hadoop/yarn/local/usercache/brayere/appcache/application_1469096324350_2059/container_e12_1469096324350_2059_01_000066/pyspark.zip/pyspark/serializers.py\", line 164, in _read_with_length\n    return self.loads(obj)\n  File \"/disks/drive1/hadoop/yarn/local/usercache/brayere/appcache/application_1469096324350_2059/container_e12_1469096324350_2059_01_000066/pyspark.zip/pyspark/serializers.py\", line 419, in loads\n    return pickle.loads(obj, encoding=encoding)\nImportError: No module named 'analytics_utils'\n\n\tat org.apache.spark.api.python.PythonRunner$$anon$1.read(PythonRDD.scala:166)\n\tat org.apache.spark.api.python.PythonRunner$$anon$1.<init>(PythonRDD.scala:207)\n\tat org.apache.spark.api.python.PythonRunner.compute(PythonRDD.scala:125)\n\tat org.apache.spark.sql.execution.BatchPythonEvaluation$$anonfun$doExecute$1.apply(python.scala:405)\n\tat org.apache.spark.sql.execution.BatchPythonEvaluation$$anonfun$doExecute$1.apply(python.scala:370)\n\tat org.apache.spark.rdd.RDD$$anonfun$mapPartitions$1$$anonfun$apply$22.apply(RDD.scala:717)\n\tat org.apache.spark.rdd.RDD$$anonfun$mapPartitions$1$$anonfun$apply$22.apply(RDD.scala:717)\n\tat org.apache.spark.rdd.MapPartitionsRDD.compute(MapPartitionsRDD.scala:38)\n\tat org.apache.spark.rdd.RDD.computeOrReadCheckpoint(RDD.scala:313)\n\tat org.apache.spark.rdd.RDD.iterator(RDD.scala:277)\n\tat org.apache.spark.rdd.MapPartitionsRDD.compute(MapPartitionsRDD.scala:38)\n\tat org.apache.spark.rdd.RDD.computeOrReadCheckpoint(RDD.scala:313)\n\tat org.apache.spark.rdd.RDD.iterator(RDD.scala:277)\n\tat org.apache.spark.rdd.MapPartitionsRDD.compute(MapPartitionsRDD.scala:38)\n\tat org.apache.spark.rdd.RDD.computeOrReadCheckpoint(RDD.scala:313)\n\tat org.apache.spark.rdd.RDD.iterator(RDD.scala:277)\n\tat org.apache.spark.rdd.MapPartitionsRDD.compute(MapPartitionsRDD.scala:38)\n\tat org.apache.spark.rdd.RDD.computeOrReadCheckpoint(RDD.scala:313)\n\tat org.apache.spark.rdd.RDD.iterator(RDD.scala:277)\n\tat org.apache.spark.rdd.MapPartitionsRDD.compute(MapPartitionsRDD.scala:38)\n\tat org.apache.spark.rdd.RDD.computeOrReadCheckpoint(RDD.scala:313)\n\tat org.apache.spark.rdd.RDD.iterator(RDD.scala:277)\n\tat org.apache.spark.rdd.MapPartitionsRDD.compute(MapPartitionsRDD.scala:38)\n\tat org.apache.spark.rdd.RDD.computeOrReadCheckpoint(RDD.scala:313)\n\tat org.apache.spark.rdd.RDD.iterator(RDD.scala:277)\n\tat org.apache.spark.rdd.MapPartitionsRDD.compute(MapPartitionsRDD.scala:38)\n\tat org.apache.spark.rdd.RDD.computeOrReadCheckpoint(RDD.scala:313)\n\tat org.apache.spark.rdd.RDD.iterator(RDD.scala:277)\n\tat org.apache.spark.rdd.MapPartitionsRDD.compute(MapPartitionsRDD.scala:38)\n\tat org.apache.spark.rdd.RDD.computeOrReadCheckpoint(RDD.scala:313)\n\tat org.apache.spark.rdd.RDD.iterator(RDD.scala:277)\n\tat org.apache.spark.rdd.MapPartitionsRDD.compute(MapPartitionsRDD.scala:38)\n\tat org.apache.spark.rdd.RDD.computeOrReadCheckpoint(RDD.scala:313)\n\tat org.apache.spark.rdd.RDD.iterator(RDD.scala:277)\n\tat org.apache.spark.rdd.MapPartitionsRDD.compute(MapPartitionsRDD.scala:38)\n\tat org.apache.spark.rdd.RDD.computeOrReadCheckpoint(RDD.scala:313)\n\tat org.apache.spark.rdd.RDD.iterator(RDD.scala:277)\n\tat org.apache.spark.rdd.MapPartitionsRDD.compute(MapPartitionsRDD.scala:38)\n\tat org.apache.spark.rdd.RDD.computeOrReadCheckpoint(RDD.scala:313)\n\tat org.apache.spark.rdd.RDD.iterator(RDD.scala:277)\n\tat org.apache.spark.rdd.MapPartitionsRDD.compute(MapPartitionsRDD.scala:38)\n\tat org.apache.spark.rdd.RDD.computeOrReadCheckpoint(RDD.scala:313)\n\tat org.apache.spark.rdd.RDD.iterator(RDD.scala:277)\n\tat org.apache.spark.rdd.MapPartitionsRDD.compute(MapPartitionsRDD.scala:38)\n\tat org.apache.spark.rdd.RDD.computeOrReadCheckpoint(RDD.scala:313)\n\tat org.apache.spark.rdd.RDD.iterator(RDD.scala:277)\n\tat org.apache.spark.rdd.MapPartitionsRDD.compute(MapPartitionsRDD.scala:38)\n\tat org.apache.spark.rdd.RDD.computeOrReadCheckpoint(RDD.scala:313)\n\tat org.apache.spark.rdd.RDD.iterator(RDD.scala:277)\n\tat org.apache.spark.rdd.MapPartitionsRDD.compute(MapPartitionsRDD.scala:38)\n\tat org.apache.spark.rdd.RDD.computeOrReadCheckpoint(RDD.scala:313)\n\tat org.apache.spark.rdd.RDD.iterator(RDD.scala:277)\n\tat org.apache.spark.rdd.MapPartitionsRDD.compute(MapPartitionsRDD.scala:38)\n\tat org.apache.spark.rdd.RDD.computeOrReadCheckpoint(RDD.scala:313)\n\tat org.apache.spark.rdd.RDD.iterator(RDD.scala:277)\n\tat org.apache.spark.scheduler.ShuffleMapTask.runTask(ShuffleMapTask.scala:73)\n\tat org.apache.spark.scheduler.ShuffleMapTask.runTask(ShuffleMapTask.scala:41)\n\tat org.apache.spark.scheduler.Task.run(Task.scala:89)\n\tat org.apache.spark.executor.Executor$TaskRunner.run(Executor.scala:214)\n\tat java.util.concurrent.ThreadPoolExecutor.runWorker(ThreadPoolExecutor.java:1142)\n\tat java.util.concurrent.ThreadPoolExecutor$Worker.run(ThreadPoolExecutor.java:617)\n\t... 1 more\n",
     "output_type": "error",
     "traceback": [
      "\u001b[1;31m---------------------------------------------------------------------------\u001b[0m",
      "\u001b[1;31mPy4JJavaError\u001b[0m                             Traceback (most recent call last)",
      "\u001b[1;32m<ipython-input-17-ced9f76a58fa>\u001b[0m in \u001b[0;36m<module>\u001b[1;34m()\u001b[0m\n\u001b[1;32m----> 1\u001b[1;33m \u001b[0mauctions_2\u001b[0m\u001b[1;33m.\u001b[0m\u001b[0mcount\u001b[0m\u001b[1;33m(\u001b[0m\u001b[1;33m)\u001b[0m\u001b[1;33m\u001b[0m\u001b[0m\n\u001b[0m",
      "\u001b[1;32m/usr/hdp/current/spark-client/python/pyspark/sql/dataframe.py\u001b[0m in \u001b[0;36mcount\u001b[1;34m(self)\u001b[0m\n\u001b[0;32m    267\u001b[0m         \u001b[1;36m2\u001b[0m\u001b[1;33m\u001b[0m\u001b[0m\n\u001b[0;32m    268\u001b[0m         \"\"\"\n\u001b[1;32m--> 269\u001b[1;33m         \u001b[1;32mreturn\u001b[0m \u001b[0mint\u001b[0m\u001b[1;33m(\u001b[0m\u001b[0mself\u001b[0m\u001b[1;33m.\u001b[0m\u001b[0m_jdf\u001b[0m\u001b[1;33m.\u001b[0m\u001b[0mcount\u001b[0m\u001b[1;33m(\u001b[0m\u001b[1;33m)\u001b[0m\u001b[1;33m)\u001b[0m\u001b[1;33m\u001b[0m\u001b[0m\n\u001b[0m\u001b[0;32m    270\u001b[0m \u001b[1;33m\u001b[0m\u001b[0m\n\u001b[0;32m    271\u001b[0m     \u001b[1;33m@\u001b[0m\u001b[0mignore_unicode_prefix\u001b[0m\u001b[1;33m\u001b[0m\u001b[0m\n",
      "\u001b[1;32m/usr/hdp/current/spark-client/python/lib/py4j-0.9-src.zip/py4j/java_gateway.py\u001b[0m in \u001b[0;36m__call__\u001b[1;34m(self, *args)\u001b[0m\n\u001b[0;32m    811\u001b[0m         \u001b[0manswer\u001b[0m \u001b[1;33m=\u001b[0m \u001b[0mself\u001b[0m\u001b[1;33m.\u001b[0m\u001b[0mgateway_client\u001b[0m\u001b[1;33m.\u001b[0m\u001b[0msend_command\u001b[0m\u001b[1;33m(\u001b[0m\u001b[0mcommand\u001b[0m\u001b[1;33m)\u001b[0m\u001b[1;33m\u001b[0m\u001b[0m\n\u001b[0;32m    812\u001b[0m         return_value = get_return_value(\n\u001b[1;32m--> 813\u001b[1;33m             answer, self.gateway_client, self.target_id, self.name)\n\u001b[0m\u001b[0;32m    814\u001b[0m \u001b[1;33m\u001b[0m\u001b[0m\n\u001b[0;32m    815\u001b[0m         \u001b[1;32mfor\u001b[0m \u001b[0mtemp_arg\u001b[0m \u001b[1;32min\u001b[0m \u001b[0mtemp_args\u001b[0m\u001b[1;33m:\u001b[0m\u001b[1;33m\u001b[0m\u001b[0m\n",
      "\u001b[1;32m/usr/hdp/current/spark-client/python/pyspark/sql/utils.py\u001b[0m in \u001b[0;36mdeco\u001b[1;34m(*a, **kw)\u001b[0m\n\u001b[0;32m     43\u001b[0m     \u001b[1;32mdef\u001b[0m \u001b[0mdeco\u001b[0m\u001b[1;33m(\u001b[0m\u001b[1;33m*\u001b[0m\u001b[0ma\u001b[0m\u001b[1;33m,\u001b[0m \u001b[1;33m**\u001b[0m\u001b[0mkw\u001b[0m\u001b[1;33m)\u001b[0m\u001b[1;33m:\u001b[0m\u001b[1;33m\u001b[0m\u001b[0m\n\u001b[0;32m     44\u001b[0m         \u001b[1;32mtry\u001b[0m\u001b[1;33m:\u001b[0m\u001b[1;33m\u001b[0m\u001b[0m\n\u001b[1;32m---> 45\u001b[1;33m             \u001b[1;32mreturn\u001b[0m \u001b[0mf\u001b[0m\u001b[1;33m(\u001b[0m\u001b[1;33m*\u001b[0m\u001b[0ma\u001b[0m\u001b[1;33m,\u001b[0m \u001b[1;33m**\u001b[0m\u001b[0mkw\u001b[0m\u001b[1;33m)\u001b[0m\u001b[1;33m\u001b[0m\u001b[0m\n\u001b[0m\u001b[0;32m     46\u001b[0m         \u001b[1;32mexcept\u001b[0m \u001b[0mpy4j\u001b[0m\u001b[1;33m.\u001b[0m\u001b[0mprotocol\u001b[0m\u001b[1;33m.\u001b[0m\u001b[0mPy4JJavaError\u001b[0m \u001b[1;32mas\u001b[0m \u001b[0me\u001b[0m\u001b[1;33m:\u001b[0m\u001b[1;33m\u001b[0m\u001b[0m\n\u001b[0;32m     47\u001b[0m             \u001b[0ms\u001b[0m \u001b[1;33m=\u001b[0m \u001b[0me\u001b[0m\u001b[1;33m.\u001b[0m\u001b[0mjava_exception\u001b[0m\u001b[1;33m.\u001b[0m\u001b[0mtoString\u001b[0m\u001b[1;33m(\u001b[0m\u001b[1;33m)\u001b[0m\u001b[1;33m\u001b[0m\u001b[0m\n",
      "\u001b[1;32m/usr/hdp/current/spark-client/python/lib/py4j-0.9-src.zip/py4j/protocol.py\u001b[0m in \u001b[0;36mget_return_value\u001b[1;34m(answer, gateway_client, target_id, name)\u001b[0m\n\u001b[0;32m    306\u001b[0m                 raise Py4JJavaError(\n\u001b[0;32m    307\u001b[0m                     \u001b[1;34m\"An error occurred while calling {0}{1}{2}.\\n\"\u001b[0m\u001b[1;33m.\u001b[0m\u001b[1;33m\u001b[0m\u001b[0m\n\u001b[1;32m--> 308\u001b[1;33m                     format(target_id, \".\", name), value)\n\u001b[0m\u001b[0;32m    309\u001b[0m             \u001b[1;32melse\u001b[0m\u001b[1;33m:\u001b[0m\u001b[1;33m\u001b[0m\u001b[0m\n\u001b[0;32m    310\u001b[0m                 raise Py4JError(\n",
      "\u001b[1;31mPy4JJavaError\u001b[0m: An error occurred while calling o2601.count.\n: org.apache.spark.SparkException: Job aborted due to stage failure: Task 7 in stage 85.0 failed 4 times, most recent failure: Lost task 7.3 in stage 85.0 (TID 4496, data-node-04.veanalytics.dom): org.apache.spark.api.python.PythonException: Traceback (most recent call last):\n  File \"/disks/drive1/hadoop/yarn/local/usercache/brayere/appcache/application_1469096324350_2059/container_e12_1469096324350_2059_01_000066/pyspark.zip/pyspark/worker.py\", line 98, in main\n    command = pickleSer._read_with_length(infile)\n  File \"/disks/drive1/hadoop/yarn/local/usercache/brayere/appcache/application_1469096324350_2059/container_e12_1469096324350_2059_01_000066/pyspark.zip/pyspark/serializers.py\", line 164, in _read_with_length\n    return self.loads(obj)\n  File \"/disks/drive1/hadoop/yarn/local/usercache/brayere/appcache/application_1469096324350_2059/container_e12_1469096324350_2059_01_000066/pyspark.zip/pyspark/serializers.py\", line 419, in loads\n    return pickle.loads(obj, encoding=encoding)\nImportError: No module named 'analytics_utils'\n\n\tat org.apache.spark.api.python.PythonRunner$$anon$1.read(PythonRDD.scala:166)\n\tat org.apache.spark.api.python.PythonRunner$$anon$1.<init>(PythonRDD.scala:207)\n\tat org.apache.spark.api.python.PythonRunner.compute(PythonRDD.scala:125)\n\tat org.apache.spark.sql.execution.BatchPythonEvaluation$$anonfun$doExecute$1.apply(python.scala:405)\n\tat org.apache.spark.sql.execution.BatchPythonEvaluation$$anonfun$doExecute$1.apply(python.scala:370)\n\tat org.apache.spark.rdd.RDD$$anonfun$mapPartitions$1$$anonfun$apply$22.apply(RDD.scala:717)\n\tat org.apache.spark.rdd.RDD$$anonfun$mapPartitions$1$$anonfun$apply$22.apply(RDD.scala:717)\n\tat org.apache.spark.rdd.MapPartitionsRDD.compute(MapPartitionsRDD.scala:38)\n\tat org.apache.spark.rdd.RDD.computeOrReadCheckpoint(RDD.scala:313)\n\tat org.apache.spark.rdd.RDD.iterator(RDD.scala:277)\n\tat org.apache.spark.rdd.MapPartitionsRDD.compute(MapPartitionsRDD.scala:38)\n\tat org.apache.spark.rdd.RDD.computeOrReadCheckpoint(RDD.scala:313)\n\tat org.apache.spark.rdd.RDD.iterator(RDD.scala:277)\n\tat org.apache.spark.rdd.MapPartitionsRDD.compute(MapPartitionsRDD.scala:38)\n\tat org.apache.spark.rdd.RDD.computeOrReadCheckpoint(RDD.scala:313)\n\tat org.apache.spark.rdd.RDD.iterator(RDD.scala:277)\n\tat org.apache.spark.rdd.MapPartitionsRDD.compute(MapPartitionsRDD.scala:38)\n\tat org.apache.spark.rdd.RDD.computeOrReadCheckpoint(RDD.scala:313)\n\tat org.apache.spark.rdd.RDD.iterator(RDD.scala:277)\n\tat org.apache.spark.rdd.MapPartitionsRDD.compute(MapPartitionsRDD.scala:38)\n\tat org.apache.spark.rdd.RDD.computeOrReadCheckpoint(RDD.scala:313)\n\tat org.apache.spark.rdd.RDD.iterator(RDD.scala:277)\n\tat org.apache.spark.rdd.MapPartitionsRDD.compute(MapPartitionsRDD.scala:38)\n\tat org.apache.spark.rdd.RDD.computeOrReadCheckpoint(RDD.scala:313)\n\tat org.apache.spark.rdd.RDD.iterator(RDD.scala:277)\n\tat org.apache.spark.rdd.MapPartitionsRDD.compute(MapPartitionsRDD.scala:38)\n\tat org.apache.spark.rdd.RDD.computeOrReadCheckpoint(RDD.scala:313)\n\tat org.apache.spark.rdd.RDD.iterator(RDD.scala:277)\n\tat org.apache.spark.rdd.MapPartitionsRDD.compute(MapPartitionsRDD.scala:38)\n\tat org.apache.spark.rdd.RDD.computeOrReadCheckpoint(RDD.scala:313)\n\tat org.apache.spark.rdd.RDD.iterator(RDD.scala:277)\n\tat org.apache.spark.rdd.MapPartitionsRDD.compute(MapPartitionsRDD.scala:38)\n\tat org.apache.spark.rdd.RDD.computeOrReadCheckpoint(RDD.scala:313)\n\tat org.apache.spark.rdd.RDD.iterator(RDD.scala:277)\n\tat org.apache.spark.rdd.MapPartitionsRDD.compute(MapPartitionsRDD.scala:38)\n\tat org.apache.spark.rdd.RDD.computeOrReadCheckpoint(RDD.scala:313)\n\tat org.apache.spark.rdd.RDD.iterator(RDD.scala:277)\n\tat org.apache.spark.rdd.MapPartitionsRDD.compute(MapPartitionsRDD.scala:38)\n\tat org.apache.spark.rdd.RDD.computeOrReadCheckpoint(RDD.scala:313)\n\tat org.apache.spark.rdd.RDD.iterator(RDD.scala:277)\n\tat org.apache.spark.rdd.MapPartitionsRDD.compute(MapPartitionsRDD.scala:38)\n\tat org.apache.spark.rdd.RDD.computeOrReadCheckpoint(RDD.scala:313)\n\tat org.apache.spark.rdd.RDD.iterator(RDD.scala:277)\n\tat org.apache.spark.rdd.MapPartitionsRDD.compute(MapPartitionsRDD.scala:38)\n\tat org.apache.spark.rdd.RDD.computeOrReadCheckpoint(RDD.scala:313)\n\tat org.apache.spark.rdd.RDD.iterator(RDD.scala:277)\n\tat org.apache.spark.rdd.MapPartitionsRDD.compute(MapPartitionsRDD.scala:38)\n\tat org.apache.spark.rdd.RDD.computeOrReadCheckpoint(RDD.scala:313)\n\tat org.apache.spark.rdd.RDD.iterator(RDD.scala:277)\n\tat org.apache.spark.rdd.MapPartitionsRDD.compute(MapPartitionsRDD.scala:38)\n\tat org.apache.spark.rdd.RDD.computeOrReadCheckpoint(RDD.scala:313)\n\tat org.apache.spark.rdd.RDD.iterator(RDD.scala:277)\n\tat org.apache.spark.rdd.MapPartitionsRDD.compute(MapPartitionsRDD.scala:38)\n\tat org.apache.spark.rdd.RDD.computeOrReadCheckpoint(RDD.scala:313)\n\tat org.apache.spark.rdd.RDD.iterator(RDD.scala:277)\n\tat org.apache.spark.scheduler.ShuffleMapTask.runTask(ShuffleMapTask.scala:73)\n\tat org.apache.spark.scheduler.ShuffleMapTask.runTask(ShuffleMapTask.scala:41)\n\tat org.apache.spark.scheduler.Task.run(Task.scala:89)\n\tat org.apache.spark.executor.Executor$TaskRunner.run(Executor.scala:214)\n\tat java.util.concurrent.ThreadPoolExecutor.runWorker(ThreadPoolExecutor.java:1142)\n\tat java.util.concurrent.ThreadPoolExecutor$Worker.run(ThreadPoolExecutor.java:617)\n\tat java.lang.Thread.run(Thread.java:745)\n\nDriver stacktrace:\n\tat org.apache.spark.scheduler.DAGScheduler.org$apache$spark$scheduler$DAGScheduler$$failJobAndIndependentStages(DAGScheduler.scala:1431)\n\tat org.apache.spark.scheduler.DAGScheduler$$anonfun$abortStage$1.apply(DAGScheduler.scala:1419)\n\tat org.apache.spark.scheduler.DAGScheduler$$anonfun$abortStage$1.apply(DAGScheduler.scala:1418)\n\tat scala.collection.mutable.ResizableArray$class.foreach(ResizableArray.scala:59)\n\tat scala.collection.mutable.ArrayBuffer.foreach(ArrayBuffer.scala:47)\n\tat org.apache.spark.scheduler.DAGScheduler.abortStage(DAGScheduler.scala:1418)\n\tat org.apache.spark.scheduler.DAGScheduler$$anonfun$handleTaskSetFailed$1.apply(DAGScheduler.scala:799)\n\tat org.apache.spark.scheduler.DAGScheduler$$anonfun$handleTaskSetFailed$1.apply(DAGScheduler.scala:799)\n\tat scala.Option.foreach(Option.scala:236)\n\tat org.apache.spark.scheduler.DAGScheduler.handleTaskSetFailed(DAGScheduler.scala:799)\n\tat org.apache.spark.scheduler.DAGSchedulerEventProcessLoop.doOnReceive(DAGScheduler.scala:1640)\n\tat org.apache.spark.scheduler.DAGSchedulerEventProcessLoop.onReceive(DAGScheduler.scala:1599)\n\tat org.apache.spark.scheduler.DAGSchedulerEventProcessLoop.onReceive(DAGScheduler.scala:1588)\n\tat org.apache.spark.util.EventLoop$$anon$1.run(EventLoop.scala:48)\n\tat org.apache.spark.scheduler.DAGScheduler.runJob(DAGScheduler.scala:620)\n\tat org.apache.spark.SparkContext.runJob(SparkContext.scala:1855)\n\tat org.apache.spark.SparkContext.runJob(SparkContext.scala:1868)\n\tat org.apache.spark.SparkContext.runJob(SparkContext.scala:1881)\n\tat org.apache.spark.SparkContext.runJob(SparkContext.scala:1952)\n\tat org.apache.spark.rdd.RDD$$anonfun$collect$1.apply(RDD.scala:934)\n\tat org.apache.spark.rdd.RDDOperationScope$.withScope(RDDOperationScope.scala:150)\n\tat org.apache.spark.rdd.RDDOperationScope$.withScope(RDDOperationScope.scala:111)\n\tat org.apache.spark.rdd.RDD.withScope(RDD.scala:323)\n\tat org.apache.spark.rdd.RDD.collect(RDD.scala:933)\n\tat org.apache.spark.sql.execution.SparkPlan.executeCollect(SparkPlan.scala:166)\n\tat org.apache.spark.sql.execution.SparkPlan.executeCollectPublic(SparkPlan.scala:174)\n\tat org.apache.spark.sql.DataFrame$$anonfun$org$apache$spark$sql$DataFrame$$execute$1$1.apply(DataFrame.scala:1499)\n\tat org.apache.spark.sql.DataFrame$$anonfun$org$apache$spark$sql$DataFrame$$execute$1$1.apply(DataFrame.scala:1499)\n\tat org.apache.spark.sql.execution.SQLExecution$.withNewExecutionId(SQLExecution.scala:56)\n\tat org.apache.spark.sql.DataFrame.withNewExecutionId(DataFrame.scala:2086)\n\tat org.apache.spark.sql.DataFrame.org$apache$spark$sql$DataFrame$$execute$1(DataFrame.scala:1498)\n\tat org.apache.spark.sql.DataFrame.org$apache$spark$sql$DataFrame$$collect(DataFrame.scala:1505)\n\tat org.apache.spark.sql.DataFrame$$anonfun$count$1.apply(DataFrame.scala:1515)\n\tat org.apache.spark.sql.DataFrame$$anonfun$count$1.apply(DataFrame.scala:1514)\n\tat org.apache.spark.sql.DataFrame.withCallback(DataFrame.scala:2099)\n\tat org.apache.spark.sql.DataFrame.count(DataFrame.scala:1514)\n\tat sun.reflect.NativeMethodAccessorImpl.invoke0(Native Method)\n\tat sun.reflect.NativeMethodAccessorImpl.invoke(NativeMethodAccessorImpl.java:62)\n\tat sun.reflect.DelegatingMethodAccessorImpl.invoke(DelegatingMethodAccessorImpl.java:43)\n\tat java.lang.reflect.Method.invoke(Method.java:498)\n\tat py4j.reflection.MethodInvoker.invoke(MethodInvoker.java:231)\n\tat py4j.reflection.ReflectionEngine.invoke(ReflectionEngine.java:381)\n\tat py4j.Gateway.invoke(Gateway.java:259)\n\tat py4j.commands.AbstractCommand.invokeMethod(AbstractCommand.java:133)\n\tat py4j.commands.CallCommand.execute(CallCommand.java:79)\n\tat py4j.GatewayConnection.run(GatewayConnection.java:209)\n\tat java.lang.Thread.run(Thread.java:745)\nCaused by: org.apache.spark.api.python.PythonException: Traceback (most recent call last):\n  File \"/disks/drive1/hadoop/yarn/local/usercache/brayere/appcache/application_1469096324350_2059/container_e12_1469096324350_2059_01_000066/pyspark.zip/pyspark/worker.py\", line 98, in main\n    command = pickleSer._read_with_length(infile)\n  File \"/disks/drive1/hadoop/yarn/local/usercache/brayere/appcache/application_1469096324350_2059/container_e12_1469096324350_2059_01_000066/pyspark.zip/pyspark/serializers.py\", line 164, in _read_with_length\n    return self.loads(obj)\n  File \"/disks/drive1/hadoop/yarn/local/usercache/brayere/appcache/application_1469096324350_2059/container_e12_1469096324350_2059_01_000066/pyspark.zip/pyspark/serializers.py\", line 419, in loads\n    return pickle.loads(obj, encoding=encoding)\nImportError: No module named 'analytics_utils'\n\n\tat org.apache.spark.api.python.PythonRunner$$anon$1.read(PythonRDD.scala:166)\n\tat org.apache.spark.api.python.PythonRunner$$anon$1.<init>(PythonRDD.scala:207)\n\tat org.apache.spark.api.python.PythonRunner.compute(PythonRDD.scala:125)\n\tat org.apache.spark.sql.execution.BatchPythonEvaluation$$anonfun$doExecute$1.apply(python.scala:405)\n\tat org.apache.spark.sql.execution.BatchPythonEvaluation$$anonfun$doExecute$1.apply(python.scala:370)\n\tat org.apache.spark.rdd.RDD$$anonfun$mapPartitions$1$$anonfun$apply$22.apply(RDD.scala:717)\n\tat org.apache.spark.rdd.RDD$$anonfun$mapPartitions$1$$anonfun$apply$22.apply(RDD.scala:717)\n\tat org.apache.spark.rdd.MapPartitionsRDD.compute(MapPartitionsRDD.scala:38)\n\tat org.apache.spark.rdd.RDD.computeOrReadCheckpoint(RDD.scala:313)\n\tat org.apache.spark.rdd.RDD.iterator(RDD.scala:277)\n\tat org.apache.spark.rdd.MapPartitionsRDD.compute(MapPartitionsRDD.scala:38)\n\tat org.apache.spark.rdd.RDD.computeOrReadCheckpoint(RDD.scala:313)\n\tat org.apache.spark.rdd.RDD.iterator(RDD.scala:277)\n\tat org.apache.spark.rdd.MapPartitionsRDD.compute(MapPartitionsRDD.scala:38)\n\tat org.apache.spark.rdd.RDD.computeOrReadCheckpoint(RDD.scala:313)\n\tat org.apache.spark.rdd.RDD.iterator(RDD.scala:277)\n\tat org.apache.spark.rdd.MapPartitionsRDD.compute(MapPartitionsRDD.scala:38)\n\tat org.apache.spark.rdd.RDD.computeOrReadCheckpoint(RDD.scala:313)\n\tat org.apache.spark.rdd.RDD.iterator(RDD.scala:277)\n\tat org.apache.spark.rdd.MapPartitionsRDD.compute(MapPartitionsRDD.scala:38)\n\tat org.apache.spark.rdd.RDD.computeOrReadCheckpoint(RDD.scala:313)\n\tat org.apache.spark.rdd.RDD.iterator(RDD.scala:277)\n\tat org.apache.spark.rdd.MapPartitionsRDD.compute(MapPartitionsRDD.scala:38)\n\tat org.apache.spark.rdd.RDD.computeOrReadCheckpoint(RDD.scala:313)\n\tat org.apache.spark.rdd.RDD.iterator(RDD.scala:277)\n\tat org.apache.spark.rdd.MapPartitionsRDD.compute(MapPartitionsRDD.scala:38)\n\tat org.apache.spark.rdd.RDD.computeOrReadCheckpoint(RDD.scala:313)\n\tat org.apache.spark.rdd.RDD.iterator(RDD.scala:277)\n\tat org.apache.spark.rdd.MapPartitionsRDD.compute(MapPartitionsRDD.scala:38)\n\tat org.apache.spark.rdd.RDD.computeOrReadCheckpoint(RDD.scala:313)\n\tat org.apache.spark.rdd.RDD.iterator(RDD.scala:277)\n\tat org.apache.spark.rdd.MapPartitionsRDD.compute(MapPartitionsRDD.scala:38)\n\tat org.apache.spark.rdd.RDD.computeOrReadCheckpoint(RDD.scala:313)\n\tat org.apache.spark.rdd.RDD.iterator(RDD.scala:277)\n\tat org.apache.spark.rdd.MapPartitionsRDD.compute(MapPartitionsRDD.scala:38)\n\tat org.apache.spark.rdd.RDD.computeOrReadCheckpoint(RDD.scala:313)\n\tat org.apache.spark.rdd.RDD.iterator(RDD.scala:277)\n\tat org.apache.spark.rdd.MapPartitionsRDD.compute(MapPartitionsRDD.scala:38)\n\tat org.apache.spark.rdd.RDD.computeOrReadCheckpoint(RDD.scala:313)\n\tat org.apache.spark.rdd.RDD.iterator(RDD.scala:277)\n\tat org.apache.spark.rdd.MapPartitionsRDD.compute(MapPartitionsRDD.scala:38)\n\tat org.apache.spark.rdd.RDD.computeOrReadCheckpoint(RDD.scala:313)\n\tat org.apache.spark.rdd.RDD.iterator(RDD.scala:277)\n\tat org.apache.spark.rdd.MapPartitionsRDD.compute(MapPartitionsRDD.scala:38)\n\tat org.apache.spark.rdd.RDD.computeOrReadCheckpoint(RDD.scala:313)\n\tat org.apache.spark.rdd.RDD.iterator(RDD.scala:277)\n\tat org.apache.spark.rdd.MapPartitionsRDD.compute(MapPartitionsRDD.scala:38)\n\tat org.apache.spark.rdd.RDD.computeOrReadCheckpoint(RDD.scala:313)\n\tat org.apache.spark.rdd.RDD.iterator(RDD.scala:277)\n\tat org.apache.spark.rdd.MapPartitionsRDD.compute(MapPartitionsRDD.scala:38)\n\tat org.apache.spark.rdd.RDD.computeOrReadCheckpoint(RDD.scala:313)\n\tat org.apache.spark.rdd.RDD.iterator(RDD.scala:277)\n\tat org.apache.spark.rdd.MapPartitionsRDD.compute(MapPartitionsRDD.scala:38)\n\tat org.apache.spark.rdd.RDD.computeOrReadCheckpoint(RDD.scala:313)\n\tat org.apache.spark.rdd.RDD.iterator(RDD.scala:277)\n\tat org.apache.spark.scheduler.ShuffleMapTask.runTask(ShuffleMapTask.scala:73)\n\tat org.apache.spark.scheduler.ShuffleMapTask.runTask(ShuffleMapTask.scala:41)\n\tat org.apache.spark.scheduler.Task.run(Task.scala:89)\n\tat org.apache.spark.executor.Executor$TaskRunner.run(Executor.scala:214)\n\tat java.util.concurrent.ThreadPoolExecutor.runWorker(ThreadPoolExecutor.java:1142)\n\tat java.util.concurrent.ThreadPoolExecutor$Worker.run(ThreadPoolExecutor.java:617)\n\t... 1 more\n"
     ]
    }
   ],
   "source": [
    "auctions_2.count()"
   ]
  },
  {
   "cell_type": "code",
   "execution_count": null,
   "metadata": {
    "collapsed": true
   },
   "outputs": [],
   "source": [
    "whitelist_df = pd.read_excel('./data/Whitelist.xlsx')[['Advertiser Id', 'Customer ID', 'Sector']]\n",
    "auctions = ve_funcs.map_whitelist(sql_context, auctions, whitelist_df)"
   ]
  },
  {
   "cell_type": "code",
   "execution_count": null,
   "metadata": {
    "collapsed": false,
    "scrolled": true
   },
   "outputs": [],
   "source": [
    "# Looking at the users\n",
    "auctions_per_users = (auctions.groupby('othuser_id_64')\n",
    "                              .agg(F.sum('is_conv_pixel').alias('nb_conv_pixels')))\n",
    "\n",
    "users_wo_convs = (auctions_per_users\n",
    "                      .filter(auctions_per_users.nb_conv_pixels == 0)\n",
    "                      .select('othuser_id_64').distinct()\n",
    ")\n",
    "users_wo_convs = [x.othuser_id_64 for x in users_wo_convs.collect()]\n",
    "print('%d users without conversions' % len(users_wo_convs))\n",
    "     \n",
    "auctions = auctions.filter(~ auctions.othuser_id_64.isin(users_wo_convs))\n",
    "\n",
    "print('Final auctions count: %d' % auctions.count())\n",
    "print('%d Users remaining' % auctions.select('othuser_id_64').distinct().count())"
   ]
  },
  {
   "cell_type": "markdown",
   "metadata": {},
   "source": [
    "** 3. Getting the data from VeCapture**"
   ]
  },
  {
   "cell_type": "code",
   "execution_count": 38,
   "metadata": {
    "collapsed": false
   },
   "outputs": [
    {
     "data": {
      "text/plain": [
       "108387470"
      ]
     },
     "execution_count": 38,
     "metadata": {},
     "output_type": "execute_result"
    }
   ],
   "source": [
    "page_feed.select(\"ve_cookie_id\").distinct().count()"
   ]
  },
  {
   "cell_type": "code",
   "execution_count": 184,
   "metadata": {
    "collapsed": true
   },
   "outputs": [],
   "source": [
    "page_feed = page_feed.withColumn('adnxs', \n",
    "                                 page_feed.partner_cookies.getField('adnxs').cast('int'))\n",
    "categ_30d_feed = categ_30d_feed.withColumn('adnxs', \n",
    "                                categ_30d_feed.partner_cookies.getField('adnxs').cast('int'))"
   ]
  },
  {
   "cell_type": "code",
   "execution_count": 185,
   "metadata": {
    "collapsed": false
   },
   "outputs": [],
   "source": [
    "users_ids = [x.othuser_id_64 for x in\n",
    "             auctions.select('othuser_id_64').distinct().collect()]"
   ]
  },
  {
   "cell_type": "code",
   "execution_count": 186,
   "metadata": {
    "collapsed": false
   },
   "outputs": [],
   "source": [
    "page_feed_f = page_feed.filter(page_feed.adnxs.isin(users_ids))\n",
    "categ_30d_feed_f = categ_30d_feed.filter(categ_30d_feed.adnxs.isin(users_ids))"
   ]
  },
  {
   "cell_type": "code",
   "execution_count": 187,
   "metadata": {
    "collapsed": false
   },
   "outputs": [],
   "source": [
    "page_df = page_feed_f.count()"
   ]
  },
  {
   "cell_type": "code",
   "execution_count": 188,
   "metadata": {
    "collapsed": true
   },
   "outputs": [],
   "source": [
    "categ_30d_df = categ_30d_feed_f.count()"
   ]
  },
  {
   "cell_type": "code",
   "execution_count": 189,
   "metadata": {
    "collapsed": false
   },
   "outputs": [
    {
     "data": {
      "text/plain": [
       "0"
      ]
     },
     "execution_count": 189,
     "metadata": {},
     "output_type": "execute_result"
    }
   ],
   "source": [
    "categ_30d_df"
   ]
  },
  {
   "cell_type": "markdown",
   "metadata": {},
   "source": [
    "**4. Mapping to Categorizer**"
   ]
  },
  {
   "cell_type": "code",
   "execution_count": 121,
   "metadata": {
    "collapsed": false
   },
   "outputs": [],
   "source": [
    "customer_ids = auctions.select('customer_id').distinct().collect()\n",
    "customer_ids = [x.customer_id for x in customer_ids]\n",
    "\n",
    "categorizer = (categorizer_feed\n",
    "                   .filter(categorizer_feed.customerid.isin(customer_ids))\n",
    "                   .groupby('customerid').agg(F.collect_list('finalcateg').alias('categs'))\n",
    "               )\n",
    "categorizer = categorizer.withColumn('categ', most_common_udf('categs'))"
   ]
  },
  {
   "cell_type": "code",
   "execution_count": 122,
   "metadata": {
    "collapsed": false
   },
   "outputs": [],
   "source": [
    "auctions = (auctions.join(categorizer, on=auctions.customer_id == categorizer.customerid, how='left_outer')\n",
    "         .drop(categorizer.customerid)\n",
    ")"
   ]
  },
  {
   "cell_type": "code",
   "execution_count": 123,
   "metadata": {
    "collapsed": true
   },
   "outputs": [],
   "source": [
    "auctions = auctions.drop(categorizer.categs)"
   ]
  },
  {
   "cell_type": "code",
   "execution_count": 124,
   "metadata": {
    "collapsed": false,
    "scrolled": true
   },
   "outputs": [
    {
     "name": "stdout",
     "output_type": "stream",
     "text": [
      "root\n",
      " |-- advertiser_id: integer (nullable = true)\n",
      " |-- campaign_id: integer (nullable = true)\n",
      " |-- campaign_group_id: integer (nullable = true)\n",
      " |-- insertion_order_id: integer (nullable = true)\n",
      " |-- othuser_id_64: long (nullable = true)\n",
      " |-- auction_id_64: long (nullable = true)\n",
      " |-- nb_convs: long (nullable = true)\n",
      " |-- nb_imps: long (nullable = true)\n",
      " |-- nb_viewed: long (nullable = true)\n",
      " |-- nb_clicks: long (nullable = true)\n",
      " |-- nb_pc_convs: long (nullable = true)\n",
      " |-- nb_pv_convs: long (nullable = true)\n",
      " |-- age: double (nullable = true)\n",
      " |-- start: long (nullable = true)\n",
      " |-- end: long (nullable = true)\n",
      " |-- duration: long (nullable = true)\n",
      " |-- revenue: double (nullable = true)\n",
      " |-- cpm: double (nullable = true)\n",
      " |-- operating_systems: string (nullable = true)\n",
      " |-- genders: string (nullable = true)\n",
      " |-- member_ids: string (nullable = true)\n",
      " |-- segment_ids: string (nullable = true)\n",
      " |-- values: string (nullable = true)\n",
      " |-- nb_daily_unique: long (nullable = true)\n",
      " |-- nb_monthly_unique: long (nullable = true)\n",
      " |-- pixel_ids: array (nullable = true)\n",
      " |    |-- element: integer (containsNull = true)\n",
      " |-- pixels_match: long (nullable = true)\n",
      " |-- pixels_names: array (nullable = true)\n",
      " |    |-- element: string (containsNull = true)\n",
      " |-- is_conv_pixel: integer (nullable = false)\n",
      " |-- customer_id: long (nullable = true)\n",
      " |-- advertiser_categ_whitelist: string (nullable = true)\n",
      " |-- categ: string (nullable = true)\n",
      "\n"
     ]
    }
   ],
   "source": [
    "auctions.printSchema()"
   ]
  },
  {
   "cell_type": "code",
   "execution_count": 125,
   "metadata": {
    "collapsed": false
   },
   "outputs": [],
   "source": [
    "# auctions = auctions.drop_duplicates()\n",
    "auctions = auctions.orderBy('othuser_id_64', 'advertiser_id', 'start')\n"
   ]
  },
  {
   "cell_type": "markdown",
   "metadata": {},
   "source": [
    "# Analysis"
   ]
  },
  {
   "cell_type": "markdown",
   "metadata": {},
   "source": [
    "### Saving the meta to download"
   ]
  },
  {
   "cell_type": "code",
   "execution_count": 126,
   "metadata": {
    "collapsed": true
   },
   "outputs": [],
   "source": [
    "import pandas as pd\n",
    "import matplotlib.pyplot as plt\n",
    "import seaborn as sns\n",
    "%matplotlib inline\n",
    "import json\n",
    "from enum import Enum\n",
    "import datetime as dt"
   ]
  },
  {
   "cell_type": "code",
   "execution_count": 127,
   "metadata": {
    "collapsed": false
   },
   "outputs": [],
   "source": [
    "class AuctionType(Enum):\n",
    "    retargeting = 1\n",
    "    prospecting = 2\n",
    "    prospecting_retargeting = 3\n",
    "    \n",
    "def prospecting_or_retargeting(x):\n",
    "    if not x:\n",
    "        return None\n",
    "    \n",
    "    name = x.lower()\n",
    "    \n",
    "    if 'retargeting' in name and 'prospecting' in name:\n",
    "        return AuctionType.prospecting_retargeting.name\n",
    "    elif 'prospecting' in name:\n",
    "        return AuctionType.prospecting.name\n",
    "    elif 'retargeting' in name or 'AFF' in x or 'affiliate' in name or 'CPA' in x:\n",
    "        return AuctionType.retargeting.name\n",
    "    else:\n",
    "        return AuctionType.prospecting.name\n",
    "\n",
    "def rename_pixels(pixels):\n",
    "    names = []\n",
    "    for x in pixels:\n",
    "        mapping = mappings['pixel_names'].get(str(x))\n",
    "        if x not in (0, '0') and mapping:\n",
    "            names.append(mapping)\n",
    "    return names\n",
    "\n",
    "def is_traffic_pixel(pixels):\n",
    "    for x in pixels:\n",
    "        x = str(x.encode('utf-8'))\n",
    "        if 'trafic' in x.lower() or 'traffic' in x.lower():\n",
    "            return True\n",
    "    return False\n",
    "\n",
    "def convert_timestamp(ts):\n",
    "    return dt.datetime.fromtimestamp(ts).strftime('%m-%d %H:%M:%S')\n",
    "\n",
    "\n",
    "def add_features(df):\n",
    "    try:\n",
    "        df['start'] = df['start'].apply(convert_timestamp)\n",
    "        df['end'] = df['end'].apply(convert_timestamp)\n",
    "    except TypeError:\n",
    "        pass\n",
    "    \n",
    "    df['d_m'] = df['duration'] / 60\n",
    "    df['d_h'] = df['duration'] / 3600\n",
    "    \n",
    "    df['pixel_ids'] = df['pixel_ids'].apply(lambda x:  [z for z in x if z])\n",
    "\n",
    "    df['advertiser_name'] = (df['advertiser_id']\n",
    "                                            .apply(lambda x: mappings['advertiser_names'].get(str(x))))\n",
    "    df['advertiser_categ'] = (df['advertiser_name']\n",
    "                                            .apply(lambda x: categs_mapping.get(str(x.encode('utf-8'))) if x else None))\n",
    "    df['campaign_group_name'] = (df['campaign_group_id']\n",
    "                                            .apply(lambda x: mappings['line_items_names'].get(str(x))))\n",
    "    df['insertion_order_name'] = (df['insertion_order_id']\n",
    "                                             .apply(lambda x: mappings['insertion_order_names'].get(str(x))))\n",
    "    \n",
    "    df['is_traffic_pixel'] = df['pixels_names'].apply(is_traffic_pixel)\n",
    "    df['auction_type'] = df.campaign_group_name.apply(prospecting_or_retargeting)\n",
    "    \n",
    "    \n",
    "    return df"
   ]
  },
  {
   "cell_type": "code",
   "execution_count": null,
   "metadata": {
    "collapsed": true
   },
   "outputs": [],
   "source": [
    "users.select(\n",
    "           users['advertiser_id'],\n",
    "           users['campaign_group_id'].alias('line_items'),\n",
    "           users['insertion_order_id'],\n",
    "           users['pixel_id']).distinct().toPandas().to_csv('./data/meta.csv', sep=';', index=False)"
   ]
  },
  {
   "cell_type": "code",
   "execution_count": 128,
   "metadata": {
    "collapsed": false
   },
   "outputs": [
    {
     "data": {
      "text/plain": [
       "[u'insertion_order_names',\n",
       " u'advertiser_names',\n",
       " u'line_items_names',\n",
       " u'pixel_names']"
      ]
     },
     "execution_count": 128,
     "metadata": {},
     "output_type": "execute_result"
    }
   ],
   "source": [
    "with open('./data/mappings.json', 'r') as f:\n",
    "    mappings = json.load(f)\n",
    "categs_mapping = {x['Name']: x['Sector'] \n",
    "                  for k, x in pd.read_excel('./data/advertisers.xlsx')[['Name', 'Sector']].iterrows()}\n",
    "list(mappings)\n"
   ]
  },
  {
   "cell_type": "markdown",
   "metadata": {},
   "source": [
    "# ======"
   ]
  },
  {
   "cell_type": "code",
   "execution_count": 129,
   "metadata": {
    "collapsed": false
   },
   "outputs": [],
   "source": [
    "auctions_df = auctions.toPandas()"
   ]
  },
  {
   "cell_type": "code",
   "execution_count": 74,
   "metadata": {
    "collapsed": false
   },
   "outputs": [
    {
     "name": "stdout",
     "output_type": "stream",
     "text": [
      "(8118, 40)\n"
     ]
    }
   ],
   "source": [
    "auctions_df.to_json('./data/tmp_auctions.json', orient='records')\n",
    "# auctions_df = pd.read_json('./data/tmp_auctions.json', orient=\"records\")\n",
    "print(auctions_df.shape)"
   ]
  },
  {
   "cell_type": "code",
   "execution_count": 130,
   "metadata": {
    "collapsed": false,
    "scrolled": true
   },
   "outputs": [],
   "source": [
    "auctions_df = add_features(auctions_df)"
   ]
  },
  {
   "cell_type": "code",
   "execution_count": 131,
   "metadata": {
    "collapsed": false
   },
   "outputs": [
    {
     "data": {
      "text/html": [
       "<div>\n",
       "<table border=\"1\" class=\"dataframe\">\n",
       "  <thead>\n",
       "    <tr style=\"text-align: right;\">\n",
       "      <th></th>\n",
       "      <th>advertiser_id</th>\n",
       "      <th>campaign_id</th>\n",
       "      <th>campaign_group_id</th>\n",
       "      <th>insertion_order_id</th>\n",
       "      <th>othuser_id_64</th>\n",
       "      <th>auction_id_64</th>\n",
       "      <th>nb_convs</th>\n",
       "      <th>nb_imps</th>\n",
       "      <th>nb_viewed</th>\n",
       "      <th>nb_clicks</th>\n",
       "      <th>...</th>\n",
       "      <th>advertiser_categ_whitelist</th>\n",
       "      <th>categ</th>\n",
       "      <th>d_m</th>\n",
       "      <th>d_h</th>\n",
       "      <th>advertiser_name</th>\n",
       "      <th>advertiser_categ</th>\n",
       "      <th>campaign_group_name</th>\n",
       "      <th>insertion_order_name</th>\n",
       "      <th>is_traffic_pixel</th>\n",
       "      <th>auction_type</th>\n",
       "    </tr>\n",
       "  </thead>\n",
       "  <tbody>\n",
       "    <tr>\n",
       "      <th>0</th>\n",
       "      <td>637008</td>\n",
       "      <td>10739512</td>\n",
       "      <td>2390017</td>\n",
       "      <td>0</td>\n",
       "      <td>4434357279271824</td>\n",
       "      <td>4358360230625936506</td>\n",
       "      <td>0</td>\n",
       "      <td>1</td>\n",
       "      <td>0</td>\n",
       "      <td>0</td>\n",
       "      <td>...</td>\n",
       "      <td>None</td>\n",
       "      <td>None</td>\n",
       "      <td>0.00</td>\n",
       "      <td>0.000000</td>\n",
       "      <td>US_Direct_Gray_Line_Iceland</td>\n",
       "      <td>Travel</td>\n",
       "      <td>US_Direct_Gray_Line_Iceland_Travel_travel_Trav...</td>\n",
       "      <td>None</td>\n",
       "      <td>False</td>\n",
       "      <td>retargeting</td>\n",
       "    </tr>\n",
       "    <tr>\n",
       "      <th>1</th>\n",
       "      <td>637008</td>\n",
       "      <td>10739512</td>\n",
       "      <td>2390017</td>\n",
       "      <td>0</td>\n",
       "      <td>4434357279271824</td>\n",
       "      <td>5040418540775127437</td>\n",
       "      <td>2</td>\n",
       "      <td>1</td>\n",
       "      <td>0</td>\n",
       "      <td>0</td>\n",
       "      <td>...</td>\n",
       "      <td>None</td>\n",
       "      <td>None</td>\n",
       "      <td>8.35</td>\n",
       "      <td>0.139167</td>\n",
       "      <td>US_Direct_Gray_Line_Iceland</td>\n",
       "      <td>Travel</td>\n",
       "      <td>US_Direct_Gray_Line_Iceland_Travel_travel_Trav...</td>\n",
       "      <td>None</td>\n",
       "      <td>False</td>\n",
       "      <td>retargeting</td>\n",
       "    </tr>\n",
       "    <tr>\n",
       "      <th>2</th>\n",
       "      <td>962840</td>\n",
       "      <td>13901848</td>\n",
       "      <td>3236595</td>\n",
       "      <td>0</td>\n",
       "      <td>4434357279271824</td>\n",
       "      <td>128516321482238360</td>\n",
       "      <td>0</td>\n",
       "      <td>1</td>\n",
       "      <td>0</td>\n",
       "      <td>0</td>\n",
       "      <td>...</td>\n",
       "      <td>None</td>\n",
       "      <td>None</td>\n",
       "      <td>0.00</td>\n",
       "      <td>0.000000</td>\n",
       "      <td>US_Direct_Busch_Gardens</td>\n",
       "      <td>Travel</td>\n",
       "      <td>US_Direct_Busch_Gardens_Travel_travel_Amusemen...</td>\n",
       "      <td>None</td>\n",
       "      <td>False</td>\n",
       "      <td>prospecting</td>\n",
       "    </tr>\n",
       "    <tr>\n",
       "      <th>3</th>\n",
       "      <td>558533</td>\n",
       "      <td>13650529</td>\n",
       "      <td>2947057</td>\n",
       "      <td>322269</td>\n",
       "      <td>6522611543386504</td>\n",
       "      <td>9108040963265572265</td>\n",
       "      <td>0</td>\n",
       "      <td>2</td>\n",
       "      <td>2</td>\n",
       "      <td>0</td>\n",
       "      <td>...</td>\n",
       "      <td>Consumer Goods &amp; Services</td>\n",
       "      <td>None</td>\n",
       "      <td>0.00</td>\n",
       "      <td>0.000000</td>\n",
       "      <td>FR_Direct_Mister_Camp</td>\n",
       "      <td>Travel</td>\n",
       "      <td>FR_Direct_Mister_Camp_PROSPECTING</td>\n",
       "      <td>MisterCamp_Mai_Juillet_2016_CPM</td>\n",
       "      <td>False</td>\n",
       "      <td>prospecting</td>\n",
       "    </tr>\n",
       "    <tr>\n",
       "      <th>4</th>\n",
       "      <td>558533</td>\n",
       "      <td>13650529</td>\n",
       "      <td>2947057</td>\n",
       "      <td>322269</td>\n",
       "      <td>6522611543386504</td>\n",
       "      <td>9108040963265572265</td>\n",
       "      <td>0</td>\n",
       "      <td>2</td>\n",
       "      <td>2</td>\n",
       "      <td>0</td>\n",
       "      <td>...</td>\n",
       "      <td>Consumer Goods &amp; Services</td>\n",
       "      <td>Holidays &amp; Travel/Accommodation</td>\n",
       "      <td>0.00</td>\n",
       "      <td>0.000000</td>\n",
       "      <td>FR_Direct_Mister_Camp</td>\n",
       "      <td>Travel</td>\n",
       "      <td>FR_Direct_Mister_Camp_PROSPECTING</td>\n",
       "      <td>MisterCamp_Mai_Juillet_2016_CPM</td>\n",
       "      <td>False</td>\n",
       "      <td>prospecting</td>\n",
       "    </tr>\n",
       "  </tbody>\n",
       "</table>\n",
       "<p>5 rows × 40 columns</p>\n",
       "</div>"
      ],
      "text/plain": [
       "   advertiser_id  campaign_id  campaign_group_id  insertion_order_id  \\\n",
       "0         637008     10739512            2390017                   0   \n",
       "1         637008     10739512            2390017                   0   \n",
       "2         962840     13901848            3236595                   0   \n",
       "3         558533     13650529            2947057              322269   \n",
       "4         558533     13650529            2947057              322269   \n",
       "\n",
       "      othuser_id_64        auction_id_64  nb_convs  nb_imps  nb_viewed  \\\n",
       "0  4434357279271824  4358360230625936506         0        1          0   \n",
       "1  4434357279271824  5040418540775127437         2        1          0   \n",
       "2  4434357279271824   128516321482238360         0        1          0   \n",
       "3  6522611543386504  9108040963265572265         0        2          2   \n",
       "4  6522611543386504  9108040963265572265         0        2          2   \n",
       "\n",
       "   nb_clicks     ...       advertiser_categ_whitelist  \\\n",
       "0          0     ...                             None   \n",
       "1          0     ...                             None   \n",
       "2          0     ...                             None   \n",
       "3          0     ...        Consumer Goods & Services   \n",
       "4          0     ...        Consumer Goods & Services   \n",
       "\n",
       "                             categ   d_m       d_h  \\\n",
       "0                             None  0.00  0.000000   \n",
       "1                             None  8.35  0.139167   \n",
       "2                             None  0.00  0.000000   \n",
       "3                             None  0.00  0.000000   \n",
       "4  Holidays & Travel/Accommodation  0.00  0.000000   \n",
       "\n",
       "               advertiser_name  advertiser_categ  \\\n",
       "0  US_Direct_Gray_Line_Iceland            Travel   \n",
       "1  US_Direct_Gray_Line_Iceland            Travel   \n",
       "2      US_Direct_Busch_Gardens            Travel   \n",
       "3        FR_Direct_Mister_Camp            Travel   \n",
       "4        FR_Direct_Mister_Camp            Travel   \n",
       "\n",
       "                                 campaign_group_name  \\\n",
       "0  US_Direct_Gray_Line_Iceland_Travel_travel_Trav...   \n",
       "1  US_Direct_Gray_Line_Iceland_Travel_travel_Trav...   \n",
       "2  US_Direct_Busch_Gardens_Travel_travel_Amusemen...   \n",
       "3                  FR_Direct_Mister_Camp_PROSPECTING   \n",
       "4                  FR_Direct_Mister_Camp_PROSPECTING   \n",
       "\n",
       "              insertion_order_name is_traffic_pixel auction_type  \n",
       "0                             None            False  retargeting  \n",
       "1                             None            False  retargeting  \n",
       "2                             None            False  prospecting  \n",
       "3  MisterCamp_Mai_Juillet_2016_CPM            False  prospecting  \n",
       "4  MisterCamp_Mai_Juillet_2016_CPM            False  prospecting  \n",
       "\n",
       "[5 rows x 40 columns]"
      ]
     },
     "execution_count": 131,
     "metadata": {},
     "output_type": "execute_result"
    }
   ],
   "source": [
    "auctions_df.head() # auction_type.value_counts()"
   ]
  },
  {
   "cell_type": "code",
   "execution_count": 144,
   "metadata": {
    "collapsed": false
   },
   "outputs": [
    {
     "name": "stdout",
     "output_type": "stream",
     "text": [
      "('before: ', (107714, 40))\n",
      "('after: ', (81766, 40))\n"
     ]
    }
   ],
   "source": [
    "print('before: ', auctions_df.shape)\n",
    "auctions_df = auctions_df.drop_duplicates(subset=['othuser_id_64', 'advertiser_id', 'start'])\n",
    "print('after: ', auctions_df.shape)"
   ]
  },
  {
   "cell_type": "code",
   "execution_count": 183,
   "metadata": {
    "collapsed": false
   },
   "outputs": [
    {
     "data": {
      "text/plain": [
       "<matplotlib.axes._subplots.AxesSubplot at 0x7f223ed8ca10>"
      ]
     },
     "execution_count": 183,
     "metadata": {},
     "output_type": "execute_result"
    },
    {
     "data": {
      "image/png": "[encoded data removed]",
      "text/plain": [
       "<matplotlib.figure.Figure at 0x7f2240991790>"
      ]
     },
     "metadata": {},
     "output_type": "display_data"
    }
   ],
   "source": [
    "auctions_per_users.plot.bar()"
   ]
  },
  {
   "cell_type": "code",
   "execution_count": 145,
   "metadata": {
    "collapsed": false
   },
   "outputs": [
    {
     "name": "stdout",
     "output_type": "stream",
     "text": [
      "4863927081331129578    99\n",
      "6583037023454356045    98\n",
      "8242175891928723299    97\n",
      "Name: othuser_id_64, dtype: int64\n",
      "1226718523590055625    1\n",
      "5500248918563494612    1\n",
      "771050609342697791     1\n",
      "Name: othuser_id_64, dtype: int64\n"
     ]
    }
   ],
   "source": [
    "auctions_per_users = auctions_df.othuser_id_64.value_counts()\n",
    "auctions_per_users_reduced = auctions_per_users[(auctions_per_users >= 1) & (auctions_per_users < 100)]\n",
    "print(auctions_per_users_reduced.head(3))\n",
    "print(auctions_per_users_reduced.tail(3))"
   ]
  },
  {
   "cell_type": "code",
   "execution_count": 146,
   "metadata": {
    "collapsed": false
   },
   "outputs": [
    {
     "data": {
      "text/plain": [
       "6223814959371480441    10\n",
       "7140736079851798826    10\n",
       "550979667177750210     10\n",
       "6434395744630849171    10\n",
       "6725637863062274090    10\n",
       "Name: othuser_id_64, dtype: int64"
      ]
     },
     "execution_count": 146,
     "metadata": {},
     "output_type": "execute_result"
    }
   ],
   "source": [
    "auctions_per_users_reduced[auctions_per_users_reduced == 10].head()"
   ]
  },
  {
   "cell_type": "markdown",
   "metadata": {},
   "source": [
    "# ======"
   ]
  },
  {
   "cell_type": "code",
   "execution_count": 179,
   "metadata": {
    "collapsed": false
   },
   "outputs": [],
   "source": [
    "usr = auctions_df[auctions_df.othuser_id_64 == 4863927081331129578]#.drop_duplicates() # 2528153167333313088\n",
    "# usr = usr.drop_duplicates(subset=['advertiser_id', 'start'])"
   ]
  },
  {
   "cell_type": "code",
   "execution_count": 168,
   "metadata": {
    "collapsed": false,
    "scrolled": true
   },
   "outputs": [
    {
     "data": {
      "text/plain": [
       "{'age': nan,\n",
       " 'cpm': 2.9345300000000001,\n",
       " 'genders': u'u',\n",
       " 'operating_systems': u'92',\n",
       " 'revenue': 0.0}"
      ]
     },
     "execution_count": 168,
     "metadata": {},
     "output_type": "execute_result"
    }
   ],
   "source": [
    "{x: get_most_common(usr[x].tolist()) for x in  ['age', 'operating_systems', 'revenue', 'cpm', 'genders']}"
   ]
  },
  {
   "cell_type": "code",
   "execution_count": 165,
   "metadata": {
    "collapsed": false
   },
   "outputs": [
    {
     "data": {
      "text/plain": [
       "Index([u'advertiser_id', u'campaign_id', u'campaign_group_id',\n",
       "       u'insertion_order_id', u'othuser_id_64', u'auction_id_64', u'nb_convs',\n",
       "       u'nb_imps', u'nb_viewed', u'nb_clicks', u'nb_pc_convs', u'nb_pv_convs',\n",
       "       u'age', u'start', u'end', u'duration', u'revenue', u'cpm',\n",
       "       u'operating_systems', u'genders', u'member_ids', u'segment_ids',\n",
       "       u'values', u'nb_daily_unique', u'nb_monthly_unique', u'pixel_ids',\n",
       "       u'pixels_match', u'pixels_names', u'is_conv_pixel', u'customer_id',\n",
       "       u'advertiser_categ_whitelist', u'categ', u'd_m', u'd_h',\n",
       "       u'advertiser_name', u'advertiser_categ', u'campaign_group_name',\n",
       "       u'insertion_order_name', u'is_traffic_pixel', u'auction_type'],\n",
       "      dtype='object')"
      ]
     },
     "execution_count": 165,
     "metadata": {},
     "output_type": "execute_result"
    }
   ],
   "source": [
    "usr.columns"
   ]
  },
  {
   "cell_type": "code",
   "execution_count": 180,
   "metadata": {
    "collapsed": false
   },
   "outputs": [],
   "source": [
    "def get_story(user_data):\n",
    "    # user_data = user_data.sort_values(['advertiser_id', 'start'])\n",
    "    user_data = user_data.copy()\n",
    "    previous_adv = None\n",
    "    user_infos = {x: get_most_common(user_data[x].tolist()) for x in  ['othuser_id_64', 'age', 'operating_systems', 'revenue', 'cpm', 'genders']}\n",
    "    print('User ({othuser_id_64}) - age {age} - gender {genders} - op {operating_systems} - cpm {cpm} - revenue {revenue}\\n\\n'.format(\n",
    "        **user_infos))\n",
    "    for k, v in user_data.iterrows():\n",
    "        # v.drop_duplicates(subset=['start'], inplace=True)\n",
    "        if v['advertiser_id'] != previous_adv:\n",
    "            previous_adv = v['advertiser_id']\n",
    "            # v['advertiser_name'] = v.get('advertiser_name').encode('utf-8') or None\n",
    "            print('== {advertiser_id} ({advertiser_name} - {advertiser_categ} - {advertiser_categ_whitelist} - {categ}) =='.format(**v))\n",
    "        \n",
    "        msg = \"\"\"\n",
    "        - type: {auction_type} | land: {is_traffic_pixel} | convert: {is_conv_pixel}\n",
    "        \\t- {nb_imps} imps ({viewed:.2f}% viewed) | {nb_clicks} clicks | {nb_convs} convs ({nb_pc_convs}pc, {nb_pv_convs}pv)\n",
    "        \\t- {start} | {end} ({duration}sec - {d_m:.2f}min | {d_h:.2f}h)\n",
    "        \\t- {segment_ids} - daily: {nb_daily_unique} - monthly: {nb_monthly_unique}\n",
    "        \"\"\".format(viewed=v['nb_viewed']*100. / v['nb_imps'], **v)\n",
    "        print(msg)\n",
    "    \n",
    "        # print(v)"
   ]
  },
  {
   "cell_type": "code",
   "execution_count": null,
   "metadata": {
    "collapsed": true
   },
   "outputs": [],
   "source": [
    "Country_CampaignName_EcoModel_Network_Pixeltype"
   ]
  },
  {
   "cell_type": "code",
   "execution_count": 181,
   "metadata": {
    "collapsed": false,
    "scrolled": false
   },
   "outputs": [
    {
     "name": "stdout",
     "output_type": "stream",
     "text": [
      "User (4863927081331129578) - age nan - gender u - op None - cpm 2.32 - revenue 0.0\n",
      "\n",
      "\n",
      "== 558533 (FR_Direct_Mister_Camp - Travel - Consumer Goods & Services - None) ==\n",
      "\n",
      "        - type: prospecting | land: False | convert: 0\n",
      "        \t- 1 imps (100.00% viewed) | 0 clicks | 0 convs (0pc, 0pv)\n",
      "        \t- 07-09 06:00:01 | 07-09 06:00:01 (0sec - 0.00min | 0.00h)\n",
      "        \t- 5138237 - daily: 1.0 - monthly: 0.0\n",
      "        \n",
      "== 581347 (FR_Direct_EBP_FR - Software - Consumer Goods & Services - None) ==\n",
      "\n",
      "        - type: prospecting | land: False | convert: 0\n",
      "        \t- 1 imps (100.00% viewed) | 0 clicks | 0 convs (0pc, 0pv)\n",
      "        \t- 07-13 09:48:40 | 07-13 09:48:40 (0sec - 0.00min | 0.00h)\n",
      "        \t- None - daily: nan - monthly: nan\n",
      "        \n",
      "== 1015504 (FR_Direct_Le_Bus_Direct - Travel - Consumer Goods & Services - None) ==\n",
      "\n",
      "        - type: retargeting | land: False | convert: 0\n",
      "        \t- 1 imps (100.00% viewed) | 0 clicks | 0 convs (0pc, 0pv)\n",
      "        \t- 07-04 15:14:10 | 07-04 15:14:10 (0sec - 0.00min | 0.00h)\n",
      "        \t- None - daily: nan - monthly: nan\n",
      "        \n",
      "\n",
      "        - type: retargeting | land: False | convert: 0\n",
      "        \t- 1 imps (0.00% viewed) | 0 clicks | 0 convs (0pc, 0pv)\n",
      "        \t- 07-06 06:17:37 | 07-06 06:17:37 (0sec - 0.00min | 0.00h)\n",
      "        \t- 5303228 - daily: 1.0 - monthly: 0.0\n",
      "        \n",
      "\n",
      "        - type: retargeting | land: False | convert: 0\n",
      "        \t- 1 imps (0.00% viewed) | 0 clicks | 0 convs (0pc, 0pv)\n",
      "        \t- 07-06 06:23:41 | 07-06 06:23:41 (0sec - 0.00min | 0.00h)\n",
      "        \t- 5303228 - daily: 0.0 - monthly: 0.0\n",
      "        \n",
      "\n",
      "        - type: retargeting | land: False | convert: 0\n",
      "        \t- 1 imps (100.00% viewed) | 0 clicks | 0 convs (0pc, 0pv)\n",
      "        \t- 07-06 06:35:20 | 07-06 06:35:20 (0sec - 0.00min | 0.00h)\n",
      "        \t- 5303228 - daily: 0.0 - monthly: 0.0\n",
      "        \n",
      "\n",
      "        - type: retargeting | land: False | convert: 0\n",
      "        \t- 1 imps (100.00% viewed) | 0 clicks | 0 convs (0pc, 0pv)\n",
      "        \t- 07-06 07:18:15 | 07-06 07:18:15 (0sec - 0.00min | 0.00h)\n",
      "        \t- None - daily: nan - monthly: nan\n",
      "        \n",
      "\n",
      "        - type: prospecting_retargeting | land: False | convert: 0\n",
      "        \t- 1 imps (100.00% viewed) | 0 clicks | 0 convs (0pc, 0pv)\n",
      "        \t- 07-06 07:18:16 | 07-06 07:18:16 (0sec - 0.00min | 0.00h)\n",
      "        \t- 5303226 - daily: 1.0 - monthly: 1.0\n",
      "        \n",
      "\n",
      "        - type: prospecting_retargeting | land: False | convert: 0\n",
      "        \t- 1 imps (0.00% viewed) | 0 clicks | 0 convs (0pc, 0pv)\n",
      "        \t- 07-06 09:28:14 | 07-06 09:28:14 (0sec - 0.00min | 0.00h)\n",
      "        \t- None - daily: nan - monthly: nan\n",
      "        \n",
      "\n",
      "        - type: prospecting_retargeting | land: False | convert: 0\n",
      "        \t- 1 imps (100.00% viewed) | 0 clicks | 0 convs (0pc, 0pv)\n",
      "        \t- 07-06 09:37:50 | 07-06 09:37:50 (0sec - 0.00min | 0.00h)\n",
      "        \t- None - daily: nan - monthly: nan\n",
      "        \n",
      "\n",
      "        - type: prospecting_retargeting | land: False | convert: 0\n",
      "        \t- 1 imps (0.00% viewed) | 0 clicks | 0 convs (0pc, 0pv)\n",
      "        \t- 07-06 09:44:15 | 07-06 09:44:15 (0sec - 0.00min | 0.00h)\n",
      "        \t- None - daily: nan - monthly: nan\n",
      "        \n",
      "\n",
      "        - type: prospecting_retargeting | land: False | convert: 0\n",
      "        \t- 1 imps (0.00% viewed) | 0 clicks | 0 convs (0pc, 0pv)\n",
      "        \t- 07-06 09:50:27 | 07-06 09:50:27 (0sec - 0.00min | 0.00h)\n",
      "        \t- None - daily: nan - monthly: nan\n",
      "        \n",
      "\n",
      "        - type: retargeting | land: False | convert: 0\n",
      "        \t- 1 imps (0.00% viewed) | 0 clicks | 0 convs (0pc, 0pv)\n",
      "        \t- 07-06 09:56:32 | 07-06 09:56:32 (0sec - 0.00min | 0.00h)\n",
      "        \t- None - daily: nan - monthly: nan\n",
      "        \n",
      "\n",
      "        - type: prospecting_retargeting | land: False | convert: 0\n",
      "        \t- 1 imps (0.00% viewed) | 0 clicks | 0 convs (0pc, 0pv)\n",
      "        \t- 07-06 09:58:34 | 07-06 09:58:34 (0sec - 0.00min | 0.00h)\n",
      "        \t- None - daily: nan - monthly: nan\n",
      "        \n",
      "\n",
      "        - type: retargeting | land: False | convert: 0\n",
      "        \t- 1 imps (0.00% viewed) | 0 clicks | 0 convs (0pc, 0pv)\n",
      "        \t- 07-06 16:14:33 | 07-06 16:14:33 (0sec - 0.00min | 0.00h)\n",
      "        \t- 5303228 - daily: 0.0 - monthly: 0.0\n",
      "        \n",
      "\n",
      "        - type: prospecting_retargeting | land: False | convert: 0\n",
      "        \t- 1 imps (0.00% viewed) | 0 clicks | 0 convs (0pc, 0pv)\n",
      "        \t- 07-07 06:23:47 | 07-07 06:23:47 (0sec - 0.00min | 0.00h)\n",
      "        \t- None - daily: nan - monthly: nan\n",
      "        \n",
      "\n",
      "        - type: retargeting | land: False | convert: 0\n",
      "        \t- 1 imps (300.00% viewed) | 1 clicks | 1 convs (1pc, 0pv)\n",
      "        \t- 07-07 06:25:18 | 07-07 06:25:50 (32sec - 0.53min | 0.01h)\n",
      "        \t- 5302010 - daily: 2.0 - monthly: 0.0\n",
      "        \n",
      "\n",
      "        - type: prospecting_retargeting | land: False | convert: 0\n",
      "        \t- 1 imps (0.00% viewed) | 0 clicks | 0 convs (0pc, 0pv)\n",
      "        \t- 07-07 06:35:23 | 07-07 06:35:23 (0sec - 0.00min | 0.00h)\n",
      "        \t- None - daily: nan - monthly: nan\n",
      "        \n",
      "\n",
      "        - type: prospecting_retargeting | land: False | convert: 0\n",
      "        \t- 1 imps (0.00% viewed) | 0 clicks | 0 convs (0pc, 0pv)\n",
      "        \t- 07-07 06:41:27 | 07-07 06:41:27 (0sec - 0.00min | 0.00h)\n",
      "        \t- 5303228 - daily: 0.0 - monthly: 0.0\n",
      "        \n",
      "\n",
      "        - type: prospecting_retargeting | land: False | convert: 0\n",
      "        \t- 1 imps (0.00% viewed) | 0 clicks | 0 convs (0pc, 0pv)\n",
      "        \t- 07-07 06:47:30 | 07-07 06:47:30 (0sec - 0.00min | 0.00h)\n",
      "        \t- None - daily: nan - monthly: nan\n",
      "        \n",
      "\n",
      "        - type: retargeting | land: False | convert: 0\n",
      "        \t- 1 imps (0.00% viewed) | 0 clicks | 0 convs (0pc, 0pv)\n",
      "        \t- 07-07 06:53:34 | 07-07 06:53:34 (0sec - 0.00min | 0.00h)\n",
      "        \t- None - daily: nan - monthly: nan\n",
      "        \n",
      "\n",
      "        - type: prospecting_retargeting | land: False | convert: 0\n",
      "        \t- 1 imps (100.00% viewed) | 0 clicks | 0 convs (0pc, 0pv)\n",
      "        \t- 07-07 06:55:35 | 07-07 06:55:35 (0sec - 0.00min | 0.00h)\n",
      "        \t- None - daily: nan - monthly: nan\n",
      "        \n",
      "\n",
      "        - type: prospecting_retargeting | land: False | convert: 0\n",
      "        \t- 1 imps (0.00% viewed) | 0 clicks | 0 convs (0pc, 0pv)\n",
      "        \t- 07-07 07:14:56 | 07-07 07:14:56 (0sec - 0.00min | 0.00h)\n",
      "        \t- None - daily: nan - monthly: nan\n",
      "        \n",
      "\n",
      "        - type: retargeting | land: False | convert: 0\n",
      "        \t- 1 imps (0.00% viewed) | 0 clicks | 0 convs (0pc, 0pv)\n",
      "        \t- 07-07 09:05:44 | 07-07 09:05:44 (0sec - 0.00min | 0.00h)\n",
      "        \t- None - daily: nan - monthly: nan\n",
      "        \n",
      "\n",
      "        - type: retargeting | land: False | convert: 0\n",
      "        \t- 1 imps (100.00% viewed) | 0 clicks | 0 convs (0pc, 0pv)\n",
      "        \t- 07-07 09:20:35 | 07-07 09:20:35 (0sec - 0.00min | 0.00h)\n",
      "        \t- None - daily: nan - monthly: nan\n",
      "        \n",
      "\n",
      "        - type: retargeting | land: False | convert: 0\n",
      "        \t- 1 imps (0.00% viewed) | 0 clicks | 0 convs (0pc, 0pv)\n",
      "        \t- 07-07 10:16:00 | 07-07 10:16:00 (0sec - 0.00min | 0.00h)\n",
      "        \t- None - daily: nan - monthly: nan\n",
      "        \n",
      "\n",
      "        - type: prospecting_retargeting | land: False | convert: 0\n",
      "        \t- 1 imps (100.00% viewed) | 0 clicks | 0 convs (0pc, 0pv)\n",
      "        \t- 07-07 14:10:08 | 07-07 14:10:08 (0sec - 0.00min | 0.00h)\n",
      "        \t- 5303228 - daily: 0.0 - monthly: 0.0\n",
      "        \n",
      "\n",
      "        - type: prospecting_retargeting | land: False | convert: 0\n",
      "        \t- 1 imps (100.00% viewed) | 0 clicks | 0 convs (0pc, 0pv)\n",
      "        \t- 07-07 14:24:11 | 07-07 14:24:11 (0sec - 0.00min | 0.00h)\n",
      "        \t- 5303226 - daily: 0.0 - monthly: 0.0\n",
      "        \n",
      "\n",
      "        - type: prospecting_retargeting | land: False | convert: 0\n",
      "        \t- 1 imps (0.00% viewed) | 0 clicks | 0 convs (0pc, 0pv)\n",
      "        \t- 07-07 14:27:41 | 07-07 14:27:41 (0sec - 0.00min | 0.00h)\n",
      "        \t- None - daily: nan - monthly: nan\n",
      "        \n",
      "\n",
      "        - type: prospecting_retargeting | land: False | convert: 0\n",
      "        \t- 1 imps (0.00% viewed) | 0 clicks | 0 convs (0pc, 0pv)\n",
      "        \t- 07-08 07:24:18 | 07-08 07:24:18 (0sec - 0.00min | 0.00h)\n",
      "        \t- None - daily: nan - monthly: nan\n",
      "        \n",
      "\n",
      "        - type: prospecting_retargeting | land: False | convert: 0\n",
      "        \t- 1 imps (0.00% viewed) | 0 clicks | 0 convs (0pc, 0pv)\n",
      "        \t- 07-08 07:31:06 | 07-08 07:31:06 (0sec - 0.00min | 0.00h)\n",
      "        \t- None - daily: nan - monthly: nan\n",
      "        \n",
      "\n",
      "        - type: retargeting | land: False | convert: 0\n",
      "        \t- 1 imps (0.00% viewed) | 0 clicks | 0 convs (0pc, 0pv)\n",
      "        \t- 07-08 07:31:42 | 07-08 07:31:42 (0sec - 0.00min | 0.00h)\n",
      "        \t- 5303228 - daily: 1.0 - monthly: 0.0\n",
      "        \n",
      "\n",
      "        - type: prospecting_retargeting | land: False | convert: 0\n",
      "        \t- 1 imps (0.00% viewed) | 0 clicks | 0 convs (0pc, 0pv)\n",
      "        \t- 07-08 07:43:47 | 07-08 07:43:47 (0sec - 0.00min | 0.00h)\n",
      "        \t- None - daily: nan - monthly: nan\n",
      "        \n",
      "\n",
      "        - type: prospecting_retargeting | land: False | convert: 0\n",
      "        \t- 1 imps (0.00% viewed) | 0 clicks | 0 convs (0pc, 0pv)\n",
      "        \t- 07-08 07:50:05 | 07-08 07:50:05 (0sec - 0.00min | 0.00h)\n",
      "        \t- 5303228 - daily: 0.0 - monthly: 0.0\n",
      "        \n",
      "\n",
      "        - type: prospecting_retargeting | land: False | convert: 0\n",
      "        \t- 1 imps (0.00% viewed) | 0 clicks | 0 convs (0pc, 0pv)\n",
      "        \t- 07-08 07:56:07 | 07-08 07:56:07 (0sec - 0.00min | 0.00h)\n",
      "        \t- None - daily: nan - monthly: nan\n",
      "        \n",
      "\n",
      "        - type: retargeting | land: False | convert: 0\n",
      "        \t- 1 imps (0.00% viewed) | 0 clicks | 0 convs (0pc, 0pv)\n",
      "        \t- 07-08 08:06:14 | 07-08 08:06:14 (0sec - 0.00min | 0.00h)\n",
      "        \t- None - daily: nan - monthly: nan\n",
      "        \n",
      "\n",
      "        - type: retargeting | land: False | convert: 0\n",
      "        \t- 1 imps (200.00% viewed) | 0 clicks | 1 convs (0pc, 1pv)\n",
      "        \t- 07-08 08:18:40 | 07-08 08:19:00 (20sec - 0.33min | 0.01h)\n",
      "        \t- None - daily: nan - monthly: nan\n",
      "        \n",
      "\n",
      "        - type: prospecting_retargeting | land: False | convert: 0\n",
      "        \t- 1 imps (0.00% viewed) | 0 clicks | 0 convs (0pc, 0pv)\n",
      "        \t- 07-08 08:26:46 | 07-08 08:26:46 (0sec - 0.00min | 0.00h)\n",
      "        \t- 5303228 - daily: 0.0 - monthly: 0.0\n",
      "        \n",
      "\n",
      "        - type: retargeting | land: False | convert: 0\n",
      "        \t- 1 imps (100.00% viewed) | 0 clicks | 0 convs (0pc, 0pv)\n",
      "        \t- 07-08 08:31:29 | 07-08 08:31:29 (0sec - 0.00min | 0.00h)\n",
      "        \t- 5303228 - daily: 0.0 - monthly: 0.0\n",
      "        \n",
      "\n",
      "        - type: prospecting_retargeting | land: False | convert: 0\n",
      "        \t- 1 imps (0.00% viewed) | 0 clicks | 0 convs (0pc, 0pv)\n",
      "        \t- 07-08 08:32:16 | 07-08 08:32:16 (0sec - 0.00min | 0.00h)\n",
      "        \t- None - daily: nan - monthly: nan\n",
      "        \n",
      "\n",
      "        - type: prospecting_retargeting | land: False | convert: 0\n",
      "        \t- 1 imps (100.00% viewed) | 0 clicks | 0 convs (0pc, 0pv)\n",
      "        \t- 07-08 08:39:06 | 07-08 08:39:06 (0sec - 0.00min | 0.00h)\n",
      "        \t- None - daily: nan - monthly: nan\n",
      "        \n",
      "\n",
      "        - type: prospecting_retargeting | land: False | convert: 0\n",
      "        \t- 1 imps (100.00% viewed) | 0 clicks | 0 convs (0pc, 0pv)\n",
      "        \t- 07-08 08:45:39 | 07-08 08:45:39 (0sec - 0.00min | 0.00h)\n",
      "        \t- None - daily: nan - monthly: nan\n",
      "        \n",
      "\n",
      "        - type: prospecting_retargeting | land: False | convert: 0\n",
      "        \t- 1 imps (0.00% viewed) | 0 clicks | 0 convs (0pc, 0pv)\n",
      "        \t- 07-08 08:51:45 | 07-08 08:51:45 (0sec - 0.00min | 0.00h)\n",
      "        \t- 5303228 - daily: 0.0 - monthly: 0.0\n",
      "        \n",
      "\n",
      "        - type: retargeting | land: False | convert: 0\n",
      "        \t- 1 imps (0.00% viewed) | 0 clicks | 0 convs (0pc, 0pv)\n",
      "        \t- 07-08 18:58:05 | 07-08 18:58:05 (0sec - 0.00min | 0.00h)\n",
      "        \t- 5303228 - daily: 0.0 - monthly: 0.0\n",
      "        \n",
      "\n",
      "        - type: retargeting | land: False | convert: 0\n",
      "        \t- 1 imps (0.00% viewed) | 0 clicks | 0 convs (0pc, 0pv)\n",
      "        \t- 07-08 19:26:10 | 07-08 19:26:10 (0sec - 0.00min | 0.00h)\n",
      "        \t- None - daily: nan - monthly: nan\n",
      "        \n",
      "\n",
      "        - type: prospecting_retargeting | land: False | convert: 0\n",
      "        \t- 1 imps (100.00% viewed) | 0 clicks | 0 convs (0pc, 0pv)\n",
      "        \t- 07-09 05:03:58 | 07-09 05:03:58 (0sec - 0.00min | 0.00h)\n",
      "        \t- None - daily: nan - monthly: nan\n",
      "        \n",
      "\n",
      "        - type: prospecting_retargeting | land: False | convert: 0\n",
      "        \t- 1 imps (100.00% viewed) | 0 clicks | 0 convs (0pc, 0pv)\n",
      "        \t- 07-09 05:06:00 | 07-09 05:06:00 (0sec - 0.00min | 0.00h)\n",
      "        \t- None - daily: nan - monthly: nan\n",
      "        \n",
      "\n",
      "        - type: retargeting | land: False | convert: 0\n",
      "        \t- 1 imps (0.00% viewed) | 0 clicks | 0 convs (0pc, 0pv)\n",
      "        \t- 07-09 05:06:35 | 07-09 05:06:35 (0sec - 0.00min | 0.00h)\n",
      "        \t- None - daily: nan - monthly: nan\n",
      "        \n",
      "\n",
      "        - type: prospecting_retargeting | land: False | convert: 0\n",
      "        \t- 1 imps (0.00% viewed) | 0 clicks | 0 convs (0pc, 0pv)\n",
      "        \t- 07-09 05:11:24 | 07-09 05:11:24 (0sec - 0.00min | 0.00h)\n",
      "        \t- None - daily: nan - monthly: nan\n",
      "        \n",
      "\n",
      "        - type: retargeting | land: False | convert: 0\n",
      "        \t- 1 imps (0.00% viewed) | 0 clicks | 0 convs (0pc, 0pv)\n",
      "        \t- 07-09 05:11:53 | 07-09 05:11:53 (0sec - 0.00min | 0.00h)\n",
      "        \t- None - daily: nan - monthly: nan\n",
      "        \n",
      "\n",
      "        - type: prospecting_retargeting | land: False | convert: 0\n",
      "        \t- 1 imps (0.00% viewed) | 0 clicks | 0 convs (0pc, 0pv)\n",
      "        \t- 07-09 05:12:52 | 07-09 05:12:52 (0sec - 0.00min | 0.00h)\n",
      "        \t- None - daily: nan - monthly: nan\n",
      "        \n",
      "\n",
      "        - type: prospecting_retargeting | land: False | convert: 0\n",
      "        \t- 1 imps (100.00% viewed) | 0 clicks | 0 convs (0pc, 0pv)\n",
      "        \t- 07-09 05:17:06 | 07-09 05:17:06 (0sec - 0.00min | 0.00h)\n",
      "        \t- None - daily: nan - monthly: nan\n",
      "        \n",
      "\n",
      "        - type: prospecting_retargeting | land: False | convert: 0\n",
      "        \t- 1 imps (0.00% viewed) | 0 clicks | 0 convs (0pc, 0pv)\n",
      "        \t- 07-09 05:18:29 | 07-09 05:18:29 (0sec - 0.00min | 0.00h)\n",
      "        \t- 5303228 - daily: 0.0 - monthly: 0.0\n",
      "        \n",
      "\n",
      "        - type: retargeting | land: False | convert: 0\n",
      "        \t- 1 imps (0.00% viewed) | 0 clicks | 0 convs (0pc, 0pv)\n",
      "        \t- 07-09 05:20:39 | 07-09 05:20:39 (0sec - 0.00min | 0.00h)\n",
      "        \t- 5303228 - daily: 0.0 - monthly: 0.0\n",
      "        \n",
      "\n",
      "        - type: prospecting_retargeting | land: False | convert: 0\n",
      "        \t- 1 imps (0.00% viewed) | 0 clicks | 0 convs (0pc, 0pv)\n",
      "        \t- 07-09 05:23:26 | 07-09 05:23:26 (0sec - 0.00min | 0.00h)\n",
      "        \t- None - daily: nan - monthly: nan\n",
      "        \n",
      "\n",
      "        - type: prospecting_retargeting | land: False | convert: 0\n",
      "        \t- 1 imps (0.00% viewed) | 0 clicks | 0 convs (0pc, 0pv)\n",
      "        \t- 07-09 05:24:26 | 07-09 05:24:26 (0sec - 0.00min | 0.00h)\n",
      "        \t- None - daily: nan - monthly: nan\n",
      "        \n",
      "\n",
      "        - type: prospecting | land: False | convert: 0\n",
      "        \t- 1 imps (100.00% viewed) | 0 clicks | 0 convs (0pc, 0pv)\n",
      "        \t- 07-09 05:32:19 | 07-09 05:32:19 (0sec - 0.00min | 0.00h)\n",
      "        \t- 5303226 - daily: 1.0 - monthly: 0.0\n",
      "        \n",
      "\n",
      "        - type: prospecting_retargeting | land: False | convert: 0\n",
      "        \t- 1 imps (100.00% viewed) | 0 clicks | 0 convs (0pc, 0pv)\n",
      "        \t- 07-09 05:33:38 | 07-09 05:33:38 (0sec - 0.00min | 0.00h)\n",
      "        \t- None - daily: nan - monthly: nan\n",
      "        \n",
      "\n",
      "        - type: retargeting | land: False | convert: 0\n",
      "        \t- 1 imps (0.00% viewed) | 0 clicks | 0 convs (0pc, 0pv)\n",
      "        \t- 07-09 05:40:57 | 07-09 05:40:57 (0sec - 0.00min | 0.00h)\n",
      "        \t- 5303228 - daily: 0.0 - monthly: 0.0\n",
      "        \n",
      "\n",
      "        - type: retargeting | land: False | convert: 0\n",
      "        \t- 1 imps (100.00% viewed) | 0 clicks | 0 convs (0pc, 0pv)\n",
      "        \t- 07-09 05:46:29 | 07-09 05:46:29 (0sec - 0.00min | 0.00h)\n",
      "        \t- 5303228 - daily: 0.0 - monthly: 0.0\n",
      "        \n",
      "\n",
      "        - type: prospecting | land: False | convert: 0\n",
      "        \t- 1 imps (100.00% viewed) | 0 clicks | 0 convs (0pc, 0pv)\n",
      "        \t- 07-09 07:27:22 | 07-09 07:27:22 (0sec - 0.00min | 0.00h)\n",
      "        \t- None - daily: nan - monthly: nan\n",
      "        \n",
      "\n",
      "        - type: prospecting_retargeting | land: False | convert: 0\n",
      "        \t- 1 imps (100.00% viewed) | 0 clicks | 0 convs (0pc, 0pv)\n",
      "        \t- 07-10 05:41:52 | 07-10 05:41:52 (0sec - 0.00min | 0.00h)\n",
      "        \t- None - daily: nan - monthly: nan\n",
      "        \n",
      "\n",
      "        - type: retargeting | land: False | convert: 0\n",
      "        \t- 1 imps (100.00% viewed) | 0 clicks | 0 convs (0pc, 0pv)\n",
      "        \t- 07-10 05:41:53 | 07-10 05:41:53 (0sec - 0.00min | 0.00h)\n",
      "        \t- 5303228 - daily: 1.0 - monthly: 0.0\n",
      "        \n",
      "\n",
      "        - type: prospecting_retargeting | land: False | convert: 0\n",
      "        \t- 1 imps (100.00% viewed) | 0 clicks | 0 convs (0pc, 0pv)\n",
      "        \t- 07-11 09:43:35 | 07-11 09:43:35 (0sec - 0.00min | 0.00h)\n",
      "        \t- None - daily: nan - monthly: nan\n",
      "        \n",
      "\n",
      "        - type: prospecting_retargeting | land: False | convert: 0\n",
      "        \t- 2 imps (100.00% viewed) | 0 clicks | 0 convs (0pc, 0pv)\n",
      "        \t- 07-12 07:02:52 | 07-12 07:02:52 (0sec - 0.00min | 0.00h)\n",
      "        \t- 5303228 - daily: 1.0 - monthly: 0.0\n",
      "        \n",
      "\n",
      "        - type: retargeting | land: False | convert: 0\n",
      "        \t- 1 imps (0.00% viewed) | 0 clicks | 0 convs (0pc, 0pv)\n",
      "        \t- 07-12 07:05:43 | 07-12 07:05:43 (0sec - 0.00min | 0.00h)\n",
      "        \t- 5303228 - daily: 0.0 - monthly: 0.0\n",
      "        \n",
      "\n",
      "        - type: prospecting_retargeting | land: False | convert: 0\n",
      "        \t- 1 imps (100.00% viewed) | 0 clicks | 0 convs (0pc, 0pv)\n",
      "        \t- 07-12 07:24:56 | 07-12 07:24:56 (0sec - 0.00min | 0.00h)\n",
      "        \t- 5303228 - daily: 0.0 - monthly: 0.0\n",
      "        \n",
      "\n",
      "        - type: retargeting | land: False | convert: 0\n",
      "        \t- 1 imps (0.00% viewed) | 0 clicks | 0 convs (0pc, 0pv)\n",
      "        \t- 07-12 07:25:58 | 07-12 07:25:58 (0sec - 0.00min | 0.00h)\n",
      "        \t- 5303228 - daily: 0.0 - monthly: 0.0\n",
      "        \n",
      "\n",
      "        - type: prospecting_retargeting | land: False | convert: 1\n",
      "        \t- 1 imps (400.00% viewed) | 1 clicks | 2 convs (2pc, 0pv)\n",
      "        \t- 07-12 07:30:07 | 07-12 07:52:24 (1337sec - 22.28min | 0.37h)\n",
      "        \t- 5302010 - daily: 1.0 - monthly: 0.0\n",
      "        \n",
      "\n",
      "        - type: prospecting_retargeting | land: False | convert: 0\n",
      "        \t- 1 imps (0.00% viewed) | 0 clicks | 0 convs (0pc, 0pv)\n",
      "        \t- 07-12 07:42:49 | 07-12 07:42:49 (0sec - 0.00min | 0.00h)\n",
      "        \t- None - daily: nan - monthly: nan\n",
      "        \n",
      "\n",
      "        - type: retargeting | land: False | convert: 0\n",
      "        \t- 1 imps (0.00% viewed) | 0 clicks | 0 convs (0pc, 0pv)\n",
      "        \t- 07-12 07:43:34 | 07-12 07:43:34 (0sec - 0.00min | 0.00h)\n",
      "        \t- 5303228 - daily: 0.0 - monthly: 0.0\n",
      "        \n",
      "\n",
      "        - type: prospecting_retargeting | land: False | convert: 0\n",
      "        \t- 1 imps (100.00% viewed) | 0 clicks | 0 convs (0pc, 0pv)\n",
      "        \t- 07-12 07:48:37 | 07-12 07:48:37 (0sec - 0.00min | 0.00h)\n",
      "        \t- 5303228 - daily: 0.0 - monthly: 0.0\n",
      "        \n",
      "\n",
      "        - type: prospecting_retargeting | land: False | convert: 0\n",
      "        \t- 1 imps (100.00% viewed) | 0 clicks | 0 convs (0pc, 0pv)\n",
      "        \t- 07-12 07:50:23 | 07-12 07:50:23 (0sec - 0.00min | 0.00h)\n",
      "        \t- 5303228 - daily: 0.0 - monthly: 0.0\n",
      "        \n",
      "\n",
      "        - type: prospecting_retargeting | land: False | convert: 0\n",
      "        \t- 1 imps (100.00% viewed) | 0 clicks | 0 convs (0pc, 0pv)\n",
      "        \t- 07-12 08:02:36 | 07-12 08:02:36 (0sec - 0.00min | 0.00h)\n",
      "        \t- 5303228 - daily: 0.0 - monthly: 0.0\n",
      "        \n",
      "\n",
      "        - type: prospecting_retargeting | land: False | convert: 0\n",
      "        \t- 1 imps (0.00% viewed) | 0 clicks | 0 convs (0pc, 0pv)\n",
      "        \t- 07-12 19:20:16 | 07-12 19:20:16 (0sec - 0.00min | 0.00h)\n",
      "        \t- None - daily: nan - monthly: nan\n",
      "        \n",
      "\n",
      "        - type: prospecting_retargeting | land: False | convert: 0\n",
      "        \t- 1 imps (0.00% viewed) | 0 clicks | 0 convs (0pc, 0pv)\n",
      "        \t- 07-12 19:25:25 | 07-12 19:25:25 (0sec - 0.00min | 0.00h)\n",
      "        \t- None - daily: nan - monthly: nan\n",
      "        \n",
      "\n",
      "        - type: prospecting_retargeting | land: False | convert: 0\n",
      "        \t- 1 imps (0.00% viewed) | 0 clicks | 0 convs (0pc, 0pv)\n",
      "        \t- 07-12 19:30:46 | 07-12 19:30:46 (0sec - 0.00min | 0.00h)\n",
      "        \t- None - daily: nan - monthly: nan\n",
      "        \n",
      "\n",
      "        - type: retargeting | land: False | convert: 0\n",
      "        \t- 1 imps (0.00% viewed) | 0 clicks | 0 convs (0pc, 0pv)\n",
      "        \t- 07-12 19:31:04 | 07-12 19:31:04 (0sec - 0.00min | 0.00h)\n",
      "        \t- None - daily: nan - monthly: nan\n",
      "        \n",
      "\n",
      "        - type: retargeting | land: False | convert: 0\n",
      "        \t- 1 imps (0.00% viewed) | 0 clicks | 0 convs (0pc, 0pv)\n",
      "        \t- 07-12 19:38:44 | 07-12 19:38:44 (0sec - 0.00min | 0.00h)\n",
      "        \t- None - daily: nan - monthly: nan\n",
      "        \n",
      "\n",
      "        - type: retargeting | land: False | convert: 0\n",
      "        \t- 1 imps (0.00% viewed) | 0 clicks | 0 convs (0pc, 0pv)\n",
      "        \t- 07-12 20:25:18 | 07-12 20:25:18 (0sec - 0.00min | 0.00h)\n",
      "        \t- None - daily: nan - monthly: nan\n",
      "        \n",
      "\n",
      "        - type: retargeting | land: False | convert: 0\n",
      "        \t- 1 imps (100.00% viewed) | 0 clicks | 0 convs (0pc, 0pv)\n",
      "        \t- 07-13 05:23:49 | 07-13 05:23:49 (0sec - 0.00min | 0.00h)\n",
      "        \t- 5303228 - daily: 1.0 - monthly: 0.0\n",
      "        \n",
      "\n",
      "        - type: prospecting_retargeting | land: False | convert: 0\n",
      "        \t- 1 imps (0.00% viewed) | 0 clicks | 0 convs (0pc, 0pv)\n",
      "        \t- 07-13 05:27:38 | 07-13 05:27:38 (0sec - 0.00min | 0.00h)\n",
      "        \t- 5303226 - daily: 1.0 - monthly: 0.0\n",
      "        \n",
      "\n",
      "        - type: prospecting_retargeting | land: False | convert: 0\n",
      "        \t- 1 imps (100.00% viewed) | 0 clicks | 0 convs (0pc, 0pv)\n",
      "        \t- 07-13 05:39:26 | 07-13 05:39:26 (0sec - 0.00min | 0.00h)\n",
      "        \t- None - daily: nan - monthly: nan\n",
      "        \n",
      "\n",
      "        - type: prospecting_retargeting | land: False | convert: 0\n",
      "        \t- 1 imps (100.00% viewed) | 0 clicks | 0 convs (0pc, 0pv)\n",
      "        \t- 07-13 05:43:07 | 07-13 05:43:07 (0sec - 0.00min | 0.00h)\n",
      "        \t- None - daily: nan - monthly: nan\n",
      "        \n",
      "\n",
      "        - type: prospecting_retargeting | land: False | convert: 0\n",
      "        \t- 1 imps (0.00% viewed) | 0 clicks | 0 convs (0pc, 0pv)\n",
      "        \t- 07-13 05:46:26 | 07-13 05:46:26 (0sec - 0.00min | 0.00h)\n",
      "        \t- None - daily: nan - monthly: nan\n",
      "        \n",
      "\n",
      "        - type: prospecting_retargeting | land: False | convert: 0\n",
      "        \t- 1 imps (0.00% viewed) | 0 clicks | 0 convs (0pc, 0pv)\n",
      "        \t- 07-13 05:50:28 | 07-13 05:50:28 (0sec - 0.00min | 0.00h)\n",
      "        \t- 5303228 - daily: 0.0 - monthly: 0.0\n",
      "        \n",
      "\n",
      "        - type: prospecting_retargeting | land: False | convert: 0\n",
      "        \t- 1 imps (100.00% viewed) | 0 clicks | 0 convs (0pc, 0pv)\n",
      "        \t- 07-13 05:52:29 | 07-13 05:52:29 (0sec - 0.00min | 0.00h)\n",
      "        \t- None - daily: nan - monthly: nan\n",
      "        \n",
      "\n",
      "        - type: prospecting_retargeting | land: False | convert: 0\n",
      "        \t- 1 imps (0.00% viewed) | 0 clicks | 0 convs (0pc, 0pv)\n",
      "        \t- 07-13 06:18:37 | 07-13 06:18:37 (0sec - 0.00min | 0.00h)\n",
      "        \t- None - daily: nan - monthly: nan\n",
      "        \n",
      "\n",
      "        - type: prospecting_retargeting | land: False | convert: 0\n",
      "        \t- 1 imps (0.00% viewed) | 0 clicks | 0 convs (0pc, 0pv)\n",
      "        \t- 07-13 06:20:54 | 07-13 06:20:54 (0sec - 0.00min | 0.00h)\n",
      "        \t- 5303228 - daily: 0.0 - monthly: 0.0\n",
      "        \n",
      "\n",
      "        - type: prospecting_retargeting | land: False | convert: 0\n",
      "        \t- 1 imps (0.00% viewed) | 0 clicks | 0 convs (0pc, 0pv)\n",
      "        \t- 07-13 06:24:00 | 07-13 06:24:00 (0sec - 0.00min | 0.00h)\n",
      "        \t- 5303228 - daily: 0.0 - monthly: 0.0\n",
      "        \n",
      "\n",
      "        - type: prospecting_retargeting | land: False | convert: 0\n",
      "        \t- 1 imps (0.00% viewed) | 0 clicks | 0 convs (0pc, 0pv)\n",
      "        \t- 07-13 06:25:54 | 07-13 06:25:54 (0sec - 0.00min | 0.00h)\n",
      "        \t- None - daily: nan - monthly: nan\n",
      "        \n",
      "\n",
      "        - type: retargeting | land: False | convert: 0\n",
      "        \t- 1 imps (100.00% viewed) | 0 clicks | 0 convs (0pc, 0pv)\n",
      "        \t- 07-13 07:02:10 | 07-13 07:02:10 (0sec - 0.00min | 0.00h)\n",
      "        \t- 5303228 - daily: 0.0 - monthly: 0.0\n",
      "        \n",
      "\n",
      "        - type: prospecting | land: False | convert: 0\n",
      "        \t- 1 imps (0.00% viewed) | 0 clicks | 0 convs (0pc, 0pv)\n",
      "        \t- 07-13 11:31:46 | 07-13 11:31:46 (0sec - 0.00min | 0.00h)\n",
      "        \t- None - daily: nan - monthly: nan\n",
      "        \n",
      "\n",
      "        - type: prospecting | land: False | convert: 0\n",
      "        \t- 1 imps (100.00% viewed) | 0 clicks | 0 convs (0pc, 0pv)\n",
      "        \t- 07-13 11:37:45 | 07-13 11:37:45 (0sec - 0.00min | 0.00h)\n",
      "        \t- 5303226 - daily: 0.0 - monthly: 0.0\n",
      "        \n",
      "\n",
      "        - type: prospecting_retargeting | land: False | convert: 0\n",
      "        \t- 1 imps (0.00% viewed) | 0 clicks | 0 convs (0pc, 0pv)\n",
      "        \t- 07-14 07:44:16 | 07-14 07:44:16 (0sec - 0.00min | 0.00h)\n",
      "        \t- None - daily: nan - monthly: nan\n",
      "        \n",
      "\n",
      "        - type: prospecting_retargeting | land: False | convert: 0\n",
      "        \t- 1 imps (0.00% viewed) | 0 clicks | 0 convs (0pc, 0pv)\n",
      "        \t- 07-14 07:49:55 | 07-14 07:49:55 (0sec - 0.00min | 0.00h)\n",
      "        \t- None - daily: nan - monthly: nan\n",
      "        \n",
      "\n",
      "        - type: prospecting_retargeting | land: False | convert: 0\n",
      "        \t- 1 imps (100.00% viewed) | 0 clicks | 0 convs (0pc, 0pv)\n",
      "        \t- 07-14 07:56:35 | 07-14 07:56:35 (0sec - 0.00min | 0.00h)\n",
      "        \t- None - daily: nan - monthly: nan\n",
      "        \n",
      "\n",
      "        - type: prospecting_retargeting | land: False | convert: 0\n",
      "        \t- 1 imps (0.00% viewed) | 0 clicks | 0 convs (0pc, 0pv)\n",
      "        \t- 07-14 08:02:37 | 07-14 08:02:37 (0sec - 0.00min | 0.00h)\n",
      "        \t- None - daily: nan - monthly: nan\n",
      "        \n",
      "\n",
      "        - type: prospecting_retargeting | land: False | convert: 0\n",
      "        \t- 1 imps (0.00% viewed) | 0 clicks | 0 convs (0pc, 0pv)\n",
      "        \t- 07-14 08:08:56 | 07-14 08:08:56 (0sec - 0.00min | 0.00h)\n",
      "        \t- None - daily: nan - monthly: nan\n",
      "        \n"
     ]
    }
   ],
   "source": [
    "get_story(usr)"
   ]
  },
  {
   "cell_type": "code",
   "execution_count": 159,
   "metadata": {
    "collapsed": false,
    "scrolled": false
   },
   "outputs": [
    {
     "name": "stdout",
     "output_type": "stream",
     "text": [
      "\n"
     ]
    }
   ],
   "source": [
    "from tqdm import tqdm_notebook\n",
    "from collections import Counter, defaultdict\n",
    "\n",
    "c = Counter()\n",
    "adv_saved = defaultdict(set)\n",
    "\n",
    "groups = auctions_df.groupby(['othuser_id_64', 'advertiser_id'])\n",
    "for k, v in tqdm_notebook(groups, total=len(groups)):\n",
    "    # v.sort_values(['start'], inplace=True)\n",
    "    \n",
    "    seen = [\"\"]\n",
    "    for x in v['auction_type'].tolist():\n",
    "        if not x or x != seen[-1]:\n",
    "            seen.append(x)\n",
    "\n",
    "    actions = str(seen[1:])\n",
    "    \n",
    "    \n",
    "    adv_saved[actions].add(k[0])\n",
    "    if len(seen[1:]) < 6:\n",
    "        c[actions] += 1"
   ]
  },
  {
   "cell_type": "code",
   "execution_count": 204,
   "metadata": {
    "collapsed": false
   },
   "outputs": [],
   "source": [
    "for k,v in adv_saved.items():\n",
    "    if k.endswith(\"'retargeting', 'prospecting']\") or k.endswith(\"prospecting_retargeting', 'prospecting'\"):\n",
    "        pass\n",
    "    else:\n",
    "        del adv_saved[k]"
   ]
  },
  {
   "cell_type": "code",
   "execution_count": 208,
   "metadata": {
    "collapsed": false
   },
   "outputs": [],
   "source": [
    "adv_saved = {k: list(v) for k, v in adv_saved.items()}\n",
    "with open('./data/adv_saved.json', 'w') as f:\n",
    "    json.dump(adv_saved, f, indent=4)"
   ]
  },
  {
   "cell_type": "code",
   "execution_count": 160,
   "metadata": {
    "collapsed": false,
    "scrolled": true
   },
   "outputs": [
    {
     "data": {
      "text/html": [
       "<div>\n",
       "<table border=\"1\" class=\"dataframe\">\n",
       "  <thead>\n",
       "    <tr style=\"text-align: right;\">\n",
       "      <th></th>\n",
       "      <th>count</th>\n",
       "    </tr>\n",
       "  </thead>\n",
       "  <tbody>\n",
       "    <tr>\n",
       "      <th>['retargeting']</th>\n",
       "      <td>6921</td>\n",
       "    </tr>\n",
       "    <tr>\n",
       "      <th>['prospecting']</th>\n",
       "      <td>3739</td>\n",
       "    </tr>\n",
       "    <tr>\n",
       "      <th>['prospecting', 'prospecting_retargeting']</th>\n",
       "      <td>28</td>\n",
       "    </tr>\n",
       "    <tr>\n",
       "      <th>['retargeting', 'prospecting']</th>\n",
       "      <td>27</td>\n",
       "    </tr>\n",
       "    <tr>\n",
       "      <th>['retargeting', 'prospecting_retargeting']</th>\n",
       "      <td>26</td>\n",
       "    </tr>\n",
       "    <tr>\n",
       "      <th>['prospecting_retargeting']</th>\n",
       "      <td>16</td>\n",
       "    </tr>\n",
       "    <tr>\n",
       "      <th>['retargeting', 'prospecting_retargeting', 'retargeting', 'prospecting_retargeting']</th>\n",
       "      <td>16</td>\n",
       "    </tr>\n",
       "    <tr>\n",
       "      <th>['retargeting', 'prospecting_retargeting', 'retargeting']</th>\n",
       "      <td>14</td>\n",
       "    </tr>\n",
       "    <tr>\n",
       "      <th>['prospecting', 'prospecting_retargeting', 'prospecting']</th>\n",
       "      <td>13</td>\n",
       "    </tr>\n",
       "    <tr>\n",
       "      <th>['retargeting', 'prospecting', 'retargeting']</th>\n",
       "      <td>13</td>\n",
       "    </tr>\n",
       "    <tr>\n",
       "      <th>['prospecting', 'retargeting']</th>\n",
       "      <td>11</td>\n",
       "    </tr>\n",
       "    <tr>\n",
       "      <th>['retargeting', 'prospecting_retargeting', 'retargeting', 'prospecting_retargeting', 'retargeting']</th>\n",
       "      <td>5</td>\n",
       "    </tr>\n",
       "    <tr>\n",
       "      <th>['prospecting', 'prospecting_retargeting', 'retargeting']</th>\n",
       "      <td>5</td>\n",
       "    </tr>\n",
       "    <tr>\n",
       "      <th>['prospecting', 'prospecting_retargeting', 'retargeting', 'prospecting_retargeting']</th>\n",
       "      <td>5</td>\n",
       "    </tr>\n",
       "    <tr>\n",
       "      <th>['prospecting', 'retargeting', 'prospecting']</th>\n",
       "      <td>5</td>\n",
       "    </tr>\n",
       "    <tr>\n",
       "      <th>['prospecting_retargeting', 'retargeting']</th>\n",
       "      <td>4</td>\n",
       "    </tr>\n",
       "    <tr>\n",
       "      <th>['prospecting_retargeting', 'retargeting', 'prospecting_retargeting']</th>\n",
       "      <td>3</td>\n",
       "    </tr>\n",
       "    <tr>\n",
       "      <th>['retargeting', 'prospecting', 'retargeting', 'prospecting']</th>\n",
       "      <td>2</td>\n",
       "    </tr>\n",
       "    <tr>\n",
       "      <th>['retargeting', 'prospecting', 'retargeting', 'prospecting', 'retargeting']</th>\n",
       "      <td>2</td>\n",
       "    </tr>\n",
       "    <tr>\n",
       "      <th>['prospecting', 'retargeting', 'prospecting', 'retargeting']</th>\n",
       "      <td>2</td>\n",
       "    </tr>\n",
       "    <tr>\n",
       "      <th>['prospecting', 'retargeting', 'prospecting_retargeting', 'retargeting', 'prospecting_retargeting']</th>\n",
       "      <td>2</td>\n",
       "    </tr>\n",
       "    <tr>\n",
       "      <th>['prospecting_retargeting', 'prospecting']</th>\n",
       "      <td>2</td>\n",
       "    </tr>\n",
       "    <tr>\n",
       "      <th>['prospecting', 'retargeting', 'prospecting', 'retargeting', 'prospecting']</th>\n",
       "      <td>2</td>\n",
       "    </tr>\n",
       "    <tr>\n",
       "      <th>['prospecting_retargeting', 'retargeting', 'prospecting_retargeting', 'retargeting', 'prospecting_retargeting']</th>\n",
       "      <td>2</td>\n",
       "    </tr>\n",
       "    <tr>\n",
       "      <th>['retargeting', 'prospecting', 'prospecting_retargeting', 'retargeting', 'prospecting_retargeting']</th>\n",
       "      <td>2</td>\n",
       "    </tr>\n",
       "    <tr>\n",
       "      <th>['prospecting', 'prospecting_retargeting', 'prospecting', 'prospecting_retargeting', 'prospecting']</th>\n",
       "      <td>1</td>\n",
       "    </tr>\n",
       "    <tr>\n",
       "      <th>['prospecting_retargeting', 'retargeting', 'prospecting_retargeting', 'retargeting']</th>\n",
       "      <td>1</td>\n",
       "    </tr>\n",
       "    <tr>\n",
       "      <th>['prospecting', 'prospecting_retargeting', 'retargeting', 'prospecting_retargeting', 'prospecting']</th>\n",
       "      <td>1</td>\n",
       "    </tr>\n",
       "    <tr>\n",
       "      <th>['prospecting', 'retargeting', 'prospecting_retargeting', 'retargeting']</th>\n",
       "      <td>1</td>\n",
       "    </tr>\n",
       "    <tr>\n",
       "      <th>['prospecting_retargeting', 'prospecting', 'prospecting_retargeting', 'prospecting']</th>\n",
       "      <td>1</td>\n",
       "    </tr>\n",
       "    <tr>\n",
       "      <th>['prospecting', 'prospecting_retargeting', 'retargeting', 'prospecting', 'prospecting_retargeting']</th>\n",
       "      <td>1</td>\n",
       "    </tr>\n",
       "    <tr>\n",
       "      <th>['prospecting', 'retargeting', 'prospecting_retargeting', 'prospecting', 'retargeting']</th>\n",
       "      <td>1</td>\n",
       "    </tr>\n",
       "    <tr>\n",
       "      <th>['prospecting', 'retargeting', 'prospecting_retargeting']</th>\n",
       "      <td>1</td>\n",
       "    </tr>\n",
       "    <tr>\n",
       "      <th>['prospecting', 'prospecting_retargeting', 'retargeting', 'prospecting_retargeting', 'retargeting']</th>\n",
       "      <td>1</td>\n",
       "    </tr>\n",
       "    <tr>\n",
       "      <th>['retargeting', 'prospecting_retargeting', 'retargeting', 'prospecting_retargeting', 'prospecting']</th>\n",
       "      <td>1</td>\n",
       "    </tr>\n",
       "  </tbody>\n",
       "</table>\n",
       "</div>"
      ],
      "text/plain": [
       "                                                    count\n",
       "['retargeting']                                      6921\n",
       "['prospecting']                                      3739\n",
       "['prospecting', 'prospecting_retargeting']             28\n",
       "['retargeting', 'prospecting']                         27\n",
       "['retargeting', 'prospecting_retargeting']             26\n",
       "['prospecting_retargeting']                            16\n",
       "['retargeting', 'prospecting_retargeting', 'ret...     16\n",
       "['retargeting', 'prospecting_retargeting', 'ret...     14\n",
       "['prospecting', 'prospecting_retargeting', 'pro...     13\n",
       "['retargeting', 'prospecting', 'retargeting']          13\n",
       "['prospecting', 'retargeting']                         11\n",
       "['retargeting', 'prospecting_retargeting', 'ret...      5\n",
       "['prospecting', 'prospecting_retargeting', 'ret...      5\n",
       "['prospecting', 'prospecting_retargeting', 'ret...      5\n",
       "['prospecting', 'retargeting', 'prospecting']           5\n",
       "['prospecting_retargeting', 'retargeting']              4\n",
       "['prospecting_retargeting', 'retargeting', 'pro...      3\n",
       "['retargeting', 'prospecting', 'retargeting', '...      2\n",
       "['retargeting', 'prospecting', 'retargeting', '...      2\n",
       "['prospecting', 'retargeting', 'prospecting', '...      2\n",
       "['prospecting', 'retargeting', 'prospecting_ret...      2\n",
       "['prospecting_retargeting', 'prospecting']              2\n",
       "['prospecting', 'retargeting', 'prospecting', '...      2\n",
       "['prospecting_retargeting', 'retargeting', 'pro...      2\n",
       "['retargeting', 'prospecting', 'prospecting_ret...      2\n",
       "['prospecting', 'prospecting_retargeting', 'pro...      1\n",
       "['prospecting_retargeting', 'retargeting', 'pro...      1\n",
       "['prospecting', 'prospecting_retargeting', 'ret...      1\n",
       "['prospecting', 'retargeting', 'prospecting_ret...      1\n",
       "['prospecting_retargeting', 'prospecting', 'pro...      1\n",
       "['prospecting', 'prospecting_retargeting', 'ret...      1\n",
       "['prospecting', 'retargeting', 'prospecting_ret...      1\n",
       "['prospecting', 'retargeting', 'prospecting_ret...      1\n",
       "['prospecting', 'prospecting_retargeting', 'ret...      1\n",
       "['retargeting', 'prospecting_retargeting', 'ret...      1"
      ]
     },
     "execution_count": 160,
     "metadata": {},
     "output_type": "execute_result"
    }
   ],
   "source": [
    "d = pd.DataFrame.from_dict(c, 'index')\n",
    "d.columns = ['count']\n",
    "d.sort_values('count', ascending=False)"
   ]
  },
  {
   "cell_type": "code",
   "execution_count": 161,
   "metadata": {
    "collapsed": false
   },
   "outputs": [
    {
     "data": {
      "text/plain": [
       "<matplotlib.axes._subplots.AxesSubplot at 0x7f223dab5610>"
      ]
     },
     "execution_count": 161,
     "metadata": {},
     "output_type": "execute_result"
    },
    {
     "data": {
      "image/png": "[encoded data removed]",
      "text/plain": [
       "<matplotlib.figure.Figure at 0x7f223dab5d10>"
      ]
     },
     "metadata": {},
     "output_type": "display_data"
    }
   ],
   "source": [
    "d = pd.DataFrame.from_dict(c, 'index')\n",
    "d.columns = ['count']\n",
    "d.sort_values('count', ascending=False).plot.bar(figsize=(20, 10))"
   ]
  }
 ],
 "metadata": {
  "kernelspec": {
   "display_name": "Python 3",
   "language": "python",
   "name": "python3"
  },
  "language_info": {
   "codemirror_mode": {
    "name": "ipython",
    "version": 3
   },
   "file_extension": ".py",
   "mimetype": "text/x-python",
   "name": "python",
   "nbconvert_exporter": "python",
   "pygments_lexer": "ipython3",
   "version": "3.5.2"
  }
 },
 "nbformat": 4,
 "nbformat_minor": 0
}
